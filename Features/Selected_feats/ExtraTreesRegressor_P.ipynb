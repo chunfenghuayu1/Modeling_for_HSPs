{
 "cells": [
  {
   "cell_type": "code",
   "execution_count": 77,
   "metadata": {},
   "outputs": [],
   "source": [
    "import pandas as pd\n",
    "\n",
    "train = pd.read_excel(\"../../Dataset/train_data.xlsx\", index_col=False)\n",
    "test = pd.read_excel(\"../../Dataset/test_data.xlsx\", index_col=False)\n",
    "X_train = train.iloc[:, 6:]\n",
    "y_train = train[\"P\"]\n",
    "\n",
    "X_test = test.iloc[:, 6:]\n",
    "y_test = test[\"P\"]"
   ]
  },
  {
   "cell_type": "code",
   "execution_count": 78,
   "metadata": {},
   "outputs": [],
   "source": [
    "from sklearn.ensemble import ExtraTreesRegressor\n",
    "from sklearn.model_selection import cross_val_score\n",
    "from sklearn.metrics import r2_score\n",
    "from hyperopt import fmin, tpe, hp, Trials, STATUS_OK\n",
    "import numpy as np\n",
    "\n",
    "\n",
    "# Function for hyperparameter optimization using hyperopt\n",
    "def optimize_hyperparameters(X, y, cv=5, max_evals=50):\n",
    "    def objective(params):\n",
    "        model = ExtraTreesRegressor(**params, random_state=42)\n",
    "        scores = cross_val_score(\n",
    "            model, X, y, cv=cv, scoring=\"neg_root_mean_squared_error\", n_jobs=-1\n",
    "        )\n",
    "        return {\"loss\": -np.mean(scores), \"status\": STATUS_OK}\n",
    "\n",
    "    param_space = {\n",
    "        \"n_estimators\": hp.choice(\"n_estimators\", [50, 100, 200]),\n",
    "        \"max_depth\": hp.choice(\"max_depth\", [2, 5, 10]),\n",
    "        \"min_samples_split\": hp.choice(\"min_samples_split\", [2, 5, 10]),\n",
    "        \"min_samples_leaf\": hp.choice(\"min_samples_leaf\", [1, 2, 4]),\n",
    "        \"criterion\": \"friedman_mse\",\n",
    "        \"bootstrap\": True,\n",
    "        \"oob_score\": True,\n",
    "    }\n",
    "\n",
    "    trials = Trials()\n",
    "    best_params = fmin(\n",
    "        fn=objective,\n",
    "        space=param_space,\n",
    "        algo=tpe.suggest,\n",
    "        max_evals=max_evals,\n",
    "        trials=trials,\n",
    "    )\n",
    "\n",
    "    # Convert indices to actual values\n",
    "    best_params[\"n_estimators\"] = [50, 100, 200][best_params[\"n_estimators\"]]\n",
    "    best_params[\"max_depth\"] = [2, 5, 10][best_params[\"max_depth\"]]\n",
    "    best_params[\"min_samples_split\"] = [2, 5, 10][best_params[\"min_samples_split\"]]\n",
    "    best_params[\"min_samples_leaf\"] = [1, 2, 4][best_params[\"min_samples_leaf\"]]\n",
    "    best_params[\"criterion\"] = \"friedman_mse\"\n",
    "    best_params[\"bootstrap\"] = True\n",
    "    best_params[\"oob_score\"] = True\n",
    "\n",
    "    return best_params"
   ]
  },
  {
   "cell_type": "code",
   "execution_count": 79,
   "metadata": {},
   "outputs": [],
   "source": [
    "def get_top_n_features(X_train, y_train, best_params, n):\n",
    "    # Train the ExtraTreesRegressor model\n",
    "    model = ExtraTreesRegressor(**best_params, random_state=42)\n",
    "    model.fit(X_train, y_train)\n",
    "\n",
    "    # Get feature importances\n",
    "    feature_importances = model.feature_importances_\n",
    "\n",
    "    # Create a DataFrame for feature importances\n",
    "    feature_importance_df = pd.DataFrame(\n",
    "        {\"Feature\": X_train.columns, \"Importance\": feature_importances}\n",
    "    )\n",
    "\n",
    "    # Sort features by importance in descending order\n",
    "    feature_importance_df = feature_importance_df.sort_values(\n",
    "        by=\"Importance\", ascending=False\n",
    "    )\n",
    "\n",
    "    feature_importance_df.to_excel(\"../Results/feature_importance_P.xlsx\", index=False)\n",
    "\n",
    "    # Return the top n features\n",
    "    return feature_importance_df.head(n)"
   ]
  },
  {
   "cell_type": "code",
   "execution_count": 80,
   "metadata": {},
   "outputs": [
    {
     "name": "stdout",
     "output_type": "stream",
     "text": [
      "100%|██████████| 50/50 [00:38<00:00,  1.31trial/s, best loss: 2.466319066103496] \n"
     ]
    }
   ],
   "source": [
    "# Optimize hyperparameters\n",
    "best_params = optimize_hyperparameters(X_train, y_train, cv=5)"
   ]
  },
  {
   "cell_type": "code",
   "execution_count": 81,
   "metadata": {},
   "outputs": [
    {
     "name": "stdout",
     "output_type": "stream",
     "text": [
      "Best Parameters: {'max_depth': 10, 'min_samples_leaf': 1, 'min_samples_split': 5, 'n_estimators': 100, 'criterion': 'friedman_mse', 'bootstrap': True, 'oob_score': True}\n"
     ]
    }
   ],
   "source": [
    "print(\"Best Parameters:\", best_params)"
   ]
  },
  {
   "cell_type": "code",
   "execution_count": 82,
   "metadata": {},
   "outputs": [],
   "source": [
    "import json\n",
    "\n",
    "# Save best_params to a JSON file\n",
    "with open(\"../Results/best_params_P.json\", \"w\") as json_file:\n",
    "    json.dump(best_params, json_file)"
   ]
  },
  {
   "cell_type": "code",
   "execution_count": 83,
   "metadata": {},
   "outputs": [
    {
     "data": {
      "application/vnd.microsoft.datawrangler.viewer.v0+json": {
       "columns": [
        {
         "name": "index",
         "rawType": "int64",
         "type": "integer"
        },
        {
         "name": "Feature",
         "rawType": "object",
         "type": "string"
        },
        {
         "name": "Importance",
         "rawType": "float64",
         "type": "float"
        }
       ],
       "conversionMethod": "pd.DataFrame",
       "ref": "44be1527-974a-4a9d-a810-15c51b72ed03",
       "rows": [
        [
         "60",
         "TPSA",
         "0.0689365625944975"
        ],
        [
         "93",
         "MolLogP",
         "0.05780278375492396"
        ],
        [
         "89",
         "NumHeteroatoms",
         "0.048109117835786475"
        ],
        [
         "41",
         "PEOE_VSA6",
         "0.046571123332048464"
        ],
        [
         "79",
         "VSA_EState8",
         "0.038110277888792815"
        ],
        [
         "83",
         "NOCount",
         "0.031913210915920434"
        ],
        [
         "48",
         "SMR_VSA5",
         "0.03010503776036675"
        ],
        [
         "0",
         "MaxAbsEStateIndex",
         "0.028240268810226704"
        ],
        [
         "10",
         "MaxAbsPartialCharge",
         "0.026984669370435695"
        ],
        [
         "87",
         "NumHAcceptors",
         "0.02647244761626779"
        ],
        [
         "1",
         "MaxEStateIndex",
         "0.026112726449941705"
        ],
        [
         "58",
         "SlogP_VSA5",
         "0.020975756511030563"
        ],
        [
         "9",
         "MinPartialCharge",
         "0.01893153089844621"
        ],
        [
         "8",
         "MaxPartialCharge",
         "0.018759996227763275"
        ],
        [
         "18",
         "BCUT2D_CHGLO",
         "0.015215953167288927"
        ],
        [
         "57",
         "SlogP_VSA4",
         "0.014110823174085659"
        ],
        [
         "21",
         "BCUT2D_MRHI",
         "0.013706660750736167"
        ],
        [
         "73",
         "VSA_EState2",
         "0.012684149685053792"
        ],
        [
         "15",
         "BCUT2D_MWHI",
         "0.012443708069364042"
        ],
        [
         "80",
         "VSA_EState9",
         "0.012381518119026573"
        ],
        [
         "38",
         "PEOE_VSA3",
         "0.012005803373577172"
        ],
        [
         "90",
         "NumRotatableBonds",
         "0.011289193835855749"
        ],
        [
         "54",
         "SlogP_VSA12",
         "0.01111772556350954"
        ],
        [
         "33",
         "PEOE_VSA1",
         "0.010093769318468573"
        ],
        [
         "12",
         "FpDensityMorgan1",
         "0.010033570463161596"
        ],
        [
         "30",
         "Kappa2",
         "0.00952909374189687"
        ],
        [
         "46",
         "SMR_VSA10",
         "0.009276279345342468"
        ],
        [
         "39",
         "PEOE_VSA4",
         "0.009226355594766531"
        ],
        [
         "22",
         "BCUT2D_MRLOW",
         "0.009023609271285284"
        ],
        [
         "11",
         "MinAbsPartialCharge",
         "0.008936027514006023"
        ],
        [
         "2",
         "MinAbsEStateIndex",
         "0.008573596633200247"
        ],
        [
         "13",
         "FpDensityMorgan2",
         "0.008390265720529002"
        ],
        [
         "84",
         "NumAliphaticRings",
         "0.008384440762395907"
        ],
        [
         "81",
         "FractionCSP3",
         "0.008338842745225302"
        ],
        [
         "37",
         "PEOE_VSA2",
         "0.007723390885943156"
        ],
        [
         "53",
         "SlogP_VSA10",
         "0.007434100452759429"
        ],
        [
         "55",
         "SlogP_VSA2",
         "0.007412159867212372"
        ],
        [
         "49",
         "SMR_VSA6",
         "0.007378966746489947"
        ],
        [
         "74",
         "VSA_EState3",
         "0.0069608453440889615"
        ],
        [
         "42",
         "PEOE_VSA7",
         "0.006775174799774223"
        ],
        [
         "82",
         "NHOHCount",
         "0.006686528053911691"
        ],
        [
         "99",
         "RadiusOfGyration",
         "0.006586449821538653"
        ],
        [
         "3",
         "MinEStateIndex",
         "0.00632684930248161"
        ],
        [
         "43",
         "PEOE_VSA8",
         "0.005999954125576126"
        ],
        [
         "62",
         "EState_VSA10",
         "0.005892817149213153"
        ],
        [
         "52",
         "SlogP_VSA1",
         "0.005887606082919956"
        ],
        [
         "14",
         "FpDensityMorgan3",
         "0.005884904607817728"
        ],
        [
         "69",
         "EState_VSA8",
         "0.005805687790821895"
        ],
        [
         "7",
         "NumValenceElectrons",
         "0.005467624246955984"
        ],
        [
         "24",
         "BalabanJ",
         "0.005369345887727236"
        ]
       ],
       "shape": {
        "columns": 2,
        "rows": 50
       }
      },
      "text/html": [
       "<div>\n",
       "<style scoped>\n",
       "    .dataframe tbody tr th:only-of-type {\n",
       "        vertical-align: middle;\n",
       "    }\n",
       "\n",
       "    .dataframe tbody tr th {\n",
       "        vertical-align: top;\n",
       "    }\n",
       "\n",
       "    .dataframe thead th {\n",
       "        text-align: right;\n",
       "    }\n",
       "</style>\n",
       "<table border=\"1\" class=\"dataframe\">\n",
       "  <thead>\n",
       "    <tr style=\"text-align: right;\">\n",
       "      <th></th>\n",
       "      <th>Feature</th>\n",
       "      <th>Importance</th>\n",
       "    </tr>\n",
       "  </thead>\n",
       "  <tbody>\n",
       "    <tr>\n",
       "      <th>60</th>\n",
       "      <td>TPSA</td>\n",
       "      <td>0.068937</td>\n",
       "    </tr>\n",
       "    <tr>\n",
       "      <th>93</th>\n",
       "      <td>MolLogP</td>\n",
       "      <td>0.057803</td>\n",
       "    </tr>\n",
       "    <tr>\n",
       "      <th>89</th>\n",
       "      <td>NumHeteroatoms</td>\n",
       "      <td>0.048109</td>\n",
       "    </tr>\n",
       "    <tr>\n",
       "      <th>41</th>\n",
       "      <td>PEOE_VSA6</td>\n",
       "      <td>0.046571</td>\n",
       "    </tr>\n",
       "    <tr>\n",
       "      <th>79</th>\n",
       "      <td>VSA_EState8</td>\n",
       "      <td>0.038110</td>\n",
       "    </tr>\n",
       "    <tr>\n",
       "      <th>83</th>\n",
       "      <td>NOCount</td>\n",
       "      <td>0.031913</td>\n",
       "    </tr>\n",
       "    <tr>\n",
       "      <th>48</th>\n",
       "      <td>SMR_VSA5</td>\n",
       "      <td>0.030105</td>\n",
       "    </tr>\n",
       "    <tr>\n",
       "      <th>0</th>\n",
       "      <td>MaxAbsEStateIndex</td>\n",
       "      <td>0.028240</td>\n",
       "    </tr>\n",
       "    <tr>\n",
       "      <th>10</th>\n",
       "      <td>MaxAbsPartialCharge</td>\n",
       "      <td>0.026985</td>\n",
       "    </tr>\n",
       "    <tr>\n",
       "      <th>87</th>\n",
       "      <td>NumHAcceptors</td>\n",
       "      <td>0.026472</td>\n",
       "    </tr>\n",
       "    <tr>\n",
       "      <th>1</th>\n",
       "      <td>MaxEStateIndex</td>\n",
       "      <td>0.026113</td>\n",
       "    </tr>\n",
       "    <tr>\n",
       "      <th>58</th>\n",
       "      <td>SlogP_VSA5</td>\n",
       "      <td>0.020976</td>\n",
       "    </tr>\n",
       "    <tr>\n",
       "      <th>9</th>\n",
       "      <td>MinPartialCharge</td>\n",
       "      <td>0.018932</td>\n",
       "    </tr>\n",
       "    <tr>\n",
       "      <th>8</th>\n",
       "      <td>MaxPartialCharge</td>\n",
       "      <td>0.018760</td>\n",
       "    </tr>\n",
       "    <tr>\n",
       "      <th>18</th>\n",
       "      <td>BCUT2D_CHGLO</td>\n",
       "      <td>0.015216</td>\n",
       "    </tr>\n",
       "    <tr>\n",
       "      <th>57</th>\n",
       "      <td>SlogP_VSA4</td>\n",
       "      <td>0.014111</td>\n",
       "    </tr>\n",
       "    <tr>\n",
       "      <th>21</th>\n",
       "      <td>BCUT2D_MRHI</td>\n",
       "      <td>0.013707</td>\n",
       "    </tr>\n",
       "    <tr>\n",
       "      <th>73</th>\n",
       "      <td>VSA_EState2</td>\n",
       "      <td>0.012684</td>\n",
       "    </tr>\n",
       "    <tr>\n",
       "      <th>15</th>\n",
       "      <td>BCUT2D_MWHI</td>\n",
       "      <td>0.012444</td>\n",
       "    </tr>\n",
       "    <tr>\n",
       "      <th>80</th>\n",
       "      <td>VSA_EState9</td>\n",
       "      <td>0.012382</td>\n",
       "    </tr>\n",
       "    <tr>\n",
       "      <th>38</th>\n",
       "      <td>PEOE_VSA3</td>\n",
       "      <td>0.012006</td>\n",
       "    </tr>\n",
       "    <tr>\n",
       "      <th>90</th>\n",
       "      <td>NumRotatableBonds</td>\n",
       "      <td>0.011289</td>\n",
       "    </tr>\n",
       "    <tr>\n",
       "      <th>54</th>\n",
       "      <td>SlogP_VSA12</td>\n",
       "      <td>0.011118</td>\n",
       "    </tr>\n",
       "    <tr>\n",
       "      <th>33</th>\n",
       "      <td>PEOE_VSA1</td>\n",
       "      <td>0.010094</td>\n",
       "    </tr>\n",
       "    <tr>\n",
       "      <th>12</th>\n",
       "      <td>FpDensityMorgan1</td>\n",
       "      <td>0.010034</td>\n",
       "    </tr>\n",
       "    <tr>\n",
       "      <th>30</th>\n",
       "      <td>Kappa2</td>\n",
       "      <td>0.009529</td>\n",
       "    </tr>\n",
       "    <tr>\n",
       "      <th>46</th>\n",
       "      <td>SMR_VSA10</td>\n",
       "      <td>0.009276</td>\n",
       "    </tr>\n",
       "    <tr>\n",
       "      <th>39</th>\n",
       "      <td>PEOE_VSA4</td>\n",
       "      <td>0.009226</td>\n",
       "    </tr>\n",
       "    <tr>\n",
       "      <th>22</th>\n",
       "      <td>BCUT2D_MRLOW</td>\n",
       "      <td>0.009024</td>\n",
       "    </tr>\n",
       "    <tr>\n",
       "      <th>11</th>\n",
       "      <td>MinAbsPartialCharge</td>\n",
       "      <td>0.008936</td>\n",
       "    </tr>\n",
       "    <tr>\n",
       "      <th>2</th>\n",
       "      <td>MinAbsEStateIndex</td>\n",
       "      <td>0.008574</td>\n",
       "    </tr>\n",
       "    <tr>\n",
       "      <th>13</th>\n",
       "      <td>FpDensityMorgan2</td>\n",
       "      <td>0.008390</td>\n",
       "    </tr>\n",
       "    <tr>\n",
       "      <th>84</th>\n",
       "      <td>NumAliphaticRings</td>\n",
       "      <td>0.008384</td>\n",
       "    </tr>\n",
       "    <tr>\n",
       "      <th>81</th>\n",
       "      <td>FractionCSP3</td>\n",
       "      <td>0.008339</td>\n",
       "    </tr>\n",
       "    <tr>\n",
       "      <th>37</th>\n",
       "      <td>PEOE_VSA2</td>\n",
       "      <td>0.007723</td>\n",
       "    </tr>\n",
       "    <tr>\n",
       "      <th>53</th>\n",
       "      <td>SlogP_VSA10</td>\n",
       "      <td>0.007434</td>\n",
       "    </tr>\n",
       "    <tr>\n",
       "      <th>55</th>\n",
       "      <td>SlogP_VSA2</td>\n",
       "      <td>0.007412</td>\n",
       "    </tr>\n",
       "    <tr>\n",
       "      <th>49</th>\n",
       "      <td>SMR_VSA6</td>\n",
       "      <td>0.007379</td>\n",
       "    </tr>\n",
       "    <tr>\n",
       "      <th>74</th>\n",
       "      <td>VSA_EState3</td>\n",
       "      <td>0.006961</td>\n",
       "    </tr>\n",
       "    <tr>\n",
       "      <th>42</th>\n",
       "      <td>PEOE_VSA7</td>\n",
       "      <td>0.006775</td>\n",
       "    </tr>\n",
       "    <tr>\n",
       "      <th>82</th>\n",
       "      <td>NHOHCount</td>\n",
       "      <td>0.006687</td>\n",
       "    </tr>\n",
       "    <tr>\n",
       "      <th>99</th>\n",
       "      <td>RadiusOfGyration</td>\n",
       "      <td>0.006586</td>\n",
       "    </tr>\n",
       "    <tr>\n",
       "      <th>3</th>\n",
       "      <td>MinEStateIndex</td>\n",
       "      <td>0.006327</td>\n",
       "    </tr>\n",
       "    <tr>\n",
       "      <th>43</th>\n",
       "      <td>PEOE_VSA8</td>\n",
       "      <td>0.006000</td>\n",
       "    </tr>\n",
       "    <tr>\n",
       "      <th>62</th>\n",
       "      <td>EState_VSA10</td>\n",
       "      <td>0.005893</td>\n",
       "    </tr>\n",
       "    <tr>\n",
       "      <th>52</th>\n",
       "      <td>SlogP_VSA1</td>\n",
       "      <td>0.005888</td>\n",
       "    </tr>\n",
       "    <tr>\n",
       "      <th>14</th>\n",
       "      <td>FpDensityMorgan3</td>\n",
       "      <td>0.005885</td>\n",
       "    </tr>\n",
       "    <tr>\n",
       "      <th>69</th>\n",
       "      <td>EState_VSA8</td>\n",
       "      <td>0.005806</td>\n",
       "    </tr>\n",
       "    <tr>\n",
       "      <th>7</th>\n",
       "      <td>NumValenceElectrons</td>\n",
       "      <td>0.005468</td>\n",
       "    </tr>\n",
       "    <tr>\n",
       "      <th>24</th>\n",
       "      <td>BalabanJ</td>\n",
       "      <td>0.005369</td>\n",
       "    </tr>\n",
       "  </tbody>\n",
       "</table>\n",
       "</div>"
      ],
      "text/plain": [
       "                Feature  Importance\n",
       "60                 TPSA    0.068937\n",
       "93              MolLogP    0.057803\n",
       "89       NumHeteroatoms    0.048109\n",
       "41            PEOE_VSA6    0.046571\n",
       "79          VSA_EState8    0.038110\n",
       "83              NOCount    0.031913\n",
       "48             SMR_VSA5    0.030105\n",
       "0     MaxAbsEStateIndex    0.028240\n",
       "10  MaxAbsPartialCharge    0.026985\n",
       "87        NumHAcceptors    0.026472\n",
       "1        MaxEStateIndex    0.026113\n",
       "58           SlogP_VSA5    0.020976\n",
       "9      MinPartialCharge    0.018932\n",
       "8      MaxPartialCharge    0.018760\n",
       "18         BCUT2D_CHGLO    0.015216\n",
       "57           SlogP_VSA4    0.014111\n",
       "21          BCUT2D_MRHI    0.013707\n",
       "73          VSA_EState2    0.012684\n",
       "15          BCUT2D_MWHI    0.012444\n",
       "80          VSA_EState9    0.012382\n",
       "38            PEOE_VSA3    0.012006\n",
       "90    NumRotatableBonds    0.011289\n",
       "54          SlogP_VSA12    0.011118\n",
       "33            PEOE_VSA1    0.010094\n",
       "12     FpDensityMorgan1    0.010034\n",
       "30               Kappa2    0.009529\n",
       "46            SMR_VSA10    0.009276\n",
       "39            PEOE_VSA4    0.009226\n",
       "22         BCUT2D_MRLOW    0.009024\n",
       "11  MinAbsPartialCharge    0.008936\n",
       "2     MinAbsEStateIndex    0.008574\n",
       "13     FpDensityMorgan2    0.008390\n",
       "84    NumAliphaticRings    0.008384\n",
       "81         FractionCSP3    0.008339\n",
       "37            PEOE_VSA2    0.007723\n",
       "53          SlogP_VSA10    0.007434\n",
       "55           SlogP_VSA2    0.007412\n",
       "49             SMR_VSA6    0.007379\n",
       "74          VSA_EState3    0.006961\n",
       "42            PEOE_VSA7    0.006775\n",
       "82            NHOHCount    0.006687\n",
       "99     RadiusOfGyration    0.006586\n",
       "3        MinEStateIndex    0.006327\n",
       "43            PEOE_VSA8    0.006000\n",
       "62         EState_VSA10    0.005893\n",
       "52           SlogP_VSA1    0.005888\n",
       "14     FpDensityMorgan3    0.005885\n",
       "69          EState_VSA8    0.005806\n",
       "7   NumValenceElectrons    0.005468\n",
       "24             BalabanJ    0.005369"
      ]
     },
     "execution_count": 83,
     "metadata": {},
     "output_type": "execute_result"
    }
   ],
   "source": [
    "# Train and evaluate model\n",
    "top_n_features = get_top_n_features(X_train, y_train, best_params, 50)\n",
    "top_n_features"
   ]
  },
  {
   "cell_type": "code",
   "execution_count": 84,
   "metadata": {},
   "outputs": [],
   "source": [
    "import matplotlib.pyplot as plt\n",
    "\n",
    "\n",
    "def plot_r2_vs_features(\n",
    "    X_train, y_train, X_test, y_test, best_params, top_n_features, max_features\n",
    "):\n",
    "    r2_scores_train = []\n",
    "    r2_scores_test = []\n",
    "\n",
    "    for n in range(1, max_features + 1):\n",
    "        # Select top n features\n",
    "        features = top_n_features[\"Feature\"][:n]\n",
    "\n",
    "        # Train model with top n features\n",
    "        model = ExtraTreesRegressor(**best_params, random_state=42)\n",
    "        X_train_top_n = X_train[features]\n",
    "        X_test_top_n = X_test[features]\n",
    "        model.fit(X_train_top_n, y_train)\n",
    "\n",
    "        # Evaluate R²\n",
    "        r2_train = r2_score(y_train, model.predict(X_train_top_n))\n",
    "        r2_test = r2_score(y_test, model.predict(X_test_top_n))\n",
    "\n",
    "        r2_scores_train.append(r2_train)\n",
    "        r2_scores_test.append(r2_test)\n",
    "\n",
    "    # Plot R² vs number of features\n",
    "    plt.figure(figsize=(10, 6))\n",
    "    plt.plot(range(1, max_features + 1), r2_scores_train, label=\"Train R²\", marker=\"o\")\n",
    "    plt.plot(range(1, max_features + 1), r2_scores_test, label=\"Test R²\", marker=\"o\")\n",
    "    plt.xlabel(\"Number of Features\")\n",
    "    plt.ylabel(\"R² Score\")\n",
    "    plt.title(\"R² Score vs Number of Features\")\n",
    "    plt.legend()\n",
    "    plt.grid()\n",
    "    plt.show()\n",
    "\n",
    "    selected_result = pd.DataFrame(\n",
    "        {\n",
    "            \"r2_scores_train\": r2_scores_train,\n",
    "            \"r2_scores_test\": r2_scores_test,\n",
    "        }\n",
    "    )\n",
    "\n",
    "    selected_result.to_excel(\"../Results/top_n_feats_P.xlsx\")"
   ]
  },
  {
   "cell_type": "code",
   "execution_count": 85,
   "metadata": {},
   "outputs": [
    {
     "data": {
      "image/png": "[encoded data removed]",
      "text/plain": [
       "<Figure size 1000x600 with 1 Axes>"
      ]
     },
     "metadata": {},
     "output_type": "display_data"
    }
   ],
   "source": [
    "# Example usage for D\n",
    "plot_r2_vs_features(\n",
    "    X_train, y_train, X_test, y_test, best_params, top_n_features, len(top_n_features)\n",
    ")"
   ]
  }
 ],
 "metadata": {
  "kernelspec": {
   "display_name": "py311",
   "language": "python",
   "name": "python3"
  },
  "language_info": {
   "codemirror_mode": {
    "name": "ipython",
    "version": 3
   },
   "file_extension": ".py",
   "mimetype": "text/x-python",
   "name": "python",
   "nbconvert_exporter": "python",
   "pygments_lexer": "ipython3",
   "version": "3.11.11"
  }
 },
 "nbformat": 4,
 "nbformat_minor": 2
}
