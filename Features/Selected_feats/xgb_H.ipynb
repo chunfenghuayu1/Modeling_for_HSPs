{
 "cells": [
  {
   "cell_type": "code",
   "execution_count": 1,
   "metadata": {},
   "outputs": [],
   "source": [
    "import pandas as pd\n",
    "\n",
    "train = pd.read_excel(\"../../Dataset/train_data.xlsx\", index_col=False)\n",
    "test = pd.read_excel(\"../../Dataset/test_data.xlsx\", index_col=False)\n",
    "X_train = train.iloc[:, 6:]\n",
    "y_train = train[\"H\"]\n",
    "\n",
    "X_test = test.iloc[:, 6:]\n",
    "y_test = test[\"H\"]"
   ]
  },
  {
   "cell_type": "code",
   "execution_count": 2,
   "metadata": {},
   "outputs": [],
   "source": [
    "from sklearn.ensemble import ExtraTreesRegressor\n",
    "from sklearn.model_selection import cross_val_score\n",
    "from sklearn.metrics import r2_score\n",
    "from hyperopt import fmin, tpe, hp, Trials, STATUS_OK\n",
    "import numpy as np\n",
    "from xgboost import XGBRegressor\n",
    "\n",
    "\n",
    "# Function for hyperparameter optimization using hyperopt\n",
    "def optimize_hyperparameters(X, y, cv=5, max_evals=50):\n",
    "    def objective(params):\n",
    "        model = XGBRegressor(\n",
    "            **params, random_state=42, use_label_encoder=False, eval_metric=\"rmse\"\n",
    "        )\n",
    "        scores = cross_val_score(\n",
    "            model, X, y, cv=cv, scoring=\"neg_root_mean_squared_error\", n_jobs=-1\n",
    "        )\n",
    "        return {\"loss\": -np.mean(scores), \"status\": STATUS_OK}\n",
    "\n",
    "    param_space = {\n",
    "        \"n_estimators\": hp.choice(\"n_estimators\", [50, 100, 200]),\n",
    "        \"max_depth\": hp.choice(\"max_depth\", [3, 6, 9, 12]),\n",
    "        \"colsample_bytree\": hp.uniform(\"colsample_bytree\", 0.5, 1.0),\n",
    "        \"gamma\": hp.uniform(\"gamma\", 0, 5),\n",
    "        \"reg_alpha\": hp.quniform(\"reg_alpha\", 0, 180, 1),\n",
    "        \"reg_lambda\": hp.uniform(\"reg_lambda\", 0, 1),\n",
    "        \"min_child_weight\": hp.choice(\"min_child_weight\", [1, 3, 5]),\n",
    "    }\n",
    "\n",
    "    trials = Trials()\n",
    "    best_params = fmin(\n",
    "        fn=objective,\n",
    "        space=param_space,\n",
    "        algo=tpe.suggest,\n",
    "        max_evals=max_evals,\n",
    "        trials=trials,\n",
    "    )\n",
    "\n",
    "    # Convert indices to actual values\n",
    "    best_params[\"n_estimators\"] = [50, 100, 200][best_params[\"n_estimators\"]]\n",
    "    best_params[\"max_depth\"] = [3, 6, 9, 12][best_params[\"max_depth\"]]\n",
    "    best_params[\"min_child_weight\"] = [1, 3, 5][best_params[\"min_child_weight\"]]\n",
    "\n",
    "    return best_params"
   ]
  },
  {
   "cell_type": "code",
   "execution_count": 3,
   "metadata": {},
   "outputs": [],
   "source": [
    "def get_top_n_features(X_train, y_train, best_params, n):\n",
    "    # Train the ExtraTreesRegressor model\n",
    "    model = XGBRegressor(**best_params, random_state=42)\n",
    "    model.fit(X_train, y_train)\n",
    "\n",
    "    # Get feature importances\n",
    "    feature_importances = model.feature_importances_\n",
    "\n",
    "    # Create a DataFrame for feature importances\n",
    "    feature_importance_df = pd.DataFrame(\n",
    "        {\"Feature\": X_train.columns, \"Importance\": feature_importances}\n",
    "    )\n",
    "\n",
    "    # Sort features by importance in descending order\n",
    "    feature_importance_df = feature_importance_df.sort_values(\n",
    "        by=\"Importance\", ascending=False\n",
    "    )\n",
    "\n",
    "    feature_importance_df.to_excel(\n",
    "        \"../Results/xgb_feature_importance_H.xlsx\", index=False\n",
    "    )\n",
    "    # Return the top n features\n",
    "    return feature_importance_df.head(n)"
   ]
  },
  {
   "cell_type": "code",
   "execution_count": 4,
   "metadata": {},
   "outputs": [
    {
     "name": "stdout",
     "output_type": "stream",
     "text": [
      "  0%|          | 0/50 [00:00<?, ?trial/s, best loss=?]"
     ]
    },
    {
     "name": "stdout",
     "output_type": "stream",
     "text": [
      "100%|██████████| 50/50 [00:23<00:00,  2.17trial/s, best loss: 2.5843847282383114]\n"
     ]
    }
   ],
   "source": [
    "# Optimize hyperparameters\n",
    "best_params = optimize_hyperparameters(X_train, y_train, cv=5)"
   ]
  },
  {
   "cell_type": "code",
   "execution_count": 5,
   "metadata": {},
   "outputs": [
    {
     "name": "stdout",
     "output_type": "stream",
     "text": [
      "Best Parameters: {'colsample_bytree': 0.9521177375431232, 'gamma': 1.4222578283633793, 'max_depth': 3, 'min_child_weight': 1, 'n_estimators': 50, 'reg_alpha': 0.0, 'reg_lambda': 0.6853172145866745}\n"
     ]
    }
   ],
   "source": [
    "print(\"Best Parameters:\", best_params)"
   ]
  },
  {
   "cell_type": "code",
   "execution_count": 6,
   "metadata": {},
   "outputs": [],
   "source": [
    "import json\n",
    "\n",
    "# Save best_params to a JSON file\n",
    "with open(\"../Results/xgb_best_params_H.json\", \"w\") as json_file:\n",
    "    json.dump(best_params, json_file)"
   ]
  },
  {
   "cell_type": "code",
   "execution_count": 7,
   "metadata": {},
   "outputs": [
    {
     "data": {
      "application/vnd.microsoft.datawrangler.viewer.v0+json": {
       "columns": [
        {
         "name": "index",
         "rawType": "int64",
         "type": "integer"
        },
        {
         "name": "Feature",
         "rawType": "object",
         "type": "string"
        },
        {
         "name": "Importance",
         "rawType": "float32",
         "type": "float"
        }
       ],
       "conversionMethod": "pd.DataFrame",
       "ref": "81dfd649-0441-453a-8ce4-3dfee9b30667",
       "rows": [
        [
         "82",
         "NHOHCount",
         "0.41112572"
        ],
        [
         "61",
         "EState_VSA1",
         "0.09327159"
        ],
        [
         "34",
         "PEOE_VSA10",
         "0.056370243"
        ],
        [
         "87",
         "NumHAcceptors",
         "0.046548285"
        ],
        [
         "88",
         "NumHDonors",
         "0.03967928"
        ],
        [
         "79",
         "VSA_EState8",
         "0.029100273"
        ],
        [
         "45",
         "SMR_VSA1",
         "0.025413372"
        ],
        [
         "26",
         "Chi1v",
         "0.025318153"
        ],
        [
         "93",
         "MolLogP",
         "0.021241244"
        ],
        [
         "16",
         "BCUT2D_MWLOW",
         "0.015566532"
        ],
        [
         "74",
         "VSA_EState3",
         "0.014675304"
        ],
        [
         "78",
         "VSA_EState7",
         "0.0134141985"
        ],
        [
         "17",
         "BCUT2D_CHGHI",
         "0.012568945"
        ],
        [
         "24",
         "BalabanJ",
         "0.009365615"
        ],
        [
         "7",
         "NumValenceElectrons",
         "0.007750036"
        ],
        [
         "9",
         "MinPartialCharge",
         "0.007200972"
        ],
        [
         "21",
         "BCUT2D_MRHI",
         "0.0070746345"
        ],
        [
         "56",
         "SlogP_VSA3",
         "0.007031087"
        ],
        [
         "29",
         "Ipc",
         "0.0068815295"
        ],
        [
         "65",
         "EState_VSA4",
         "0.0065131756"
        ],
        [
         "97",
         "PMI1",
         "0.006402739"
        ],
        [
         "12",
         "FpDensityMorgan1",
         "0.006229077"
        ],
        [
         "48",
         "SMR_VSA5",
         "0.0060920594"
        ],
        [
         "14",
         "FpDensityMorgan3",
         "0.005741833"
        ],
        [
         "4",
         "qed",
         "0.005626146"
        ],
        [
         "22",
         "BCUT2D_MRLOW",
         "0.0048174527"
        ],
        [
         "8",
         "MaxPartialCharge",
         "0.004593531"
        ],
        [
         "15",
         "BCUT2D_MWHI",
         "0.004527113"
        ],
        [
         "13",
         "FpDensityMorgan2",
         "0.004427252"
        ],
        [
         "57",
         "SlogP_VSA4",
         "0.0041888785"
        ],
        [
         "54",
         "SlogP_VSA12",
         "0.0041594454"
        ],
        [
         "53",
         "SlogP_VSA10",
         "0.0034979673"
        ],
        [
         "46",
         "SMR_VSA10",
         "0.0034622294"
        ],
        [
         "11",
         "MinAbsPartialCharge",
         "0.0031100563"
        ],
        [
         "2",
         "MinAbsEStateIndex",
         "0.0030317542"
        ],
        [
         "60",
         "TPSA",
         "0.0029758036"
        ],
        [
         "30",
         "Kappa2",
         "0.0028305259"
        ],
        [
         "37",
         "PEOE_VSA2",
         "0.0026822514"
        ],
        [
         "75",
         "VSA_EState4",
         "0.0025678165"
        ],
        [
         "27",
         "Chi4v",
         "0.0024974085"
        ],
        [
         "52",
         "SlogP_VSA1",
         "0.0023928762"
        ],
        [
         "94",
         "Asphericity",
         "0.0022972838"
        ],
        [
         "50",
         "SMR_VSA7",
         "0.0022803345"
        ],
        [
         "69",
         "EState_VSA8",
         "0.0022098168"
        ],
        [
         "33",
         "PEOE_VSA1",
         "0.00220858"
        ],
        [
         "36",
         "PEOE_VSA14",
         "0.0021000516"
        ],
        [
         "80",
         "VSA_EState9",
         "0.0020593796"
        ],
        [
         "10",
         "MaxAbsPartialCharge",
         "0.002044811"
        ],
        [
         "76",
         "VSA_EState5",
         "0.002009694"
        ],
        [
         "98",
         "PMI3",
         "0.0019209904"
        ]
       ],
       "shape": {
        "columns": 2,
        "rows": 50
       }
      },
      "text/html": [
       "<div>\n",
       "<style scoped>\n",
       "    .dataframe tbody tr th:only-of-type {\n",
       "        vertical-align: middle;\n",
       "    }\n",
       "\n",
       "    .dataframe tbody tr th {\n",
       "        vertical-align: top;\n",
       "    }\n",
       "\n",
       "    .dataframe thead th {\n",
       "        text-align: right;\n",
       "    }\n",
       "</style>\n",
       "<table border=\"1\" class=\"dataframe\">\n",
       "  <thead>\n",
       "    <tr style=\"text-align: right;\">\n",
       "      <th></th>\n",
       "      <th>Feature</th>\n",
       "      <th>Importance</th>\n",
       "    </tr>\n",
       "  </thead>\n",
       "  <tbody>\n",
       "    <tr>\n",
       "      <th>82</th>\n",
       "      <td>NHOHCount</td>\n",
       "      <td>0.411126</td>\n",
       "    </tr>\n",
       "    <tr>\n",
       "      <th>61</th>\n",
       "      <td>EState_VSA1</td>\n",
       "      <td>0.093272</td>\n",
       "    </tr>\n",
       "    <tr>\n",
       "      <th>34</th>\n",
       "      <td>PEOE_VSA10</td>\n",
       "      <td>0.056370</td>\n",
       "    </tr>\n",
       "    <tr>\n",
       "      <th>87</th>\n",
       "      <td>NumHAcceptors</td>\n",
       "      <td>0.046548</td>\n",
       "    </tr>\n",
       "    <tr>\n",
       "      <th>88</th>\n",
       "      <td>NumHDonors</td>\n",
       "      <td>0.039679</td>\n",
       "    </tr>\n",
       "    <tr>\n",
       "      <th>79</th>\n",
       "      <td>VSA_EState8</td>\n",
       "      <td>0.029100</td>\n",
       "    </tr>\n",
       "    <tr>\n",
       "      <th>45</th>\n",
       "      <td>SMR_VSA1</td>\n",
       "      <td>0.025413</td>\n",
       "    </tr>\n",
       "    <tr>\n",
       "      <th>26</th>\n",
       "      <td>Chi1v</td>\n",
       "      <td>0.025318</td>\n",
       "    </tr>\n",
       "    <tr>\n",
       "      <th>93</th>\n",
       "      <td>MolLogP</td>\n",
       "      <td>0.021241</td>\n",
       "    </tr>\n",
       "    <tr>\n",
       "      <th>16</th>\n",
       "      <td>BCUT2D_MWLOW</td>\n",
       "      <td>0.015567</td>\n",
       "    </tr>\n",
       "    <tr>\n",
       "      <th>74</th>\n",
       "      <td>VSA_EState3</td>\n",
       "      <td>0.014675</td>\n",
       "    </tr>\n",
       "    <tr>\n",
       "      <th>78</th>\n",
       "      <td>VSA_EState7</td>\n",
       "      <td>0.013414</td>\n",
       "    </tr>\n",
       "    <tr>\n",
       "      <th>17</th>\n",
       "      <td>BCUT2D_CHGHI</td>\n",
       "      <td>0.012569</td>\n",
       "    </tr>\n",
       "    <tr>\n",
       "      <th>24</th>\n",
       "      <td>BalabanJ</td>\n",
       "      <td>0.009366</td>\n",
       "    </tr>\n",
       "    <tr>\n",
       "      <th>7</th>\n",
       "      <td>NumValenceElectrons</td>\n",
       "      <td>0.007750</td>\n",
       "    </tr>\n",
       "    <tr>\n",
       "      <th>9</th>\n",
       "      <td>MinPartialCharge</td>\n",
       "      <td>0.007201</td>\n",
       "    </tr>\n",
       "    <tr>\n",
       "      <th>21</th>\n",
       "      <td>BCUT2D_MRHI</td>\n",
       "      <td>0.007075</td>\n",
       "    </tr>\n",
       "    <tr>\n",
       "      <th>56</th>\n",
       "      <td>SlogP_VSA3</td>\n",
       "      <td>0.007031</td>\n",
       "    </tr>\n",
       "    <tr>\n",
       "      <th>29</th>\n",
       "      <td>Ipc</td>\n",
       "      <td>0.006882</td>\n",
       "    </tr>\n",
       "    <tr>\n",
       "      <th>65</th>\n",
       "      <td>EState_VSA4</td>\n",
       "      <td>0.006513</td>\n",
       "    </tr>\n",
       "    <tr>\n",
       "      <th>97</th>\n",
       "      <td>PMI1</td>\n",
       "      <td>0.006403</td>\n",
       "    </tr>\n",
       "    <tr>\n",
       "      <th>12</th>\n",
       "      <td>FpDensityMorgan1</td>\n",
       "      <td>0.006229</td>\n",
       "    </tr>\n",
       "    <tr>\n",
       "      <th>48</th>\n",
       "      <td>SMR_VSA5</td>\n",
       "      <td>0.006092</td>\n",
       "    </tr>\n",
       "    <tr>\n",
       "      <th>14</th>\n",
       "      <td>FpDensityMorgan3</td>\n",
       "      <td>0.005742</td>\n",
       "    </tr>\n",
       "    <tr>\n",
       "      <th>4</th>\n",
       "      <td>qed</td>\n",
       "      <td>0.005626</td>\n",
       "    </tr>\n",
       "    <tr>\n",
       "      <th>22</th>\n",
       "      <td>BCUT2D_MRLOW</td>\n",
       "      <td>0.004817</td>\n",
       "    </tr>\n",
       "    <tr>\n",
       "      <th>8</th>\n",
       "      <td>MaxPartialCharge</td>\n",
       "      <td>0.004594</td>\n",
       "    </tr>\n",
       "    <tr>\n",
       "      <th>15</th>\n",
       "      <td>BCUT2D_MWHI</td>\n",
       "      <td>0.004527</td>\n",
       "    </tr>\n",
       "    <tr>\n",
       "      <th>13</th>\n",
       "      <td>FpDensityMorgan2</td>\n",
       "      <td>0.004427</td>\n",
       "    </tr>\n",
       "    <tr>\n",
       "      <th>57</th>\n",
       "      <td>SlogP_VSA4</td>\n",
       "      <td>0.004189</td>\n",
       "    </tr>\n",
       "    <tr>\n",
       "      <th>54</th>\n",
       "      <td>SlogP_VSA12</td>\n",
       "      <td>0.004159</td>\n",
       "    </tr>\n",
       "    <tr>\n",
       "      <th>53</th>\n",
       "      <td>SlogP_VSA10</td>\n",
       "      <td>0.003498</td>\n",
       "    </tr>\n",
       "    <tr>\n",
       "      <th>46</th>\n",
       "      <td>SMR_VSA10</td>\n",
       "      <td>0.003462</td>\n",
       "    </tr>\n",
       "    <tr>\n",
       "      <th>11</th>\n",
       "      <td>MinAbsPartialCharge</td>\n",
       "      <td>0.003110</td>\n",
       "    </tr>\n",
       "    <tr>\n",
       "      <th>2</th>\n",
       "      <td>MinAbsEStateIndex</td>\n",
       "      <td>0.003032</td>\n",
       "    </tr>\n",
       "    <tr>\n",
       "      <th>60</th>\n",
       "      <td>TPSA</td>\n",
       "      <td>0.002976</td>\n",
       "    </tr>\n",
       "    <tr>\n",
       "      <th>30</th>\n",
       "      <td>Kappa2</td>\n",
       "      <td>0.002831</td>\n",
       "    </tr>\n",
       "    <tr>\n",
       "      <th>37</th>\n",
       "      <td>PEOE_VSA2</td>\n",
       "      <td>0.002682</td>\n",
       "    </tr>\n",
       "    <tr>\n",
       "      <th>75</th>\n",
       "      <td>VSA_EState4</td>\n",
       "      <td>0.002568</td>\n",
       "    </tr>\n",
       "    <tr>\n",
       "      <th>27</th>\n",
       "      <td>Chi4v</td>\n",
       "      <td>0.002497</td>\n",
       "    </tr>\n",
       "    <tr>\n",
       "      <th>52</th>\n",
       "      <td>SlogP_VSA1</td>\n",
       "      <td>0.002393</td>\n",
       "    </tr>\n",
       "    <tr>\n",
       "      <th>94</th>\n",
       "      <td>Asphericity</td>\n",
       "      <td>0.002297</td>\n",
       "    </tr>\n",
       "    <tr>\n",
       "      <th>50</th>\n",
       "      <td>SMR_VSA7</td>\n",
       "      <td>0.002280</td>\n",
       "    </tr>\n",
       "    <tr>\n",
       "      <th>69</th>\n",
       "      <td>EState_VSA8</td>\n",
       "      <td>0.002210</td>\n",
       "    </tr>\n",
       "    <tr>\n",
       "      <th>33</th>\n",
       "      <td>PEOE_VSA1</td>\n",
       "      <td>0.002209</td>\n",
       "    </tr>\n",
       "    <tr>\n",
       "      <th>36</th>\n",
       "      <td>PEOE_VSA14</td>\n",
       "      <td>0.002100</td>\n",
       "    </tr>\n",
       "    <tr>\n",
       "      <th>80</th>\n",
       "      <td>VSA_EState9</td>\n",
       "      <td>0.002059</td>\n",
       "    </tr>\n",
       "    <tr>\n",
       "      <th>10</th>\n",
       "      <td>MaxAbsPartialCharge</td>\n",
       "      <td>0.002045</td>\n",
       "    </tr>\n",
       "    <tr>\n",
       "      <th>76</th>\n",
       "      <td>VSA_EState5</td>\n",
       "      <td>0.002010</td>\n",
       "    </tr>\n",
       "    <tr>\n",
       "      <th>98</th>\n",
       "      <td>PMI3</td>\n",
       "      <td>0.001921</td>\n",
       "    </tr>\n",
       "  </tbody>\n",
       "</table>\n",
       "</div>"
      ],
      "text/plain": [
       "                Feature  Importance\n",
       "82            NHOHCount    0.411126\n",
       "61          EState_VSA1    0.093272\n",
       "34           PEOE_VSA10    0.056370\n",
       "87        NumHAcceptors    0.046548\n",
       "88           NumHDonors    0.039679\n",
       "79          VSA_EState8    0.029100\n",
       "45             SMR_VSA1    0.025413\n",
       "26                Chi1v    0.025318\n",
       "93              MolLogP    0.021241\n",
       "16         BCUT2D_MWLOW    0.015567\n",
       "74          VSA_EState3    0.014675\n",
       "78          VSA_EState7    0.013414\n",
       "17         BCUT2D_CHGHI    0.012569\n",
       "24             BalabanJ    0.009366\n",
       "7   NumValenceElectrons    0.007750\n",
       "9      MinPartialCharge    0.007201\n",
       "21          BCUT2D_MRHI    0.007075\n",
       "56           SlogP_VSA3    0.007031\n",
       "29                  Ipc    0.006882\n",
       "65          EState_VSA4    0.006513\n",
       "97                 PMI1    0.006403\n",
       "12     FpDensityMorgan1    0.006229\n",
       "48             SMR_VSA5    0.006092\n",
       "14     FpDensityMorgan3    0.005742\n",
       "4                   qed    0.005626\n",
       "22         BCUT2D_MRLOW    0.004817\n",
       "8      MaxPartialCharge    0.004594\n",
       "15          BCUT2D_MWHI    0.004527\n",
       "13     FpDensityMorgan2    0.004427\n",
       "57           SlogP_VSA4    0.004189\n",
       "54          SlogP_VSA12    0.004159\n",
       "53          SlogP_VSA10    0.003498\n",
       "46            SMR_VSA10    0.003462\n",
       "11  MinAbsPartialCharge    0.003110\n",
       "2     MinAbsEStateIndex    0.003032\n",
       "60                 TPSA    0.002976\n",
       "30               Kappa2    0.002831\n",
       "37            PEOE_VSA2    0.002682\n",
       "75          VSA_EState4    0.002568\n",
       "27                Chi4v    0.002497\n",
       "52           SlogP_VSA1    0.002393\n",
       "94          Asphericity    0.002297\n",
       "50             SMR_VSA7    0.002280\n",
       "69          EState_VSA8    0.002210\n",
       "33            PEOE_VSA1    0.002209\n",
       "36           PEOE_VSA14    0.002100\n",
       "80          VSA_EState9    0.002059\n",
       "10  MaxAbsPartialCharge    0.002045\n",
       "76          VSA_EState5    0.002010\n",
       "98                 PMI3    0.001921"
      ]
     },
     "execution_count": 7,
     "metadata": {},
     "output_type": "execute_result"
    }
   ],
   "source": [
    "# Train and evaluate model\n",
    "top_n_features = get_top_n_features(X_train, y_train, best_params, 50)\n",
    "top_n_features"
   ]
  },
  {
   "cell_type": "code",
   "execution_count": 8,
   "metadata": {},
   "outputs": [],
   "source": [
    "import matplotlib.pyplot as plt\n",
    "\n",
    "\n",
    "def plot_r2_vs_features(\n",
    "    X_train, y_train, X_test, y_test, best_params, top_n_features, max_features\n",
    "):\n",
    "    r2_scores_train = []\n",
    "    r2_scores_test = []\n",
    "\n",
    "    for n in range(1, max_features + 1):\n",
    "        # Select top n features\n",
    "        features = top_n_features[\"Feature\"][:n]\n",
    "\n",
    "        # Train model with top n features\n",
    "        model = XGBRegressor(**best_params, random_state=42)\n",
    "        X_train_top_n = X_train[features]\n",
    "        X_test_top_n = X_test[features]\n",
    "        model.fit(X_train_top_n, y_train)\n",
    "\n",
    "        # Evaluate R²\n",
    "        r2_train = r2_score(y_train, model.predict(X_train_top_n))\n",
    "        r2_test = r2_score(y_test, model.predict(X_test_top_n))\n",
    "\n",
    "        r2_scores_train.append(r2_train)\n",
    "        r2_scores_test.append(r2_test)\n",
    "\n",
    "    # Plot R² vs number of features\n",
    "    plt.figure(figsize=(10, 6))\n",
    "    plt.plot(range(1, max_features + 1), r2_scores_train, label=\"Train R²\", marker=\"o\")\n",
    "    plt.plot(range(1, max_features + 1), r2_scores_test, label=\"Test R²\", marker=\"o\")\n",
    "    plt.xlabel(\"Number of Features\")\n",
    "    plt.ylabel(\"R² Score\")\n",
    "    plt.title(\"R² Score vs Number of Features\")\n",
    "    plt.legend()\n",
    "    plt.grid()\n",
    "    plt.show()\n",
    "\n",
    "    selected_result = pd.DataFrame(\n",
    "        {\n",
    "            \"r2_scores_train\": r2_scores_train,\n",
    "            \"r2_scores_test\": r2_scores_test,\n",
    "        }\n",
    "    )\n",
    "\n",
    "    selected_result.to_excel(\"../Results/xgb_top_n_feats_H.xlsx\")"
   ]
  },
  {
   "cell_type": "code",
   "execution_count": 9,
   "metadata": {},
   "outputs": [
    {
     "data": {
      "image/png": "[encoded data removed]",
      "text/plain": [
       "<Figure size 1000x600 with 1 Axes>"
      ]
     },
     "metadata": {},
     "output_type": "display_data"
    }
   ],
   "source": [
    "# Example usage for D\n",
    "plot_r2_vs_features(\n",
    "    X_train, y_train, X_test, y_test, best_params, top_n_features, len(top_n_features)\n",
    ")"
   ]
  }
 ],
 "metadata": {
  "kernelspec": {
   "display_name": "py38",
   "language": "python",
   "name": "python3"
  },
  "language_info": {
   "codemirror_mode": {
    "name": "ipython",
    "version": 3
   },
   "file_extension": ".py",
   "mimetype": "text/x-python",
   "name": "python",
   "nbconvert_exporter": "python",
   "pygments_lexer": "ipython3",
   "version": "3.8.20"
  }
 },
 "nbformat": 4,
 "nbformat_minor": 2
}
