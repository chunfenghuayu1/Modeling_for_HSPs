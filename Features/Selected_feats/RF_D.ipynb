{
 "cells": [
  {
   "cell_type": "code",
   "execution_count": 1,
   "metadata": {},
   "outputs": [],
   "source": [
    "import pandas as pd\n",
    "\n",
    "train = pd.read_excel(\"../../Dataset/train_data.xlsx\", index_col=False)\n",
    "test = pd.read_excel(\"../../Dataset/test_data.xlsx\", index_col=False)\n",
    "X_train = train.iloc[:, 6:]\n",
    "y_train = train[\"D\"]\n",
    "\n",
    "X_test = test.iloc[:, 6:]\n",
    "y_test = test[\"D\"]"
   ]
  },
  {
   "cell_type": "code",
   "execution_count": 2,
   "metadata": {},
   "outputs": [],
   "source": [
    "from sklearn.ensemble import RandomForestRegressor\n",
    "from sklearn.model_selection import cross_val_score\n",
    "from sklearn.metrics import r2_score\n",
    "from hyperopt import fmin, tpe, hp, Trials, STATUS_OK\n",
    "import numpy as np\n",
    "\n",
    "\n",
    "# Function for hyperparameter optimization using hyperopt\n",
    "def optimize_hyperparameters(X, y, cv=5, max_evals=50):\n",
    "    def objective(params):\n",
    "        model = RandomForestRegressor(**params, random_state=42)\n",
    "        scores = cross_val_score(\n",
    "            model, X, y, cv=cv, scoring=\"neg_root_mean_squared_error\", n_jobs=-1\n",
    "        )\n",
    "        return {\"loss\": -np.mean(scores), \"status\": STATUS_OK}\n",
    "\n",
    "    param_space = {\n",
    "        \"n_estimators\": hp.choice(\"n_estimators\", [50, 100, 200]),\n",
    "        \"max_depth\": hp.choice(\"max_depth\", [3, 6, 9, 12]),\n",
    "        \"min_samples_split\": hp.choice(\"min_samples_split\", [2, 5, 10]),\n",
    "        \"min_samples_leaf\": hp.choice(\"min_samples_leaf\", [1, 2, 4]),\n",
    "        \"max_features\": hp.choice(\"max_features\", [\"sqrt\", \"log2\"]),\n",
    "    }\n",
    "\n",
    "    trials = Trials()\n",
    "    best_params = fmin(\n",
    "        fn=objective,\n",
    "        space=param_space,\n",
    "        algo=tpe.suggest,\n",
    "        max_evals=max_evals,\n",
    "        trials=trials,\n",
    "    )\n",
    "\n",
    "    # Convert indices to actual values\n",
    "    best_params[\"n_estimators\"] = [50, 100, 200][best_params[\"n_estimators\"]]\n",
    "    best_params[\"max_depth\"] = [3, 6, 9, 12][best_params[\"max_depth\"]]\n",
    "    best_params[\"min_samples_split\"] = [2, 5, 10][best_params[\"min_samples_split\"]]\n",
    "    best_params[\"min_samples_leaf\"] = [1, 2, 4][best_params[\"min_samples_leaf\"]]\n",
    "    best_params[\"max_features\"] = [\"sqrt\", \"log2\"][best_params[\"max_features\"]]\n",
    "\n",
    "    return best_params"
   ]
  },
  {
   "cell_type": "code",
   "execution_count": 3,
   "metadata": {},
   "outputs": [],
   "source": [
    "def get_top_n_features(X_train, y_train, best_params, n):\n",
    "    # Train the ExtraTreesRegressor model\n",
    "    model = RandomForestRegressor(**best_params, random_state=42)\n",
    "    model.fit(X_train, y_train)\n",
    "\n",
    "    # Get feature importances\n",
    "    feature_importances = model.feature_importances_\n",
    "\n",
    "    # Create a DataFrame for feature importances\n",
    "    feature_importance_df = pd.DataFrame(\n",
    "        {\"Feature\": X_train.columns, \"Importance\": feature_importances}\n",
    "    )\n",
    "\n",
    "    # Sort features by importance in descending order\n",
    "    feature_importance_df = feature_importance_df.sort_values(\n",
    "        by=\"Importance\", ascending=False\n",
    "    )\n",
    "\n",
    "    feature_importance_df.to_excel(\n",
    "        \"../Results/rf_feature_importance_D.xlsx\", index=False\n",
    "    )\n",
    "    # Return the top n features\n",
    "    return feature_importance_df.head(n)"
   ]
  },
  {
   "cell_type": "code",
   "execution_count": 4,
   "metadata": {},
   "outputs": [
    {
     "name": "stdout",
     "output_type": "stream",
     "text": [
      "  0%|          | 0/50 [00:00<?, ?trial/s, best loss=?]"
     ]
    },
    {
     "name": "stdout",
     "output_type": "stream",
     "text": [
      "100%|██████████| 50/50 [00:40<00:00,  1.23trial/s, best loss: 0.7919772920477796]\n"
     ]
    }
   ],
   "source": [
    "# Optimize hyperparameters\n",
    "best_params = optimize_hyperparameters(X_train, y_train, cv=5)"
   ]
  },
  {
   "cell_type": "code",
   "execution_count": 5,
   "metadata": {},
   "outputs": [
    {
     "name": "stdout",
     "output_type": "stream",
     "text": [
      "Best Parameters: {'max_depth': 12, 'max_features': 'sqrt', 'min_samples_leaf': 1, 'min_samples_split': 2, 'n_estimators': 200}\n"
     ]
    }
   ],
   "source": [
    "print(\"Best Parameters:\", best_params)"
   ]
  },
  {
   "cell_type": "code",
   "execution_count": null,
   "metadata": {},
   "outputs": [],
   "source": [
    "import json\n",
    "\n",
    "# Save best_params to a JSON file\n",
    "with open(\"../Results/rf_best_params_D.json\", \"w\") as json_file:\n",
    "    json.dump(best_params, json_file)"
   ]
  },
  {
   "cell_type": "code",
   "execution_count": 7,
   "metadata": {},
   "outputs": [
    {
     "data": {
      "application/vnd.microsoft.datawrangler.viewer.v0+json": {
       "columns": [
        {
         "name": "index",
         "rawType": "int64",
         "type": "integer"
        },
        {
         "name": "Feature",
         "rawType": "object",
         "type": "string"
        },
        {
         "name": "Importance",
         "rawType": "float64",
         "type": "float"
        }
       ],
       "conversionMethod": "pd.DataFrame",
       "ref": "40245b0e-8dc7-4612-848c-7a24483ea355",
       "rows": [
        [
         "86",
         "NumAromaticRings",
         "0.07073133413666015"
        ],
        [
         "92",
         "RingCount",
         "0.0690147863943487"
        ],
        [
         "81",
         "FractionCSP3",
         "0.043445801076346685"
        ],
        [
         "77",
         "VSA_EState6",
         "0.042164362473357635"
        ],
        [
         "85",
         "NumAromaticCarbocycles",
         "0.039034836590781774"
        ],
        [
         "50",
         "SMR_VSA7",
         "0.037719269743410354"
        ],
        [
         "79",
         "VSA_EState8",
         "0.03598397701260079"
        ],
        [
         "59",
         "SlogP_VSA6",
         "0.03430440804564563"
        ],
        [
         "27",
         "Chi4v",
         "0.02804221436478969"
        ],
        [
         "31",
         "Kappa3",
         "0.027973727613673692"
        ],
        [
         "25",
         "BertzCT",
         "0.026520666841146984"
        ],
        [
         "21",
         "BCUT2D_MRHI",
         "0.02427353345417163"
        ],
        [
         "15",
         "BCUT2D_MWHI",
         "0.016894223421291873"
        ],
        [
         "46",
         "SMR_VSA10",
         "0.01677698488573684"
        ],
        [
         "100",
         "SpherocityIndex",
         "0.016577997059312233"
        ],
        [
         "19",
         "BCUT2D_LOGPHI",
         "0.01593932406420406"
        ],
        [
         "5",
         "SPS",
         "0.015253534697926003"
        ],
        [
         "6",
         "MolWt",
         "0.013801136643599634"
        ],
        [
         "93",
         "MolLogP",
         "0.013607212206110634"
        ],
        [
         "26",
         "Chi1v",
         "0.012569910752524917"
        ],
        [
         "28",
         "HallKierAlpha",
         "0.01185705983530478"
        ],
        [
         "29",
         "Ipc",
         "0.011735418103352033"
        ],
        [
         "48",
         "SMR_VSA5",
         "0.011652644249885618"
        ],
        [
         "32",
         "LabuteASA",
         "0.011199172042306511"
        ],
        [
         "23",
         "AvgIpc",
         "0.010842891188181216"
        ],
        [
         "4",
         "qed",
         "0.010666774616772602"
        ],
        [
         "58",
         "SlogP_VSA5",
         "0.010553782222983149"
        ],
        [
         "98",
         "PMI3",
         "0.01030726030614629"
        ],
        [
         "54",
         "SlogP_VSA12",
         "0.010270631128609422"
        ],
        [
         "71",
         "VSA_EState1",
         "0.009028253264754045"
        ],
        [
         "84",
         "NumAliphaticRings",
         "0.008881142852402194"
        ],
        [
         "72",
         "VSA_EState10",
         "0.008214534738318879"
        ],
        [
         "30",
         "Kappa2",
         "0.008013851961915529"
        ],
        [
         "3",
         "MinEStateIndex",
         "0.007816010288253303"
        ],
        [
         "60",
         "TPSA",
         "0.007772758762005831"
        ],
        [
         "20",
         "BCUT2D_LOGPLOW",
         "0.007555249107629818"
        ],
        [
         "96",
         "NPR2",
         "0.007470486159798347"
        ],
        [
         "91",
         "NumSaturatedRings",
         "0.007204665096987448"
        ],
        [
         "74",
         "VSA_EState3",
         "0.006995461046712737"
        ],
        [
         "17",
         "BCUT2D_CHGHI",
         "0.00677667120648303"
        ],
        [
         "18",
         "BCUT2D_CHGLO",
         "0.006323928432424098"
        ],
        [
         "97",
         "PMI1",
         "0.006310081433594049"
        ],
        [
         "55",
         "SlogP_VSA2",
         "0.0062675466465341645"
        ],
        [
         "70",
         "EState_VSA9",
         "0.006157500912866667"
        ],
        [
         "24",
         "BalabanJ",
         "0.006138439448164882"
        ],
        [
         "53",
         "SlogP_VSA10",
         "0.006050867836642272"
        ],
        [
         "8",
         "MaxPartialCharge",
         "0.006021967613946645"
        ],
        [
         "2",
         "MinAbsEStateIndex",
         "0.005976250170657488"
        ],
        [
         "0",
         "MaxAbsEStateIndex",
         "0.00590677148376836"
        ],
        [
         "1",
         "MaxEStateIndex",
         "0.005795057249218855"
        ]
       ],
       "shape": {
        "columns": 2,
        "rows": 50
       }
      },
      "text/html": [
       "<div>\n",
       "<style scoped>\n",
       "    .dataframe tbody tr th:only-of-type {\n",
       "        vertical-align: middle;\n",
       "    }\n",
       "\n",
       "    .dataframe tbody tr th {\n",
       "        vertical-align: top;\n",
       "    }\n",
       "\n",
       "    .dataframe thead th {\n",
       "        text-align: right;\n",
       "    }\n",
       "</style>\n",
       "<table border=\"1\" class=\"dataframe\">\n",
       "  <thead>\n",
       "    <tr style=\"text-align: right;\">\n",
       "      <th></th>\n",
       "      <th>Feature</th>\n",
       "      <th>Importance</th>\n",
       "    </tr>\n",
       "  </thead>\n",
       "  <tbody>\n",
       "    <tr>\n",
       "      <th>86</th>\n",
       "      <td>NumAromaticRings</td>\n",
       "      <td>0.070731</td>\n",
       "    </tr>\n",
       "    <tr>\n",
       "      <th>92</th>\n",
       "      <td>RingCount</td>\n",
       "      <td>0.069015</td>\n",
       "    </tr>\n",
       "    <tr>\n",
       "      <th>81</th>\n",
       "      <td>FractionCSP3</td>\n",
       "      <td>0.043446</td>\n",
       "    </tr>\n",
       "    <tr>\n",
       "      <th>77</th>\n",
       "      <td>VSA_EState6</td>\n",
       "      <td>0.042164</td>\n",
       "    </tr>\n",
       "    <tr>\n",
       "      <th>85</th>\n",
       "      <td>NumAromaticCarbocycles</td>\n",
       "      <td>0.039035</td>\n",
       "    </tr>\n",
       "    <tr>\n",
       "      <th>50</th>\n",
       "      <td>SMR_VSA7</td>\n",
       "      <td>0.037719</td>\n",
       "    </tr>\n",
       "    <tr>\n",
       "      <th>79</th>\n",
       "      <td>VSA_EState8</td>\n",
       "      <td>0.035984</td>\n",
       "    </tr>\n",
       "    <tr>\n",
       "      <th>59</th>\n",
       "      <td>SlogP_VSA6</td>\n",
       "      <td>0.034304</td>\n",
       "    </tr>\n",
       "    <tr>\n",
       "      <th>27</th>\n",
       "      <td>Chi4v</td>\n",
       "      <td>0.028042</td>\n",
       "    </tr>\n",
       "    <tr>\n",
       "      <th>31</th>\n",
       "      <td>Kappa3</td>\n",
       "      <td>0.027974</td>\n",
       "    </tr>\n",
       "    <tr>\n",
       "      <th>25</th>\n",
       "      <td>BertzCT</td>\n",
       "      <td>0.026521</td>\n",
       "    </tr>\n",
       "    <tr>\n",
       "      <th>21</th>\n",
       "      <td>BCUT2D_MRHI</td>\n",
       "      <td>0.024274</td>\n",
       "    </tr>\n",
       "    <tr>\n",
       "      <th>15</th>\n",
       "      <td>BCUT2D_MWHI</td>\n",
       "      <td>0.016894</td>\n",
       "    </tr>\n",
       "    <tr>\n",
       "      <th>46</th>\n",
       "      <td>SMR_VSA10</td>\n",
       "      <td>0.016777</td>\n",
       "    </tr>\n",
       "    <tr>\n",
       "      <th>100</th>\n",
       "      <td>SpherocityIndex</td>\n",
       "      <td>0.016578</td>\n",
       "    </tr>\n",
       "    <tr>\n",
       "      <th>19</th>\n",
       "      <td>BCUT2D_LOGPHI</td>\n",
       "      <td>0.015939</td>\n",
       "    </tr>\n",
       "    <tr>\n",
       "      <th>5</th>\n",
       "      <td>SPS</td>\n",
       "      <td>0.015254</td>\n",
       "    </tr>\n",
       "    <tr>\n",
       "      <th>6</th>\n",
       "      <td>MolWt</td>\n",
       "      <td>0.013801</td>\n",
       "    </tr>\n",
       "    <tr>\n",
       "      <th>93</th>\n",
       "      <td>MolLogP</td>\n",
       "      <td>0.013607</td>\n",
       "    </tr>\n",
       "    <tr>\n",
       "      <th>26</th>\n",
       "      <td>Chi1v</td>\n",
       "      <td>0.012570</td>\n",
       "    </tr>\n",
       "    <tr>\n",
       "      <th>28</th>\n",
       "      <td>HallKierAlpha</td>\n",
       "      <td>0.011857</td>\n",
       "    </tr>\n",
       "    <tr>\n",
       "      <th>29</th>\n",
       "      <td>Ipc</td>\n",
       "      <td>0.011735</td>\n",
       "    </tr>\n",
       "    <tr>\n",
       "      <th>48</th>\n",
       "      <td>SMR_VSA5</td>\n",
       "      <td>0.011653</td>\n",
       "    </tr>\n",
       "    <tr>\n",
       "      <th>32</th>\n",
       "      <td>LabuteASA</td>\n",
       "      <td>0.011199</td>\n",
       "    </tr>\n",
       "    <tr>\n",
       "      <th>23</th>\n",
       "      <td>AvgIpc</td>\n",
       "      <td>0.010843</td>\n",
       "    </tr>\n",
       "    <tr>\n",
       "      <th>4</th>\n",
       "      <td>qed</td>\n",
       "      <td>0.010667</td>\n",
       "    </tr>\n",
       "    <tr>\n",
       "      <th>58</th>\n",
       "      <td>SlogP_VSA5</td>\n",
       "      <td>0.010554</td>\n",
       "    </tr>\n",
       "    <tr>\n",
       "      <th>98</th>\n",
       "      <td>PMI3</td>\n",
       "      <td>0.010307</td>\n",
       "    </tr>\n",
       "    <tr>\n",
       "      <th>54</th>\n",
       "      <td>SlogP_VSA12</td>\n",
       "      <td>0.010271</td>\n",
       "    </tr>\n",
       "    <tr>\n",
       "      <th>71</th>\n",
       "      <td>VSA_EState1</td>\n",
       "      <td>0.009028</td>\n",
       "    </tr>\n",
       "    <tr>\n",
       "      <th>84</th>\n",
       "      <td>NumAliphaticRings</td>\n",
       "      <td>0.008881</td>\n",
       "    </tr>\n",
       "    <tr>\n",
       "      <th>72</th>\n",
       "      <td>VSA_EState10</td>\n",
       "      <td>0.008215</td>\n",
       "    </tr>\n",
       "    <tr>\n",
       "      <th>30</th>\n",
       "      <td>Kappa2</td>\n",
       "      <td>0.008014</td>\n",
       "    </tr>\n",
       "    <tr>\n",
       "      <th>3</th>\n",
       "      <td>MinEStateIndex</td>\n",
       "      <td>0.007816</td>\n",
       "    </tr>\n",
       "    <tr>\n",
       "      <th>60</th>\n",
       "      <td>TPSA</td>\n",
       "      <td>0.007773</td>\n",
       "    </tr>\n",
       "    <tr>\n",
       "      <th>20</th>\n",
       "      <td>BCUT2D_LOGPLOW</td>\n",
       "      <td>0.007555</td>\n",
       "    </tr>\n",
       "    <tr>\n",
       "      <th>96</th>\n",
       "      <td>NPR2</td>\n",
       "      <td>0.007470</td>\n",
       "    </tr>\n",
       "    <tr>\n",
       "      <th>91</th>\n",
       "      <td>NumSaturatedRings</td>\n",
       "      <td>0.007205</td>\n",
       "    </tr>\n",
       "    <tr>\n",
       "      <th>74</th>\n",
       "      <td>VSA_EState3</td>\n",
       "      <td>0.006995</td>\n",
       "    </tr>\n",
       "    <tr>\n",
       "      <th>17</th>\n",
       "      <td>BCUT2D_CHGHI</td>\n",
       "      <td>0.006777</td>\n",
       "    </tr>\n",
       "    <tr>\n",
       "      <th>18</th>\n",
       "      <td>BCUT2D_CHGLO</td>\n",
       "      <td>0.006324</td>\n",
       "    </tr>\n",
       "    <tr>\n",
       "      <th>97</th>\n",
       "      <td>PMI1</td>\n",
       "      <td>0.006310</td>\n",
       "    </tr>\n",
       "    <tr>\n",
       "      <th>55</th>\n",
       "      <td>SlogP_VSA2</td>\n",
       "      <td>0.006268</td>\n",
       "    </tr>\n",
       "    <tr>\n",
       "      <th>70</th>\n",
       "      <td>EState_VSA9</td>\n",
       "      <td>0.006158</td>\n",
       "    </tr>\n",
       "    <tr>\n",
       "      <th>24</th>\n",
       "      <td>BalabanJ</td>\n",
       "      <td>0.006138</td>\n",
       "    </tr>\n",
       "    <tr>\n",
       "      <th>53</th>\n",
       "      <td>SlogP_VSA10</td>\n",
       "      <td>0.006051</td>\n",
       "    </tr>\n",
       "    <tr>\n",
       "      <th>8</th>\n",
       "      <td>MaxPartialCharge</td>\n",
       "      <td>0.006022</td>\n",
       "    </tr>\n",
       "    <tr>\n",
       "      <th>2</th>\n",
       "      <td>MinAbsEStateIndex</td>\n",
       "      <td>0.005976</td>\n",
       "    </tr>\n",
       "    <tr>\n",
       "      <th>0</th>\n",
       "      <td>MaxAbsEStateIndex</td>\n",
       "      <td>0.005907</td>\n",
       "    </tr>\n",
       "    <tr>\n",
       "      <th>1</th>\n",
       "      <td>MaxEStateIndex</td>\n",
       "      <td>0.005795</td>\n",
       "    </tr>\n",
       "  </tbody>\n",
       "</table>\n",
       "</div>"
      ],
      "text/plain": [
       "                    Feature  Importance\n",
       "86         NumAromaticRings    0.070731\n",
       "92                RingCount    0.069015\n",
       "81             FractionCSP3    0.043446\n",
       "77              VSA_EState6    0.042164\n",
       "85   NumAromaticCarbocycles    0.039035\n",
       "50                 SMR_VSA7    0.037719\n",
       "79              VSA_EState8    0.035984\n",
       "59               SlogP_VSA6    0.034304\n",
       "27                    Chi4v    0.028042\n",
       "31                   Kappa3    0.027974\n",
       "25                  BertzCT    0.026521\n",
       "21              BCUT2D_MRHI    0.024274\n",
       "15              BCUT2D_MWHI    0.016894\n",
       "46                SMR_VSA10    0.016777\n",
       "100         SpherocityIndex    0.016578\n",
       "19            BCUT2D_LOGPHI    0.015939\n",
       "5                       SPS    0.015254\n",
       "6                     MolWt    0.013801\n",
       "93                  MolLogP    0.013607\n",
       "26                    Chi1v    0.012570\n",
       "28            HallKierAlpha    0.011857\n",
       "29                      Ipc    0.011735\n",
       "48                 SMR_VSA5    0.011653\n",
       "32                LabuteASA    0.011199\n",
       "23                   AvgIpc    0.010843\n",
       "4                       qed    0.010667\n",
       "58               SlogP_VSA5    0.010554\n",
       "98                     PMI3    0.010307\n",
       "54              SlogP_VSA12    0.010271\n",
       "71              VSA_EState1    0.009028\n",
       "84        NumAliphaticRings    0.008881\n",
       "72             VSA_EState10    0.008215\n",
       "30                   Kappa2    0.008014\n",
       "3            MinEStateIndex    0.007816\n",
       "60                     TPSA    0.007773\n",
       "20           BCUT2D_LOGPLOW    0.007555\n",
       "96                     NPR2    0.007470\n",
       "91        NumSaturatedRings    0.007205\n",
       "74              VSA_EState3    0.006995\n",
       "17             BCUT2D_CHGHI    0.006777\n",
       "18             BCUT2D_CHGLO    0.006324\n",
       "97                     PMI1    0.006310\n",
       "55               SlogP_VSA2    0.006268\n",
       "70              EState_VSA9    0.006158\n",
       "24                 BalabanJ    0.006138\n",
       "53              SlogP_VSA10    0.006051\n",
       "8          MaxPartialCharge    0.006022\n",
       "2         MinAbsEStateIndex    0.005976\n",
       "0         MaxAbsEStateIndex    0.005907\n",
       "1            MaxEStateIndex    0.005795"
      ]
     },
     "execution_count": 7,
     "metadata": {},
     "output_type": "execute_result"
    }
   ],
   "source": [
    "# Train and evaluate model\n",
    "top_n_features = get_top_n_features(X_train, y_train, best_params, 50)\n",
    "top_n_features"
   ]
  },
  {
   "cell_type": "code",
   "execution_count": 8,
   "metadata": {},
   "outputs": [],
   "source": [
    "import matplotlib.pyplot as plt\n",
    "\n",
    "\n",
    "def plot_r2_vs_features(\n",
    "    X_train, y_train, X_test, y_test, best_params, top_n_features, max_features\n",
    "):\n",
    "    r2_scores_train = []\n",
    "    r2_scores_test = []\n",
    "\n",
    "    for n in range(1, max_features + 1):\n",
    "        # Select top n features\n",
    "        features = top_n_features[\"Feature\"][:n]\n",
    "\n",
    "        # Train model with top n features\n",
    "        model = RandomForestRegressor(**best_params, random_state=42)\n",
    "        X_train_top_n = X_train[features]\n",
    "        X_test_top_n = X_test[features]\n",
    "        model.fit(X_train_top_n, y_train)\n",
    "\n",
    "        # Evaluate R²\n",
    "        r2_train = r2_score(y_train, model.predict(X_train_top_n))\n",
    "        r2_test = r2_score(y_test, model.predict(X_test_top_n))\n",
    "\n",
    "        r2_scores_train.append(r2_train)\n",
    "        r2_scores_test.append(r2_test)\n",
    "\n",
    "    # Plot R² vs number of features\n",
    "    plt.figure(figsize=(10, 6))\n",
    "    plt.plot(range(1, max_features + 1), r2_scores_train, label=\"Train R²\", marker=\"o\")\n",
    "    plt.plot(range(1, max_features + 1), r2_scores_test, label=\"Test R²\", marker=\"o\")\n",
    "    plt.xlabel(\"Number of Features\")\n",
    "    plt.ylabel(\"R² Score\")\n",
    "    plt.title(\"R² Score vs Number of Features\")\n",
    "    plt.legend()\n",
    "    plt.grid()\n",
    "    plt.show()\n",
    "\n",
    "    selected_result = pd.DataFrame(\n",
    "        {\n",
    "            \"r2_scores_train\": r2_scores_train,\n",
    "            \"r2_scores_test\": r2_scores_test,\n",
    "        }\n",
    "    )\n",
    "\n",
    "    selected_result.to_excel(\"../Results/rf_top_n_feats_D.xlsx\")"
   ]
  },
  {
   "cell_type": "code",
   "execution_count": 9,
   "metadata": {},
   "outputs": [
    {
     "data": {
      "image/png": "[encoded data removed]",
      "text/plain": [
       "<Figure size 1000x600 with 1 Axes>"
      ]
     },
     "metadata": {},
     "output_type": "display_data"
    }
   ],
   "source": [
    "# Example usage for D\n",
    "plot_r2_vs_features(\n",
    "    X_train, y_train, X_test, y_test, best_params, top_n_features, len(top_n_features)\n",
    ")"
   ]
  }
 ],
 "metadata": {
  "kernelspec": {
   "display_name": "py311",
   "language": "python",
   "name": "python3"
  },
  "language_info": {
   "codemirror_mode": {
    "name": "ipython",
    "version": 3
   },
   "file_extension": ".py",
   "mimetype": "text/x-python",
   "name": "python",
   "nbconvert_exporter": "python",
   "pygments_lexer": "ipython3",
   "version": "3.11.11"
  }
 },
 "nbformat": 4,
 "nbformat_minor": 2
}
