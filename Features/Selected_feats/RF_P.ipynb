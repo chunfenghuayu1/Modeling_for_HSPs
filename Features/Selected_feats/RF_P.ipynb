{
 "cells": [
  {
   "cell_type": "code",
   "execution_count": 1,
   "metadata": {},
   "outputs": [],
   "source": [
    "import pandas as pd\n",
    "\n",
    "train = pd.read_excel(\"../../Dataset/train_data.xlsx\", index_col=False)\n",
    "test = pd.read_excel(\"../../Dataset/test_data.xlsx\", index_col=False)\n",
    "X_train = train.iloc[:, 6:]\n",
    "y_train = train[\"P\"]\n",
    "\n",
    "X_test = test.iloc[:, 6:]\n",
    "y_test = test[\"P\"]"
   ]
  },
  {
   "cell_type": "code",
   "execution_count": 2,
   "metadata": {},
   "outputs": [],
   "source": [
    "from sklearn.ensemble import RandomForestRegressor\n",
    "from sklearn.model_selection import cross_val_score\n",
    "from sklearn.metrics import r2_score\n",
    "from hyperopt import fmin, tpe, hp, Trials, STATUS_OK\n",
    "import numpy as np\n",
    "\n",
    "\n",
    "# Function for hyperparameter optimization using hyperopt\n",
    "def optimize_hyperparameters(X, y, cv=5, max_evals=50):\n",
    "    def objective(params):\n",
    "        model = RandomForestRegressor(**params, random_state=42)\n",
    "        scores = cross_val_score(\n",
    "            model, X, y, cv=cv, scoring=\"neg_root_mean_squared_error\", n_jobs=-1\n",
    "        )\n",
    "        return {\"loss\": -np.mean(scores), \"status\": STATUS_OK}\n",
    "\n",
    "    param_space = {\n",
    "        \"n_estimators\": hp.choice(\"n_estimators\", [50, 100, 200]),\n",
    "        \"max_depth\": hp.choice(\"max_depth\", [3, 6, 9]),\n",
    "        \"min_samples_split\": hp.choice(\"min_samples_split\", [2, 5, 10]),\n",
    "        \"min_samples_leaf\": hp.choice(\"min_samples_leaf\", [1, 2, 4]),\n",
    "        \"max_features\": hp.choice(\"max_features\", [\"sqrt\", \"log2\"]),\n",
    "    }\n",
    "\n",
    "    trials = Trials()\n",
    "    best_params = fmin(\n",
    "        fn=objective,\n",
    "        space=param_space,\n",
    "        algo=tpe.suggest,\n",
    "        max_evals=max_evals,\n",
    "        trials=trials,\n",
    "    )\n",
    "\n",
    "    # Convert indices to actual values\n",
    "    best_params[\"n_estimators\"] = [50, 100, 200][best_params[\"n_estimators\"]]\n",
    "    best_params[\"max_depth\"] = [3, 6, 9][best_params[\"max_depth\"]]\n",
    "    best_params[\"min_samples_split\"] = [2, 5, 10][best_params[\"min_samples_split\"]]\n",
    "    best_params[\"min_samples_leaf\"] = [1, 2, 4][best_params[\"min_samples_leaf\"]]\n",
    "    best_params[\"max_features\"] = [\"sqrt\", \"log2\"][best_params[\"max_features\"]]\n",
    "\n",
    "    return best_params"
   ]
  },
  {
   "cell_type": "code",
   "execution_count": 3,
   "metadata": {},
   "outputs": [],
   "source": [
    "def get_top_n_features(X_train, y_train, best_params, n):\n",
    "    # Train the ExtraTreesRegressor model\n",
    "    model = RandomForestRegressor(**best_params, random_state=42)\n",
    "    model.fit(X_train, y_train)\n",
    "\n",
    "    # Get feature importances\n",
    "    feature_importances = model.feature_importances_\n",
    "\n",
    "    # Create a DataFrame for feature importances\n",
    "    feature_importance_df = pd.DataFrame(\n",
    "        {\"Feature\": X_train.columns, \"Importance\": feature_importances}\n",
    "    )\n",
    "\n",
    "    # Sort features by importance in descending order\n",
    "    feature_importance_df = feature_importance_df.sort_values(\n",
    "        by=\"Importance\", ascending=False\n",
    "    )\n",
    "\n",
    "    feature_importance_df.to_excel(\n",
    "        \"../Results/rf_feature_importance_P.xlsx\", index=False\n",
    "    )\n",
    "    # Return the top n features\n",
    "    return feature_importance_df.head(n)"
   ]
  },
  {
   "cell_type": "code",
   "execution_count": 4,
   "metadata": {},
   "outputs": [
    {
     "name": "stdout",
     "output_type": "stream",
     "text": [
      "100%|██████████| 50/50 [00:36<00:00,  1.36trial/s, best loss: 2.565040307000742] \n"
     ]
    }
   ],
   "source": [
    "# Optimize hyperparameters\n",
    "best_params = optimize_hyperparameters(X_train, y_train, cv=5)"
   ]
  },
  {
   "cell_type": "code",
   "execution_count": 5,
   "metadata": {},
   "outputs": [
    {
     "name": "stdout",
     "output_type": "stream",
     "text": [
      "Best Parameters: {'max_depth': 9, 'max_features': 'sqrt', 'min_samples_leaf': 1, 'min_samples_split': 5, 'n_estimators': 100}\n"
     ]
    }
   ],
   "source": [
    "print(\"Best Parameters:\", best_params)"
   ]
  },
  {
   "cell_type": "code",
   "execution_count": null,
   "metadata": {},
   "outputs": [],
   "source": [
    "import json\n",
    "\n",
    "# Save best_params to a JSON file\n",
    "with open(\"../Results/rf_best_params_P.json\", \"w\") as json_file:\n",
    "    json.dump(best_params, json_file)"
   ]
  },
  {
   "cell_type": "code",
   "execution_count": 7,
   "metadata": {},
   "outputs": [
    {
     "data": {
      "application/vnd.microsoft.datawrangler.viewer.v0+json": {
       "columns": [
        {
         "name": "index",
         "rawType": "int64",
         "type": "integer"
        },
        {
         "name": "Feature",
         "rawType": "object",
         "type": "string"
        },
        {
         "name": "Importance",
         "rawType": "float64",
         "type": "float"
        }
       ],
       "conversionMethod": "pd.DataFrame",
       "ref": "81953b14-b33a-43db-a06d-0af88917a2d5",
       "rows": [
        [
         "93",
         "MolLogP",
         "0.07520851318626422"
        ],
        [
         "60",
         "TPSA",
         "0.05769332088527977"
        ],
        [
         "15",
         "BCUT2D_MWHI",
         "0.050421432722198116"
        ],
        [
         "89",
         "NumHeteroatoms",
         "0.033214557206215224"
        ],
        [
         "8",
         "MaxPartialCharge",
         "0.032006712649495415"
        ],
        [
         "83",
         "NOCount",
         "0.027876572455447092"
        ],
        [
         "79",
         "VSA_EState8",
         "0.0275882614067693"
        ],
        [
         "10",
         "MaxAbsPartialCharge",
         "0.026848250409830455"
        ],
        [
         "1",
         "MaxEStateIndex",
         "0.02460217638929642"
        ],
        [
         "41",
         "PEOE_VSA6",
         "0.024414820793954274"
        ],
        [
         "48",
         "SMR_VSA5",
         "0.023135522738627137"
        ],
        [
         "9",
         "MinPartialCharge",
         "0.02277018581490774"
        ],
        [
         "30",
         "Kappa2",
         "0.022600445207519505"
        ],
        [
         "58",
         "SlogP_VSA5",
         "0.019653454693049573"
        ],
        [
         "87",
         "NumHAcceptors",
         "0.018364793905665436"
        ],
        [
         "21",
         "BCUT2D_MRHI",
         "0.01615985201999347"
        ],
        [
         "31",
         "Kappa3",
         "0.015625447969522234"
        ],
        [
         "18",
         "BCUT2D_CHGLO",
         "0.015123950654344858"
        ],
        [
         "2",
         "MinAbsEStateIndex",
         "0.015119128369320514"
        ],
        [
         "0",
         "MaxAbsEStateIndex",
         "0.01480254663041125"
        ],
        [
         "11",
         "MinAbsPartialCharge",
         "0.014122202807580307"
        ],
        [
         "3",
         "MinEStateIndex",
         "0.013919585488838473"
        ],
        [
         "73",
         "VSA_EState2",
         "0.013015611261062649"
        ],
        [
         "74",
         "VSA_EState3",
         "0.012087031197455847"
        ],
        [
         "12",
         "FpDensityMorgan1",
         "0.011243739943814082"
        ],
        [
         "46",
         "SMR_VSA10",
         "0.011004530421683985"
        ],
        [
         "13",
         "FpDensityMorgan2",
         "0.010847998931650059"
        ],
        [
         "26",
         "Chi1v",
         "0.010407379059155578"
        ],
        [
         "16",
         "BCUT2D_MWLOW",
         "0.010221591409604446"
        ],
        [
         "28",
         "HallKierAlpha",
         "0.009400888729356538"
        ],
        [
         "32",
         "LabuteASA",
         "0.009282824627763451"
        ],
        [
         "98",
         "PMI3",
         "0.008859866199024893"
        ],
        [
         "14",
         "FpDensityMorgan3",
         "0.00878040063577536"
        ],
        [
         "22",
         "BCUT2D_MRLOW",
         "0.008758757689460474"
        ],
        [
         "99",
         "RadiusOfGyration",
         "0.008612728337440543"
        ],
        [
         "5",
         "SPS",
         "0.008494455527865395"
        ],
        [
         "24",
         "BalabanJ",
         "0.008408289854714646"
        ],
        [
         "55",
         "SlogP_VSA2",
         "0.00829247543202557"
        ],
        [
         "71",
         "VSA_EState1",
         "0.008007835957327441"
        ],
        [
         "78",
         "VSA_EState7",
         "0.007668394664629451"
        ],
        [
         "20",
         "BCUT2D_LOGPLOW",
         "0.007561960326627002"
        ],
        [
         "33",
         "PEOE_VSA1",
         "0.007124297682385417"
        ],
        [
         "95",
         "NPR1",
         "0.007024274248257026"
        ],
        [
         "25",
         "BertzCT",
         "0.007001376576647486"
        ],
        [
         "97",
         "PMI1",
         "0.006912842984303816"
        ],
        [
         "57",
         "SlogP_VSA4",
         "0.006676079392344143"
        ],
        [
         "54",
         "SlogP_VSA12",
         "0.006473241517799143"
        ],
        [
         "4",
         "qed",
         "0.006277216803165642"
        ],
        [
         "61",
         "EState_VSA1",
         "0.006196905694867023"
        ],
        [
         "70",
         "EState_VSA9",
         "0.005952646576742981"
        ]
       ],
       "shape": {
        "columns": 2,
        "rows": 50
       }
      },
      "text/html": [
       "<div>\n",
       "<style scoped>\n",
       "    .dataframe tbody tr th:only-of-type {\n",
       "        vertical-align: middle;\n",
       "    }\n",
       "\n",
       "    .dataframe tbody tr th {\n",
       "        vertical-align: top;\n",
       "    }\n",
       "\n",
       "    .dataframe thead th {\n",
       "        text-align: right;\n",
       "    }\n",
       "</style>\n",
       "<table border=\"1\" class=\"dataframe\">\n",
       "  <thead>\n",
       "    <tr style=\"text-align: right;\">\n",
       "      <th></th>\n",
       "      <th>Feature</th>\n",
       "      <th>Importance</th>\n",
       "    </tr>\n",
       "  </thead>\n",
       "  <tbody>\n",
       "    <tr>\n",
       "      <th>93</th>\n",
       "      <td>MolLogP</td>\n",
       "      <td>0.075209</td>\n",
       "    </tr>\n",
       "    <tr>\n",
       "      <th>60</th>\n",
       "      <td>TPSA</td>\n",
       "      <td>0.057693</td>\n",
       "    </tr>\n",
       "    <tr>\n",
       "      <th>15</th>\n",
       "      <td>BCUT2D_MWHI</td>\n",
       "      <td>0.050421</td>\n",
       "    </tr>\n",
       "    <tr>\n",
       "      <th>89</th>\n",
       "      <td>NumHeteroatoms</td>\n",
       "      <td>0.033215</td>\n",
       "    </tr>\n",
       "    <tr>\n",
       "      <th>8</th>\n",
       "      <td>MaxPartialCharge</td>\n",
       "      <td>0.032007</td>\n",
       "    </tr>\n",
       "    <tr>\n",
       "      <th>83</th>\n",
       "      <td>NOCount</td>\n",
       "      <td>0.027877</td>\n",
       "    </tr>\n",
       "    <tr>\n",
       "      <th>79</th>\n",
       "      <td>VSA_EState8</td>\n",
       "      <td>0.027588</td>\n",
       "    </tr>\n",
       "    <tr>\n",
       "      <th>10</th>\n",
       "      <td>MaxAbsPartialCharge</td>\n",
       "      <td>0.026848</td>\n",
       "    </tr>\n",
       "    <tr>\n",
       "      <th>1</th>\n",
       "      <td>MaxEStateIndex</td>\n",
       "      <td>0.024602</td>\n",
       "    </tr>\n",
       "    <tr>\n",
       "      <th>41</th>\n",
       "      <td>PEOE_VSA6</td>\n",
       "      <td>0.024415</td>\n",
       "    </tr>\n",
       "    <tr>\n",
       "      <th>48</th>\n",
       "      <td>SMR_VSA5</td>\n",
       "      <td>0.023136</td>\n",
       "    </tr>\n",
       "    <tr>\n",
       "      <th>9</th>\n",
       "      <td>MinPartialCharge</td>\n",
       "      <td>0.022770</td>\n",
       "    </tr>\n",
       "    <tr>\n",
       "      <th>30</th>\n",
       "      <td>Kappa2</td>\n",
       "      <td>0.022600</td>\n",
       "    </tr>\n",
       "    <tr>\n",
       "      <th>58</th>\n",
       "      <td>SlogP_VSA5</td>\n",
       "      <td>0.019653</td>\n",
       "    </tr>\n",
       "    <tr>\n",
       "      <th>87</th>\n",
       "      <td>NumHAcceptors</td>\n",
       "      <td>0.018365</td>\n",
       "    </tr>\n",
       "    <tr>\n",
       "      <th>21</th>\n",
       "      <td>BCUT2D_MRHI</td>\n",
       "      <td>0.016160</td>\n",
       "    </tr>\n",
       "    <tr>\n",
       "      <th>31</th>\n",
       "      <td>Kappa3</td>\n",
       "      <td>0.015625</td>\n",
       "    </tr>\n",
       "    <tr>\n",
       "      <th>18</th>\n",
       "      <td>BCUT2D_CHGLO</td>\n",
       "      <td>0.015124</td>\n",
       "    </tr>\n",
       "    <tr>\n",
       "      <th>2</th>\n",
       "      <td>MinAbsEStateIndex</td>\n",
       "      <td>0.015119</td>\n",
       "    </tr>\n",
       "    <tr>\n",
       "      <th>0</th>\n",
       "      <td>MaxAbsEStateIndex</td>\n",
       "      <td>0.014803</td>\n",
       "    </tr>\n",
       "    <tr>\n",
       "      <th>11</th>\n",
       "      <td>MinAbsPartialCharge</td>\n",
       "      <td>0.014122</td>\n",
       "    </tr>\n",
       "    <tr>\n",
       "      <th>3</th>\n",
       "      <td>MinEStateIndex</td>\n",
       "      <td>0.013920</td>\n",
       "    </tr>\n",
       "    <tr>\n",
       "      <th>73</th>\n",
       "      <td>VSA_EState2</td>\n",
       "      <td>0.013016</td>\n",
       "    </tr>\n",
       "    <tr>\n",
       "      <th>74</th>\n",
       "      <td>VSA_EState3</td>\n",
       "      <td>0.012087</td>\n",
       "    </tr>\n",
       "    <tr>\n",
       "      <th>12</th>\n",
       "      <td>FpDensityMorgan1</td>\n",
       "      <td>0.011244</td>\n",
       "    </tr>\n",
       "    <tr>\n",
       "      <th>46</th>\n",
       "      <td>SMR_VSA10</td>\n",
       "      <td>0.011005</td>\n",
       "    </tr>\n",
       "    <tr>\n",
       "      <th>13</th>\n",
       "      <td>FpDensityMorgan2</td>\n",
       "      <td>0.010848</td>\n",
       "    </tr>\n",
       "    <tr>\n",
       "      <th>26</th>\n",
       "      <td>Chi1v</td>\n",
       "      <td>0.010407</td>\n",
       "    </tr>\n",
       "    <tr>\n",
       "      <th>16</th>\n",
       "      <td>BCUT2D_MWLOW</td>\n",
       "      <td>0.010222</td>\n",
       "    </tr>\n",
       "    <tr>\n",
       "      <th>28</th>\n",
       "      <td>HallKierAlpha</td>\n",
       "      <td>0.009401</td>\n",
       "    </tr>\n",
       "    <tr>\n",
       "      <th>32</th>\n",
       "      <td>LabuteASA</td>\n",
       "      <td>0.009283</td>\n",
       "    </tr>\n",
       "    <tr>\n",
       "      <th>98</th>\n",
       "      <td>PMI3</td>\n",
       "      <td>0.008860</td>\n",
       "    </tr>\n",
       "    <tr>\n",
       "      <th>14</th>\n",
       "      <td>FpDensityMorgan3</td>\n",
       "      <td>0.008780</td>\n",
       "    </tr>\n",
       "    <tr>\n",
       "      <th>22</th>\n",
       "      <td>BCUT2D_MRLOW</td>\n",
       "      <td>0.008759</td>\n",
       "    </tr>\n",
       "    <tr>\n",
       "      <th>99</th>\n",
       "      <td>RadiusOfGyration</td>\n",
       "      <td>0.008613</td>\n",
       "    </tr>\n",
       "    <tr>\n",
       "      <th>5</th>\n",
       "      <td>SPS</td>\n",
       "      <td>0.008494</td>\n",
       "    </tr>\n",
       "    <tr>\n",
       "      <th>24</th>\n",
       "      <td>BalabanJ</td>\n",
       "      <td>0.008408</td>\n",
       "    </tr>\n",
       "    <tr>\n",
       "      <th>55</th>\n",
       "      <td>SlogP_VSA2</td>\n",
       "      <td>0.008292</td>\n",
       "    </tr>\n",
       "    <tr>\n",
       "      <th>71</th>\n",
       "      <td>VSA_EState1</td>\n",
       "      <td>0.008008</td>\n",
       "    </tr>\n",
       "    <tr>\n",
       "      <th>78</th>\n",
       "      <td>VSA_EState7</td>\n",
       "      <td>0.007668</td>\n",
       "    </tr>\n",
       "    <tr>\n",
       "      <th>20</th>\n",
       "      <td>BCUT2D_LOGPLOW</td>\n",
       "      <td>0.007562</td>\n",
       "    </tr>\n",
       "    <tr>\n",
       "      <th>33</th>\n",
       "      <td>PEOE_VSA1</td>\n",
       "      <td>0.007124</td>\n",
       "    </tr>\n",
       "    <tr>\n",
       "      <th>95</th>\n",
       "      <td>NPR1</td>\n",
       "      <td>0.007024</td>\n",
       "    </tr>\n",
       "    <tr>\n",
       "      <th>25</th>\n",
       "      <td>BertzCT</td>\n",
       "      <td>0.007001</td>\n",
       "    </tr>\n",
       "    <tr>\n",
       "      <th>97</th>\n",
       "      <td>PMI1</td>\n",
       "      <td>0.006913</td>\n",
       "    </tr>\n",
       "    <tr>\n",
       "      <th>57</th>\n",
       "      <td>SlogP_VSA4</td>\n",
       "      <td>0.006676</td>\n",
       "    </tr>\n",
       "    <tr>\n",
       "      <th>54</th>\n",
       "      <td>SlogP_VSA12</td>\n",
       "      <td>0.006473</td>\n",
       "    </tr>\n",
       "    <tr>\n",
       "      <th>4</th>\n",
       "      <td>qed</td>\n",
       "      <td>0.006277</td>\n",
       "    </tr>\n",
       "    <tr>\n",
       "      <th>61</th>\n",
       "      <td>EState_VSA1</td>\n",
       "      <td>0.006197</td>\n",
       "    </tr>\n",
       "    <tr>\n",
       "      <th>70</th>\n",
       "      <td>EState_VSA9</td>\n",
       "      <td>0.005953</td>\n",
       "    </tr>\n",
       "  </tbody>\n",
       "</table>\n",
       "</div>"
      ],
      "text/plain": [
       "                Feature  Importance\n",
       "93              MolLogP    0.075209\n",
       "60                 TPSA    0.057693\n",
       "15          BCUT2D_MWHI    0.050421\n",
       "89       NumHeteroatoms    0.033215\n",
       "8      MaxPartialCharge    0.032007\n",
       "83              NOCount    0.027877\n",
       "79          VSA_EState8    0.027588\n",
       "10  MaxAbsPartialCharge    0.026848\n",
       "1        MaxEStateIndex    0.024602\n",
       "41            PEOE_VSA6    0.024415\n",
       "48             SMR_VSA5    0.023136\n",
       "9      MinPartialCharge    0.022770\n",
       "30               Kappa2    0.022600\n",
       "58           SlogP_VSA5    0.019653\n",
       "87        NumHAcceptors    0.018365\n",
       "21          BCUT2D_MRHI    0.016160\n",
       "31               Kappa3    0.015625\n",
       "18         BCUT2D_CHGLO    0.015124\n",
       "2     MinAbsEStateIndex    0.015119\n",
       "0     MaxAbsEStateIndex    0.014803\n",
       "11  MinAbsPartialCharge    0.014122\n",
       "3        MinEStateIndex    0.013920\n",
       "73          VSA_EState2    0.013016\n",
       "74          VSA_EState3    0.012087\n",
       "12     FpDensityMorgan1    0.011244\n",
       "46            SMR_VSA10    0.011005\n",
       "13     FpDensityMorgan2    0.010848\n",
       "26                Chi1v    0.010407\n",
       "16         BCUT2D_MWLOW    0.010222\n",
       "28        HallKierAlpha    0.009401\n",
       "32            LabuteASA    0.009283\n",
       "98                 PMI3    0.008860\n",
       "14     FpDensityMorgan3    0.008780\n",
       "22         BCUT2D_MRLOW    0.008759\n",
       "99     RadiusOfGyration    0.008613\n",
       "5                   SPS    0.008494\n",
       "24             BalabanJ    0.008408\n",
       "55           SlogP_VSA2    0.008292\n",
       "71          VSA_EState1    0.008008\n",
       "78          VSA_EState7    0.007668\n",
       "20       BCUT2D_LOGPLOW    0.007562\n",
       "33            PEOE_VSA1    0.007124\n",
       "95                 NPR1    0.007024\n",
       "25              BertzCT    0.007001\n",
       "97                 PMI1    0.006913\n",
       "57           SlogP_VSA4    0.006676\n",
       "54          SlogP_VSA12    0.006473\n",
       "4                   qed    0.006277\n",
       "61          EState_VSA1    0.006197\n",
       "70          EState_VSA9    0.005953"
      ]
     },
     "execution_count": 7,
     "metadata": {},
     "output_type": "execute_result"
    }
   ],
   "source": [
    "# Train and evaluate model\n",
    "top_n_features = get_top_n_features(X_train, y_train, best_params, 50)\n",
    "top_n_features"
   ]
  },
  {
   "cell_type": "code",
   "execution_count": 8,
   "metadata": {},
   "outputs": [],
   "source": [
    "import matplotlib.pyplot as plt\n",
    "\n",
    "\n",
    "def plot_r2_vs_features(\n",
    "    X_train, y_train, X_test, y_test, best_params, top_n_features, max_features\n",
    "):\n",
    "    r2_scores_train = []\n",
    "    r2_scores_test = []\n",
    "\n",
    "    for n in range(1, max_features + 1):\n",
    "        # Select top n features\n",
    "        features = top_n_features[\"Feature\"][:n]\n",
    "\n",
    "        # Train model with top n features\n",
    "        model = RandomForestRegressor(**best_params, random_state=42)\n",
    "        X_train_top_n = X_train[features]\n",
    "        X_test_top_n = X_test[features]\n",
    "        model.fit(X_train_top_n, y_train)\n",
    "\n",
    "        # Evaluate R²\n",
    "        r2_train = r2_score(y_train, model.predict(X_train_top_n))\n",
    "        r2_test = r2_score(y_test, model.predict(X_test_top_n))\n",
    "\n",
    "        r2_scores_train.append(r2_train)\n",
    "        r2_scores_test.append(r2_test)\n",
    "\n",
    "    # Plot R² vs number of features\n",
    "    plt.figure(figsize=(10, 6))\n",
    "    plt.plot(range(1, max_features + 1), r2_scores_train, label=\"Train R²\", marker=\"o\")\n",
    "    plt.plot(range(1, max_features + 1), r2_scores_test, label=\"Test R²\", marker=\"o\")\n",
    "    plt.xlabel(\"Number of Features\")\n",
    "    plt.ylabel(\"R² Score\")\n",
    "    plt.title(\"R² Score vs Number of Features\")\n",
    "    plt.legend()\n",
    "    plt.grid()\n",
    "    plt.show()\n",
    "\n",
    "    selected_result = pd.DataFrame(\n",
    "        {\n",
    "            \"r2_scores_train\": r2_scores_train,\n",
    "            \"r2_scores_test\": r2_scores_test,\n",
    "        }\n",
    "    )\n",
    "\n",
    "    selected_result.to_excel(\"../Results/rf_top_n_feats_P.xlsx\")"
   ]
  },
  {
   "cell_type": "code",
   "execution_count": 9,
   "metadata": {},
   "outputs": [
    {
     "data": {
      "image/png": "[encoded data removed]",
      "text/plain": [
       "<Figure size 1000x600 with 1 Axes>"
      ]
     },
     "metadata": {},
     "output_type": "display_data"
    }
   ],
   "source": [
    "# Example usage for D\n",
    "plot_r2_vs_features(\n",
    "    X_train, y_train, X_test, y_test, best_params, top_n_features, len(top_n_features)\n",
    ")"
   ]
  }
 ],
 "metadata": {
  "kernelspec": {
   "display_name": "py311",
   "language": "python",
   "name": "python3"
  },
  "language_info": {
   "codemirror_mode": {
    "name": "ipython",
    "version": 3
   },
   "file_extension": ".py",
   "mimetype": "text/x-python",
   "name": "python",
   "nbconvert_exporter": "python",
   "pygments_lexer": "ipython3",
   "version": "3.11.11"
  }
 },
 "nbformat": 4,
 "nbformat_minor": 2
}
