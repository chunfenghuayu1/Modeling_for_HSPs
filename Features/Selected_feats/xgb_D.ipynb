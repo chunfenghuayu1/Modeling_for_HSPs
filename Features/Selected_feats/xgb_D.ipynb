{
 "cells": [
  {
   "cell_type": "code",
   "execution_count": 1,
   "metadata": {},
   "outputs": [],
   "source": [
    "import pandas as pd\n",
    "\n",
    "train = pd.read_excel(\"../../Dataset/train_data.xlsx\", index_col=False)\n",
    "test = pd.read_excel(\"../../Dataset/test_data.xlsx\", index_col=False)\n",
    "X_train = train.iloc[:, 6:]\n",
    "y_train = train[\"D\"]\n",
    "\n",
    "X_test = test.iloc[:, 6:]\n",
    "y_test = test[\"D\"]"
   ]
  },
  {
   "cell_type": "code",
   "execution_count": 2,
   "metadata": {},
   "outputs": [],
   "source": [
    "from sklearn.ensemble import ExtraTreesRegressor\n",
    "from sklearn.model_selection import cross_val_score\n",
    "from sklearn.metrics import r2_score\n",
    "from hyperopt import fmin, tpe, hp, Trials, STATUS_OK\n",
    "import numpy as np\n",
    "from xgboost import XGBRegressor\n",
    "\n",
    "\n",
    "# Function for hyperparameter optimization using hyperopt\n",
    "def optimize_hyperparameters(X, y, cv=5, max_evals=50):\n",
    "    def objective(params):\n",
    "        model = XGBRegressor(\n",
    "            **params, random_state=42, use_label_encoder=False, eval_metric=\"rmse\"\n",
    "        )\n",
    "        scores = cross_val_score(\n",
    "            model, X, y, cv=cv, scoring=\"neg_root_mean_squared_error\", n_jobs=-1\n",
    "        )\n",
    "        return {\"loss\": -np.mean(scores), \"status\": STATUS_OK}\n",
    "\n",
    "    param_space = {\n",
    "        \"n_estimators\": hp.choice(\"n_estimators\", [50, 100, 200]),\n",
    "        \"max_depth\": hp.choice(\"max_depth\", [3, 6, 9, 12]),\n",
    "        \"colsample_bytree\": hp.uniform(\"colsample_bytree\", 0.5, 1.0),\n",
    "        \"gamma\": hp.uniform(\"gamma\", 0, 5),\n",
    "        \"reg_alpha\": hp.quniform(\"reg_alpha\", 0, 180, 1),\n",
    "        \"reg_lambda\": hp.uniform(\"reg_lambda\", 0, 1),\n",
    "        \"min_child_weight\": hp.choice(\"min_child_weight\", [1, 3, 5]),\n",
    "    }\n",
    "\n",
    "    trials = Trials()\n",
    "    best_params = fmin(\n",
    "        fn=objective,\n",
    "        space=param_space,\n",
    "        algo=tpe.suggest,\n",
    "        max_evals=max_evals,\n",
    "        trials=trials,\n",
    "    )\n",
    "\n",
    "    # Convert indices to actual values\n",
    "    best_params[\"n_estimators\"] = [50, 100, 200][best_params[\"n_estimators\"]]\n",
    "    best_params[\"max_depth\"] = [3, 6, 9, 12][best_params[\"max_depth\"]]\n",
    "    best_params[\"min_child_weight\"] = [1, 3, 5][best_params[\"min_child_weight\"]]\n",
    "\n",
    "    return best_params"
   ]
  },
  {
   "cell_type": "code",
   "execution_count": 3,
   "metadata": {},
   "outputs": [],
   "source": [
    "def get_top_n_features(X_train, y_train, best_params, n):\n",
    "    # Train the ExtraTreesRegressor model\n",
    "    model = XGBRegressor(**best_params, random_state=42)\n",
    "    model.fit(X_train, y_train)\n",
    "\n",
    "    # Get feature importances\n",
    "    feature_importances = model.feature_importances_\n",
    "\n",
    "    # Create a DataFrame for feature importances\n",
    "    feature_importance_df = pd.DataFrame(\n",
    "        {\"Feature\": X_train.columns, \"Importance\": feature_importances}\n",
    "    )\n",
    "\n",
    "    # Sort features by importance in descending order\n",
    "    feature_importance_df = feature_importance_df.sort_values(\n",
    "        by=\"Importance\", ascending=False\n",
    "    )\n",
    "\n",
    "    feature_importance_df.to_excel(\n",
    "        \"../Results/xgb_feature_importance_D.xlsx\", index=False\n",
    "    )\n",
    "    # Return the top n features\n",
    "    return feature_importance_df.head(n)"
   ]
  },
  {
   "cell_type": "code",
   "execution_count": 4,
   "metadata": {},
   "outputs": [
    {
     "name": "stdout",
     "output_type": "stream",
     "text": [
      "100%|██████████| 50/50 [00:23<00:00,  2.14trial/s, best loss: 0.8176901784106455]\n"
     ]
    }
   ],
   "source": [
    "# Optimize hyperparameters\n",
    "best_params = optimize_hyperparameters(X_train, y_train, cv=5)"
   ]
  },
  {
   "cell_type": "code",
   "execution_count": 5,
   "metadata": {},
   "outputs": [
    {
     "name": "stdout",
     "output_type": "stream",
     "text": [
      "Best Parameters: {'colsample_bytree': 0.9041251798599146, 'gamma': 1.2929392015209948, 'max_depth': 9, 'min_child_weight': 1, 'n_estimators': 200, 'reg_alpha': 0.0, 'reg_lambda': 0.028549455929607503}\n"
     ]
    }
   ],
   "source": [
    "print(\"Best Parameters:\", best_params)"
   ]
  },
  {
   "cell_type": "code",
   "execution_count": 6,
   "metadata": {},
   "outputs": [],
   "source": [
    "import json\n",
    "\n",
    "# Save best_params to a JSON file\n",
    "with open(\"../Results/xgb_best_params_D.json\", \"w\") as json_file:\n",
    "    json.dump(best_params, json_file)"
   ]
  },
  {
   "cell_type": "code",
   "execution_count": 7,
   "metadata": {},
   "outputs": [
    {
     "data": {
      "application/vnd.microsoft.datawrangler.viewer.v0+json": {
       "columns": [
        {
         "name": "index",
         "rawType": "int64",
         "type": "integer"
        },
        {
         "name": "Feature",
         "rawType": "object",
         "type": "string"
        },
        {
         "name": "Importance",
         "rawType": "float32",
         "type": "float"
        }
       ],
       "conversionMethod": "pd.DataFrame",
       "ref": "e9a20867-3d95-468d-95ba-a9bd553aa6a9",
       "rows": [
        [
         "86",
         "NumAromaticRings",
         "0.3192193"
        ],
        [
         "92",
         "RingCount",
         "0.28734422"
        ],
        [
         "81",
         "FractionCSP3",
         "0.039713804"
        ],
        [
         "46",
         "SMR_VSA10",
         "0.031799793"
        ],
        [
         "5",
         "SPS",
         "0.020840768"
        ],
        [
         "62",
         "EState_VSA10",
         "0.017193722"
        ],
        [
         "33",
         "PEOE_VSA1",
         "0.014469938"
        ],
        [
         "27",
         "Chi4v",
         "0.013901943"
        ],
        [
         "53",
         "SlogP_VSA10",
         "0.012507607"
        ],
        [
         "15",
         "BCUT2D_MWHI",
         "0.01075339"
        ],
        [
         "60",
         "TPSA",
         "0.009805048"
        ],
        [
         "48",
         "SMR_VSA5",
         "0.007625484"
        ],
        [
         "4",
         "qed",
         "0.007374702"
        ],
        [
         "28",
         "HallKierAlpha",
         "0.0070788623"
        ],
        [
         "96",
         "NPR2",
         "0.006903538"
        ],
        [
         "55",
         "SlogP_VSA2",
         "0.0061529297"
        ],
        [
         "54",
         "SlogP_VSA12",
         "0.006131645"
        ],
        [
         "0",
         "MaxAbsEStateIndex",
         "0.0055200877"
        ],
        [
         "6",
         "MolWt",
         "0.0054809414"
        ],
        [
         "93",
         "MolLogP",
         "0.0050534722"
        ],
        [
         "3",
         "MinEStateIndex",
         "0.0048974897"
        ],
        [
         "58",
         "SlogP_VSA5",
         "0.004855702"
        ],
        [
         "19",
         "BCUT2D_LOGPHI",
         "0.004786771"
        ],
        [
         "20",
         "BCUT2D_LOGPLOW",
         "0.004502095"
        ],
        [
         "30",
         "Kappa2",
         "0.0041954615"
        ],
        [
         "79",
         "VSA_EState8",
         "0.004179351"
        ],
        [
         "75",
         "VSA_EState4",
         "0.004161099"
        ],
        [
         "77",
         "VSA_EState6",
         "0.003927851"
        ],
        [
         "78",
         "VSA_EState7",
         "0.0035828557"
        ],
        [
         "47",
         "SMR_VSA4",
         "0.0034986394"
        ],
        [
         "39",
         "PEOE_VSA4",
         "0.0034564335"
        ],
        [
         "36",
         "PEOE_VSA14",
         "0.003319424"
        ],
        [
         "25",
         "BertzCT",
         "0.0031526445"
        ],
        [
         "24",
         "BalabanJ",
         "0.0030453403"
        ],
        [
         "64",
         "EState_VSA3",
         "0.0029868034"
        ],
        [
         "45",
         "SMR_VSA1",
         "0.00291225"
        ],
        [
         "32",
         "LabuteASA",
         "0.0029073325"
        ],
        [
         "37",
         "PEOE_VSA2",
         "0.0028961978"
        ],
        [
         "35",
         "PEOE_VSA11",
         "0.0028867973"
        ],
        [
         "23",
         "AvgIpc",
         "0.002871155"
        ],
        [
         "21",
         "BCUT2D_MRHI",
         "0.0027874904"
        ],
        [
         "66",
         "EState_VSA5",
         "0.0027836468"
        ],
        [
         "52",
         "SlogP_VSA1",
         "0.0027813932"
        ],
        [
         "51",
         "SMR_VSA9",
         "0.0027300636"
        ],
        [
         "80",
         "VSA_EState9",
         "0.002705755"
        ],
        [
         "10",
         "MaxAbsPartialCharge",
         "0.0026834658"
        ],
        [
         "56",
         "SlogP_VSA3",
         "0.0026300482"
        ],
        [
         "71",
         "VSA_EState1",
         "0.0025689686"
        ],
        [
         "26",
         "Chi1v",
         "0.002454295"
        ],
        [
         "72",
         "VSA_EState10",
         "0.0023874831"
        ]
       ],
       "shape": {
        "columns": 2,
        "rows": 50
       }
      },
      "text/html": [
       "<div>\n",
       "<style scoped>\n",
       "    .dataframe tbody tr th:only-of-type {\n",
       "        vertical-align: middle;\n",
       "    }\n",
       "\n",
       "    .dataframe tbody tr th {\n",
       "        vertical-align: top;\n",
       "    }\n",
       "\n",
       "    .dataframe thead th {\n",
       "        text-align: right;\n",
       "    }\n",
       "</style>\n",
       "<table border=\"1\" class=\"dataframe\">\n",
       "  <thead>\n",
       "    <tr style=\"text-align: right;\">\n",
       "      <th></th>\n",
       "      <th>Feature</th>\n",
       "      <th>Importance</th>\n",
       "    </tr>\n",
       "  </thead>\n",
       "  <tbody>\n",
       "    <tr>\n",
       "      <th>86</th>\n",
       "      <td>NumAromaticRings</td>\n",
       "      <td>0.319219</td>\n",
       "    </tr>\n",
       "    <tr>\n",
       "      <th>92</th>\n",
       "      <td>RingCount</td>\n",
       "      <td>0.287344</td>\n",
       "    </tr>\n",
       "    <tr>\n",
       "      <th>81</th>\n",
       "      <td>FractionCSP3</td>\n",
       "      <td>0.039714</td>\n",
       "    </tr>\n",
       "    <tr>\n",
       "      <th>46</th>\n",
       "      <td>SMR_VSA10</td>\n",
       "      <td>0.031800</td>\n",
       "    </tr>\n",
       "    <tr>\n",
       "      <th>5</th>\n",
       "      <td>SPS</td>\n",
       "      <td>0.020841</td>\n",
       "    </tr>\n",
       "    <tr>\n",
       "      <th>62</th>\n",
       "      <td>EState_VSA10</td>\n",
       "      <td>0.017194</td>\n",
       "    </tr>\n",
       "    <tr>\n",
       "      <th>33</th>\n",
       "      <td>PEOE_VSA1</td>\n",
       "      <td>0.014470</td>\n",
       "    </tr>\n",
       "    <tr>\n",
       "      <th>27</th>\n",
       "      <td>Chi4v</td>\n",
       "      <td>0.013902</td>\n",
       "    </tr>\n",
       "    <tr>\n",
       "      <th>53</th>\n",
       "      <td>SlogP_VSA10</td>\n",
       "      <td>0.012508</td>\n",
       "    </tr>\n",
       "    <tr>\n",
       "      <th>15</th>\n",
       "      <td>BCUT2D_MWHI</td>\n",
       "      <td>0.010753</td>\n",
       "    </tr>\n",
       "    <tr>\n",
       "      <th>60</th>\n",
       "      <td>TPSA</td>\n",
       "      <td>0.009805</td>\n",
       "    </tr>\n",
       "    <tr>\n",
       "      <th>48</th>\n",
       "      <td>SMR_VSA5</td>\n",
       "      <td>0.007625</td>\n",
       "    </tr>\n",
       "    <tr>\n",
       "      <th>4</th>\n",
       "      <td>qed</td>\n",
       "      <td>0.007375</td>\n",
       "    </tr>\n",
       "    <tr>\n",
       "      <th>28</th>\n",
       "      <td>HallKierAlpha</td>\n",
       "      <td>0.007079</td>\n",
       "    </tr>\n",
       "    <tr>\n",
       "      <th>96</th>\n",
       "      <td>NPR2</td>\n",
       "      <td>0.006904</td>\n",
       "    </tr>\n",
       "    <tr>\n",
       "      <th>55</th>\n",
       "      <td>SlogP_VSA2</td>\n",
       "      <td>0.006153</td>\n",
       "    </tr>\n",
       "    <tr>\n",
       "      <th>54</th>\n",
       "      <td>SlogP_VSA12</td>\n",
       "      <td>0.006132</td>\n",
       "    </tr>\n",
       "    <tr>\n",
       "      <th>0</th>\n",
       "      <td>MaxAbsEStateIndex</td>\n",
       "      <td>0.005520</td>\n",
       "    </tr>\n",
       "    <tr>\n",
       "      <th>6</th>\n",
       "      <td>MolWt</td>\n",
       "      <td>0.005481</td>\n",
       "    </tr>\n",
       "    <tr>\n",
       "      <th>93</th>\n",
       "      <td>MolLogP</td>\n",
       "      <td>0.005053</td>\n",
       "    </tr>\n",
       "    <tr>\n",
       "      <th>3</th>\n",
       "      <td>MinEStateIndex</td>\n",
       "      <td>0.004897</td>\n",
       "    </tr>\n",
       "    <tr>\n",
       "      <th>58</th>\n",
       "      <td>SlogP_VSA5</td>\n",
       "      <td>0.004856</td>\n",
       "    </tr>\n",
       "    <tr>\n",
       "      <th>19</th>\n",
       "      <td>BCUT2D_LOGPHI</td>\n",
       "      <td>0.004787</td>\n",
       "    </tr>\n",
       "    <tr>\n",
       "      <th>20</th>\n",
       "      <td>BCUT2D_LOGPLOW</td>\n",
       "      <td>0.004502</td>\n",
       "    </tr>\n",
       "    <tr>\n",
       "      <th>30</th>\n",
       "      <td>Kappa2</td>\n",
       "      <td>0.004195</td>\n",
       "    </tr>\n",
       "    <tr>\n",
       "      <th>79</th>\n",
       "      <td>VSA_EState8</td>\n",
       "      <td>0.004179</td>\n",
       "    </tr>\n",
       "    <tr>\n",
       "      <th>75</th>\n",
       "      <td>VSA_EState4</td>\n",
       "      <td>0.004161</td>\n",
       "    </tr>\n",
       "    <tr>\n",
       "      <th>77</th>\n",
       "      <td>VSA_EState6</td>\n",
       "      <td>0.003928</td>\n",
       "    </tr>\n",
       "    <tr>\n",
       "      <th>78</th>\n",
       "      <td>VSA_EState7</td>\n",
       "      <td>0.003583</td>\n",
       "    </tr>\n",
       "    <tr>\n",
       "      <th>47</th>\n",
       "      <td>SMR_VSA4</td>\n",
       "      <td>0.003499</td>\n",
       "    </tr>\n",
       "    <tr>\n",
       "      <th>39</th>\n",
       "      <td>PEOE_VSA4</td>\n",
       "      <td>0.003456</td>\n",
       "    </tr>\n",
       "    <tr>\n",
       "      <th>36</th>\n",
       "      <td>PEOE_VSA14</td>\n",
       "      <td>0.003319</td>\n",
       "    </tr>\n",
       "    <tr>\n",
       "      <th>25</th>\n",
       "      <td>BertzCT</td>\n",
       "      <td>0.003153</td>\n",
       "    </tr>\n",
       "    <tr>\n",
       "      <th>24</th>\n",
       "      <td>BalabanJ</td>\n",
       "      <td>0.003045</td>\n",
       "    </tr>\n",
       "    <tr>\n",
       "      <th>64</th>\n",
       "      <td>EState_VSA3</td>\n",
       "      <td>0.002987</td>\n",
       "    </tr>\n",
       "    <tr>\n",
       "      <th>45</th>\n",
       "      <td>SMR_VSA1</td>\n",
       "      <td>0.002912</td>\n",
       "    </tr>\n",
       "    <tr>\n",
       "      <th>32</th>\n",
       "      <td>LabuteASA</td>\n",
       "      <td>0.002907</td>\n",
       "    </tr>\n",
       "    <tr>\n",
       "      <th>37</th>\n",
       "      <td>PEOE_VSA2</td>\n",
       "      <td>0.002896</td>\n",
       "    </tr>\n",
       "    <tr>\n",
       "      <th>35</th>\n",
       "      <td>PEOE_VSA11</td>\n",
       "      <td>0.002887</td>\n",
       "    </tr>\n",
       "    <tr>\n",
       "      <th>23</th>\n",
       "      <td>AvgIpc</td>\n",
       "      <td>0.002871</td>\n",
       "    </tr>\n",
       "    <tr>\n",
       "      <th>21</th>\n",
       "      <td>BCUT2D_MRHI</td>\n",
       "      <td>0.002787</td>\n",
       "    </tr>\n",
       "    <tr>\n",
       "      <th>66</th>\n",
       "      <td>EState_VSA5</td>\n",
       "      <td>0.002784</td>\n",
       "    </tr>\n",
       "    <tr>\n",
       "      <th>52</th>\n",
       "      <td>SlogP_VSA1</td>\n",
       "      <td>0.002781</td>\n",
       "    </tr>\n",
       "    <tr>\n",
       "      <th>51</th>\n",
       "      <td>SMR_VSA9</td>\n",
       "      <td>0.002730</td>\n",
       "    </tr>\n",
       "    <tr>\n",
       "      <th>80</th>\n",
       "      <td>VSA_EState9</td>\n",
       "      <td>0.002706</td>\n",
       "    </tr>\n",
       "    <tr>\n",
       "      <th>10</th>\n",
       "      <td>MaxAbsPartialCharge</td>\n",
       "      <td>0.002683</td>\n",
       "    </tr>\n",
       "    <tr>\n",
       "      <th>56</th>\n",
       "      <td>SlogP_VSA3</td>\n",
       "      <td>0.002630</td>\n",
       "    </tr>\n",
       "    <tr>\n",
       "      <th>71</th>\n",
       "      <td>VSA_EState1</td>\n",
       "      <td>0.002569</td>\n",
       "    </tr>\n",
       "    <tr>\n",
       "      <th>26</th>\n",
       "      <td>Chi1v</td>\n",
       "      <td>0.002454</td>\n",
       "    </tr>\n",
       "    <tr>\n",
       "      <th>72</th>\n",
       "      <td>VSA_EState10</td>\n",
       "      <td>0.002387</td>\n",
       "    </tr>\n",
       "  </tbody>\n",
       "</table>\n",
       "</div>"
      ],
      "text/plain": [
       "                Feature  Importance\n",
       "86     NumAromaticRings    0.319219\n",
       "92            RingCount    0.287344\n",
       "81         FractionCSP3    0.039714\n",
       "46            SMR_VSA10    0.031800\n",
       "5                   SPS    0.020841\n",
       "62         EState_VSA10    0.017194\n",
       "33            PEOE_VSA1    0.014470\n",
       "27                Chi4v    0.013902\n",
       "53          SlogP_VSA10    0.012508\n",
       "15          BCUT2D_MWHI    0.010753\n",
       "60                 TPSA    0.009805\n",
       "48             SMR_VSA5    0.007625\n",
       "4                   qed    0.007375\n",
       "28        HallKierAlpha    0.007079\n",
       "96                 NPR2    0.006904\n",
       "55           SlogP_VSA2    0.006153\n",
       "54          SlogP_VSA12    0.006132\n",
       "0     MaxAbsEStateIndex    0.005520\n",
       "6                 MolWt    0.005481\n",
       "93              MolLogP    0.005053\n",
       "3        MinEStateIndex    0.004897\n",
       "58           SlogP_VSA5    0.004856\n",
       "19        BCUT2D_LOGPHI    0.004787\n",
       "20       BCUT2D_LOGPLOW    0.004502\n",
       "30               Kappa2    0.004195\n",
       "79          VSA_EState8    0.004179\n",
       "75          VSA_EState4    0.004161\n",
       "77          VSA_EState6    0.003928\n",
       "78          VSA_EState7    0.003583\n",
       "47             SMR_VSA4    0.003499\n",
       "39            PEOE_VSA4    0.003456\n",
       "36           PEOE_VSA14    0.003319\n",
       "25              BertzCT    0.003153\n",
       "24             BalabanJ    0.003045\n",
       "64          EState_VSA3    0.002987\n",
       "45             SMR_VSA1    0.002912\n",
       "32            LabuteASA    0.002907\n",
       "37            PEOE_VSA2    0.002896\n",
       "35           PEOE_VSA11    0.002887\n",
       "23               AvgIpc    0.002871\n",
       "21          BCUT2D_MRHI    0.002787\n",
       "66          EState_VSA5    0.002784\n",
       "52           SlogP_VSA1    0.002781\n",
       "51             SMR_VSA9    0.002730\n",
       "80          VSA_EState9    0.002706\n",
       "10  MaxAbsPartialCharge    0.002683\n",
       "56           SlogP_VSA3    0.002630\n",
       "71          VSA_EState1    0.002569\n",
       "26                Chi1v    0.002454\n",
       "72         VSA_EState10    0.002387"
      ]
     },
     "execution_count": 7,
     "metadata": {},
     "output_type": "execute_result"
    }
   ],
   "source": [
    "# Train and evaluate model\n",
    "top_n_features = get_top_n_features(X_train, y_train, best_params, 50)\n",
    "top_n_features"
   ]
  },
  {
   "cell_type": "code",
   "execution_count": 8,
   "metadata": {},
   "outputs": [],
   "source": [
    "import matplotlib.pyplot as plt\n",
    "\n",
    "\n",
    "def plot_r2_vs_features(\n",
    "    X_train, y_train, X_test, y_test, best_params, top_n_features, max_features\n",
    "):\n",
    "    r2_scores_train = []\n",
    "    r2_scores_test = []\n",
    "\n",
    "    for n in range(1, max_features + 1):\n",
    "        # Select top n features\n",
    "        features = top_n_features[\"Feature\"][:n]\n",
    "\n",
    "        # Train model with top n features\n",
    "        model = XGBRegressor(**best_params, random_state=42)\n",
    "        X_train_top_n = X_train[features]\n",
    "        X_test_top_n = X_test[features]\n",
    "        model.fit(X_train_top_n, y_train)\n",
    "\n",
    "        # Evaluate R²\n",
    "        r2_train = r2_score(y_train, model.predict(X_train_top_n))\n",
    "        r2_test = r2_score(y_test, model.predict(X_test_top_n))\n",
    "\n",
    "        r2_scores_train.append(r2_train)\n",
    "        r2_scores_test.append(r2_test)\n",
    "\n",
    "    # Plot R² vs number of features\n",
    "    plt.figure(figsize=(10, 6))\n",
    "    plt.plot(range(1, max_features + 1), r2_scores_train, label=\"Train R²\", marker=\"o\")\n",
    "    plt.plot(range(1, max_features + 1), r2_scores_test, label=\"Test R²\", marker=\"o\")\n",
    "    plt.xlabel(\"Number of Features\")\n",
    "    plt.ylabel(\"R² Score\")\n",
    "    plt.title(\"R² Score vs Number of Features\")\n",
    "    plt.legend()\n",
    "    plt.grid()\n",
    "    plt.show()\n",
    "\n",
    "    selected_result = pd.DataFrame(\n",
    "        {\n",
    "            \"r2_scores_train\": r2_scores_train,\n",
    "            \"r2_scores_test\": r2_scores_test,\n",
    "        }\n",
    "    )\n",
    "\n",
    "    selected_result.to_excel(\"../Results/xgb_top_n_feats_D.xlsx\")"
   ]
  },
  {
   "cell_type": "code",
   "execution_count": 9,
   "metadata": {},
   "outputs": [
    {
     "data": {
      "image/png": "[encoded data removed]",
      "text/plain": [
       "<Figure size 1000x600 with 1 Axes>"
      ]
     },
     "metadata": {},
     "output_type": "display_data"
    }
   ],
   "source": [
    "# Example usage for D\n",
    "plot_r2_vs_features(\n",
    "    X_train, y_train, X_test, y_test, best_params, top_n_features, len(top_n_features)\n",
    ")"
   ]
  }
 ],
 "metadata": {
  "kernelspec": {
   "display_name": "py38",
   "language": "python",
   "name": "python3"
  },
  "language_info": {
   "codemirror_mode": {
    "name": "ipython",
    "version": 3
   },
   "file_extension": ".py",
   "mimetype": "text/x-python",
   "name": "python",
   "nbconvert_exporter": "python",
   "pygments_lexer": "ipython3",
   "version": "3.8.20"
  }
 },
 "nbformat": 4,
 "nbformat_minor": 2
}
