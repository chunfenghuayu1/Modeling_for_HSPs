{
 "cells": [
  {
   "cell_type": "code",
   "execution_count": 1,
   "metadata": {},
   "outputs": [],
   "source": [
    "import pandas as pd\n",
    "\n",
    "train = pd.read_excel(\"../../Dataset/train_data.xlsx\", index_col=False)\n",
    "test = pd.read_excel(\"../../Dataset/test_data.xlsx\", index_col=False)\n",
    "X_train = train.iloc[:, 6:]\n",
    "y_train = train[\"P\"]\n",
    "\n",
    "X_test = test.iloc[:, 6:]\n",
    "y_test = test[\"P\"]"
   ]
  },
  {
   "cell_type": "code",
   "execution_count": 2,
   "metadata": {},
   "outputs": [],
   "source": [
    "from sklearn.model_selection import cross_val_score\n",
    "from sklearn.metrics import r2_score\n",
    "from hyperopt import fmin, tpe, hp, Trials, STATUS_OK\n",
    "import numpy as np\n",
    "from xgboost import XGBRegressor\n",
    "\n",
    "\n",
    "# Function for hyperparameter optimization using hyperopt\n",
    "def optimize_hyperparameters(X, y, cv=5, max_evals=50):\n",
    "    def objective(params):\n",
    "        model = XGBRegressor(\n",
    "            **params, random_state=42, use_label_encoder=False, eval_metric=\"rmse\"\n",
    "        )\n",
    "        scores = cross_val_score(\n",
    "            model, X, y, cv=cv, scoring=\"neg_root_mean_squared_error\", n_jobs=-1\n",
    "        )\n",
    "        return {\"loss\": -np.mean(scores), \"status\": STATUS_OK}\n",
    "\n",
    "    param_space = {\n",
    "        \"n_estimators\": hp.choice(\"n_estimators\", [50, 100, 200]),\n",
    "        \"max_depth\": hp.choice(\"max_depth\", [3, 6, 9, 12]),\n",
    "        \"colsample_bytree\": hp.uniform(\"colsample_bytree\", 0.5, 1.0),\n",
    "        \"gamma\": hp.uniform(\"gamma\", 0, 5),\n",
    "        \"reg_alpha\": hp.quniform(\"reg_alpha\", 0, 180, 1),\n",
    "        \"reg_lambda\": hp.uniform(\"reg_lambda\", 0, 1),\n",
    "        \"min_child_weight\": hp.choice(\"min_child_weight\", [1, 3, 5]),\n",
    "    }\n",
    "\n",
    "    trials = Trials()\n",
    "    best_params = fmin(\n",
    "        fn=objective,\n",
    "        space=param_space,\n",
    "        algo=tpe.suggest,\n",
    "        max_evals=max_evals,\n",
    "        trials=trials,\n",
    "    )\n",
    "\n",
    "    # Convert indices to actual values\n",
    "    best_params[\"n_estimators\"] = [50, 100, 200][best_params[\"n_estimators\"]]\n",
    "    best_params[\"max_depth\"] = [3, 6, 9, 12][best_params[\"max_depth\"]]\n",
    "    best_params[\"min_child_weight\"] = [1, 3, 5][best_params[\"min_child_weight\"]]\n",
    "\n",
    "    return best_params"
   ]
  },
  {
   "cell_type": "code",
   "execution_count": 3,
   "metadata": {},
   "outputs": [],
   "source": [
    "def get_top_n_features(X_train, y_train, best_params, n):\n",
    "    # Train the ExtraTreesRegressor model\n",
    "    model = XGBRegressor(**best_params, random_state=42)\n",
    "    model.fit(X_train, y_train)\n",
    "\n",
    "    # Get feature importances\n",
    "    feature_importances = model.feature_importances_\n",
    "\n",
    "    # Create a DataFrame for feature importances\n",
    "    feature_importance_df = pd.DataFrame(\n",
    "        {\"Feature\": X_train.columns, \"Importance\": feature_importances}\n",
    "    )\n",
    "\n",
    "    # Sort features by importance in descending order\n",
    "    feature_importance_df = feature_importance_df.sort_values(\n",
    "        by=\"Importance\", ascending=False\n",
    "    )\n",
    "\n",
    "    feature_importance_df.to_excel(\n",
    "        \"../Results/xgb_feature_importance_P.xlsx\", index=False\n",
    "    )\n",
    "    # Return the top n features\n",
    "    return feature_importance_df.head(n)"
   ]
  },
  {
   "cell_type": "code",
   "execution_count": 4,
   "metadata": {},
   "outputs": [
    {
     "name": "stdout",
     "output_type": "stream",
     "text": [
      "100%|██████████| 50/50 [00:29<00:00,  1.72trial/s, best loss: 2.52838382256863]  \n"
     ]
    }
   ],
   "source": [
    "# Optimize hyperparameters\n",
    "best_params = optimize_hyperparameters(X_train, y_train, cv=5)"
   ]
  },
  {
   "cell_type": "code",
   "execution_count": 5,
   "metadata": {},
   "outputs": [
    {
     "name": "stdout",
     "output_type": "stream",
     "text": [
      "Best Parameters: {'colsample_bytree': 0.6217777692435855, 'gamma': 0.006474382404167145, 'max_depth': 3, 'min_child_weight': 5, 'n_estimators': 200, 'reg_alpha': 2.0, 'reg_lambda': 0.8531019163537051}\n"
     ]
    }
   ],
   "source": [
    "print(\"Best Parameters:\", best_params)"
   ]
  },
  {
   "cell_type": "code",
   "execution_count": 6,
   "metadata": {},
   "outputs": [],
   "source": [
    "import json\n",
    "\n",
    "# Save best_params to a JSON file\n",
    "with open(\"../Results/xgb_best_params_P.json\", \"w\") as json_file:\n",
    "    json.dump(best_params, json_file)"
   ]
  },
  {
   "cell_type": "code",
   "execution_count": 7,
   "metadata": {},
   "outputs": [
    {
     "data": {
      "application/vnd.microsoft.datawrangler.viewer.v0+json": {
       "columns": [
        {
         "name": "index",
         "rawType": "int64",
         "type": "integer"
        },
        {
         "name": "Feature",
         "rawType": "object",
         "type": "string"
        },
        {
         "name": "Importance",
         "rawType": "float32",
         "type": "float"
        }
       ],
       "conversionMethod": "pd.DataFrame",
       "ref": "f236f3e2-1fac-4ca8-9eb9-7821d250ee87",
       "rows": [
        [
         "60",
         "TPSA",
         "0.1365613"
        ],
        [
         "83",
         "NOCount",
         "0.07791179"
        ],
        [
         "84",
         "NumAliphaticRings",
         "0.07108117"
        ],
        [
         "48",
         "SMR_VSA5",
         "0.062362555"
        ],
        [
         "41",
         "PEOE_VSA6",
         "0.055270154"
        ],
        [
         "37",
         "PEOE_VSA2",
         "0.05049"
        ],
        [
         "57",
         "SlogP_VSA4",
         "0.046908416"
        ],
        [
         "52",
         "SlogP_VSA1",
         "0.034023646"
        ],
        [
         "8",
         "MaxPartialCharge",
         "0.029709777"
        ],
        [
         "54",
         "SlogP_VSA12",
         "0.02674389"
        ],
        [
         "10",
         "MaxAbsPartialCharge",
         "0.024578938"
        ],
        [
         "80",
         "VSA_EState9",
         "0.019165276"
        ],
        [
         "45",
         "SMR_VSA1",
         "0.019157127"
        ],
        [
         "93",
         "MolLogP",
         "0.0151522765"
        ],
        [
         "79",
         "VSA_EState8",
         "0.0142250145"
        ],
        [
         "21",
         "BCUT2D_MRHI",
         "0.014188138"
        ],
        [
         "30",
         "Kappa2",
         "0.014122316"
        ],
        [
         "11",
         "MinAbsPartialCharge",
         "0.013667879"
        ],
        [
         "15",
         "BCUT2D_MWHI",
         "0.012780027"
        ],
        [
         "46",
         "SMR_VSA10",
         "0.009796152"
        ],
        [
         "24",
         "BalabanJ",
         "0.009516066"
        ],
        [
         "70",
         "EState_VSA9",
         "0.009496526"
        ],
        [
         "13",
         "FpDensityMorgan2",
         "0.009429235"
        ],
        [
         "0",
         "MaxAbsEStateIndex",
         "0.0085756695"
        ],
        [
         "49",
         "SMR_VSA6",
         "0.008172325"
        ],
        [
         "36",
         "PEOE_VSA14",
         "0.00791951"
        ],
        [
         "72",
         "VSA_EState10",
         "0.00788746"
        ],
        [
         "1",
         "MaxEStateIndex",
         "0.007515375"
        ],
        [
         "25",
         "BertzCT",
         "0.007514695"
        ],
        [
         "20",
         "BCUT2D_LOGPLOW",
         "0.006615669"
        ],
        [
         "90",
         "NumRotatableBonds",
         "0.006454043"
        ],
        [
         "61",
         "EState_VSA1",
         "0.0063401544"
        ],
        [
         "33",
         "PEOE_VSA1",
         "0.0061091706"
        ],
        [
         "55",
         "SlogP_VSA2",
         "0.0056854277"
        ],
        [
         "44",
         "PEOE_VSA9",
         "0.005352306"
        ],
        [
         "2",
         "MinAbsEStateIndex",
         "0.005123956"
        ],
        [
         "81",
         "FractionCSP3",
         "0.004784196"
        ],
        [
         "38",
         "PEOE_VSA3",
         "0.0046566045"
        ],
        [
         "35",
         "PEOE_VSA11",
         "0.004574673"
        ],
        [
         "63",
         "EState_VSA2",
         "0.004420475"
        ],
        [
         "56",
         "SlogP_VSA3",
         "0.0043289983"
        ],
        [
         "92",
         "RingCount",
         "0.004203312"
        ],
        [
         "74",
         "VSA_EState3",
         "0.0041448264"
        ],
        [
         "19",
         "BCUT2D_LOGPHI",
         "0.004074755"
        ],
        [
         "9",
         "MinPartialCharge",
         "0.003993401"
        ],
        [
         "32",
         "LabuteASA",
         "0.0038267758"
        ],
        [
         "51",
         "SMR_VSA9",
         "0.0037389277"
        ],
        [
         "73",
         "VSA_EState2",
         "0.0037263162"
        ],
        [
         "62",
         "EState_VSA10",
         "0.0033492278"
        ],
        [
         "39",
         "PEOE_VSA4",
         "0.0031865796"
        ]
       ],
       "shape": {
        "columns": 2,
        "rows": 50
       }
      },
      "text/html": [
       "<div>\n",
       "<style scoped>\n",
       "    .dataframe tbody tr th:only-of-type {\n",
       "        vertical-align: middle;\n",
       "    }\n",
       "\n",
       "    .dataframe tbody tr th {\n",
       "        vertical-align: top;\n",
       "    }\n",
       "\n",
       "    .dataframe thead th {\n",
       "        text-align: right;\n",
       "    }\n",
       "</style>\n",
       "<table border=\"1\" class=\"dataframe\">\n",
       "  <thead>\n",
       "    <tr style=\"text-align: right;\">\n",
       "      <th></th>\n",
       "      <th>Feature</th>\n",
       "      <th>Importance</th>\n",
       "    </tr>\n",
       "  </thead>\n",
       "  <tbody>\n",
       "    <tr>\n",
       "      <th>60</th>\n",
       "      <td>TPSA</td>\n",
       "      <td>0.136561</td>\n",
       "    </tr>\n",
       "    <tr>\n",
       "      <th>83</th>\n",
       "      <td>NOCount</td>\n",
       "      <td>0.077912</td>\n",
       "    </tr>\n",
       "    <tr>\n",
       "      <th>84</th>\n",
       "      <td>NumAliphaticRings</td>\n",
       "      <td>0.071081</td>\n",
       "    </tr>\n",
       "    <tr>\n",
       "      <th>48</th>\n",
       "      <td>SMR_VSA5</td>\n",
       "      <td>0.062363</td>\n",
       "    </tr>\n",
       "    <tr>\n",
       "      <th>41</th>\n",
       "      <td>PEOE_VSA6</td>\n",
       "      <td>0.055270</td>\n",
       "    </tr>\n",
       "    <tr>\n",
       "      <th>37</th>\n",
       "      <td>PEOE_VSA2</td>\n",
       "      <td>0.050490</td>\n",
       "    </tr>\n",
       "    <tr>\n",
       "      <th>57</th>\n",
       "      <td>SlogP_VSA4</td>\n",
       "      <td>0.046908</td>\n",
       "    </tr>\n",
       "    <tr>\n",
       "      <th>52</th>\n",
       "      <td>SlogP_VSA1</td>\n",
       "      <td>0.034024</td>\n",
       "    </tr>\n",
       "    <tr>\n",
       "      <th>8</th>\n",
       "      <td>MaxPartialCharge</td>\n",
       "      <td>0.029710</td>\n",
       "    </tr>\n",
       "    <tr>\n",
       "      <th>54</th>\n",
       "      <td>SlogP_VSA12</td>\n",
       "      <td>0.026744</td>\n",
       "    </tr>\n",
       "    <tr>\n",
       "      <th>10</th>\n",
       "      <td>MaxAbsPartialCharge</td>\n",
       "      <td>0.024579</td>\n",
       "    </tr>\n",
       "    <tr>\n",
       "      <th>80</th>\n",
       "      <td>VSA_EState9</td>\n",
       "      <td>0.019165</td>\n",
       "    </tr>\n",
       "    <tr>\n",
       "      <th>45</th>\n",
       "      <td>SMR_VSA1</td>\n",
       "      <td>0.019157</td>\n",
       "    </tr>\n",
       "    <tr>\n",
       "      <th>93</th>\n",
       "      <td>MolLogP</td>\n",
       "      <td>0.015152</td>\n",
       "    </tr>\n",
       "    <tr>\n",
       "      <th>79</th>\n",
       "      <td>VSA_EState8</td>\n",
       "      <td>0.014225</td>\n",
       "    </tr>\n",
       "    <tr>\n",
       "      <th>21</th>\n",
       "      <td>BCUT2D_MRHI</td>\n",
       "      <td>0.014188</td>\n",
       "    </tr>\n",
       "    <tr>\n",
       "      <th>30</th>\n",
       "      <td>Kappa2</td>\n",
       "      <td>0.014122</td>\n",
       "    </tr>\n",
       "    <tr>\n",
       "      <th>11</th>\n",
       "      <td>MinAbsPartialCharge</td>\n",
       "      <td>0.013668</td>\n",
       "    </tr>\n",
       "    <tr>\n",
       "      <th>15</th>\n",
       "      <td>BCUT2D_MWHI</td>\n",
       "      <td>0.012780</td>\n",
       "    </tr>\n",
       "    <tr>\n",
       "      <th>46</th>\n",
       "      <td>SMR_VSA10</td>\n",
       "      <td>0.009796</td>\n",
       "    </tr>\n",
       "    <tr>\n",
       "      <th>24</th>\n",
       "      <td>BalabanJ</td>\n",
       "      <td>0.009516</td>\n",
       "    </tr>\n",
       "    <tr>\n",
       "      <th>70</th>\n",
       "      <td>EState_VSA9</td>\n",
       "      <td>0.009497</td>\n",
       "    </tr>\n",
       "    <tr>\n",
       "      <th>13</th>\n",
       "      <td>FpDensityMorgan2</td>\n",
       "      <td>0.009429</td>\n",
       "    </tr>\n",
       "    <tr>\n",
       "      <th>0</th>\n",
       "      <td>MaxAbsEStateIndex</td>\n",
       "      <td>0.008576</td>\n",
       "    </tr>\n",
       "    <tr>\n",
       "      <th>49</th>\n",
       "      <td>SMR_VSA6</td>\n",
       "      <td>0.008172</td>\n",
       "    </tr>\n",
       "    <tr>\n",
       "      <th>36</th>\n",
       "      <td>PEOE_VSA14</td>\n",
       "      <td>0.007920</td>\n",
       "    </tr>\n",
       "    <tr>\n",
       "      <th>72</th>\n",
       "      <td>VSA_EState10</td>\n",
       "      <td>0.007887</td>\n",
       "    </tr>\n",
       "    <tr>\n",
       "      <th>1</th>\n",
       "      <td>MaxEStateIndex</td>\n",
       "      <td>0.007515</td>\n",
       "    </tr>\n",
       "    <tr>\n",
       "      <th>25</th>\n",
       "      <td>BertzCT</td>\n",
       "      <td>0.007515</td>\n",
       "    </tr>\n",
       "    <tr>\n",
       "      <th>20</th>\n",
       "      <td>BCUT2D_LOGPLOW</td>\n",
       "      <td>0.006616</td>\n",
       "    </tr>\n",
       "    <tr>\n",
       "      <th>90</th>\n",
       "      <td>NumRotatableBonds</td>\n",
       "      <td>0.006454</td>\n",
       "    </tr>\n",
       "    <tr>\n",
       "      <th>61</th>\n",
       "      <td>EState_VSA1</td>\n",
       "      <td>0.006340</td>\n",
       "    </tr>\n",
       "    <tr>\n",
       "      <th>33</th>\n",
       "      <td>PEOE_VSA1</td>\n",
       "      <td>0.006109</td>\n",
       "    </tr>\n",
       "    <tr>\n",
       "      <th>55</th>\n",
       "      <td>SlogP_VSA2</td>\n",
       "      <td>0.005685</td>\n",
       "    </tr>\n",
       "    <tr>\n",
       "      <th>44</th>\n",
       "      <td>PEOE_VSA9</td>\n",
       "      <td>0.005352</td>\n",
       "    </tr>\n",
       "    <tr>\n",
       "      <th>2</th>\n",
       "      <td>MinAbsEStateIndex</td>\n",
       "      <td>0.005124</td>\n",
       "    </tr>\n",
       "    <tr>\n",
       "      <th>81</th>\n",
       "      <td>FractionCSP3</td>\n",
       "      <td>0.004784</td>\n",
       "    </tr>\n",
       "    <tr>\n",
       "      <th>38</th>\n",
       "      <td>PEOE_VSA3</td>\n",
       "      <td>0.004657</td>\n",
       "    </tr>\n",
       "    <tr>\n",
       "      <th>35</th>\n",
       "      <td>PEOE_VSA11</td>\n",
       "      <td>0.004575</td>\n",
       "    </tr>\n",
       "    <tr>\n",
       "      <th>63</th>\n",
       "      <td>EState_VSA2</td>\n",
       "      <td>0.004420</td>\n",
       "    </tr>\n",
       "    <tr>\n",
       "      <th>56</th>\n",
       "      <td>SlogP_VSA3</td>\n",
       "      <td>0.004329</td>\n",
       "    </tr>\n",
       "    <tr>\n",
       "      <th>92</th>\n",
       "      <td>RingCount</td>\n",
       "      <td>0.004203</td>\n",
       "    </tr>\n",
       "    <tr>\n",
       "      <th>74</th>\n",
       "      <td>VSA_EState3</td>\n",
       "      <td>0.004145</td>\n",
       "    </tr>\n",
       "    <tr>\n",
       "      <th>19</th>\n",
       "      <td>BCUT2D_LOGPHI</td>\n",
       "      <td>0.004075</td>\n",
       "    </tr>\n",
       "    <tr>\n",
       "      <th>9</th>\n",
       "      <td>MinPartialCharge</td>\n",
       "      <td>0.003993</td>\n",
       "    </tr>\n",
       "    <tr>\n",
       "      <th>32</th>\n",
       "      <td>LabuteASA</td>\n",
       "      <td>0.003827</td>\n",
       "    </tr>\n",
       "    <tr>\n",
       "      <th>51</th>\n",
       "      <td>SMR_VSA9</td>\n",
       "      <td>0.003739</td>\n",
       "    </tr>\n",
       "    <tr>\n",
       "      <th>73</th>\n",
       "      <td>VSA_EState2</td>\n",
       "      <td>0.003726</td>\n",
       "    </tr>\n",
       "    <tr>\n",
       "      <th>62</th>\n",
       "      <td>EState_VSA10</td>\n",
       "      <td>0.003349</td>\n",
       "    </tr>\n",
       "    <tr>\n",
       "      <th>39</th>\n",
       "      <td>PEOE_VSA4</td>\n",
       "      <td>0.003187</td>\n",
       "    </tr>\n",
       "  </tbody>\n",
       "</table>\n",
       "</div>"
      ],
      "text/plain": [
       "                Feature  Importance\n",
       "60                 TPSA    0.136561\n",
       "83              NOCount    0.077912\n",
       "84    NumAliphaticRings    0.071081\n",
       "48             SMR_VSA5    0.062363\n",
       "41            PEOE_VSA6    0.055270\n",
       "37            PEOE_VSA2    0.050490\n",
       "57           SlogP_VSA4    0.046908\n",
       "52           SlogP_VSA1    0.034024\n",
       "8      MaxPartialCharge    0.029710\n",
       "54          SlogP_VSA12    0.026744\n",
       "10  MaxAbsPartialCharge    0.024579\n",
       "80          VSA_EState9    0.019165\n",
       "45             SMR_VSA1    0.019157\n",
       "93              MolLogP    0.015152\n",
       "79          VSA_EState8    0.014225\n",
       "21          BCUT2D_MRHI    0.014188\n",
       "30               Kappa2    0.014122\n",
       "11  MinAbsPartialCharge    0.013668\n",
       "15          BCUT2D_MWHI    0.012780\n",
       "46            SMR_VSA10    0.009796\n",
       "24             BalabanJ    0.009516\n",
       "70          EState_VSA9    0.009497\n",
       "13     FpDensityMorgan2    0.009429\n",
       "0     MaxAbsEStateIndex    0.008576\n",
       "49             SMR_VSA6    0.008172\n",
       "36           PEOE_VSA14    0.007920\n",
       "72         VSA_EState10    0.007887\n",
       "1        MaxEStateIndex    0.007515\n",
       "25              BertzCT    0.007515\n",
       "20       BCUT2D_LOGPLOW    0.006616\n",
       "90    NumRotatableBonds    0.006454\n",
       "61          EState_VSA1    0.006340\n",
       "33            PEOE_VSA1    0.006109\n",
       "55           SlogP_VSA2    0.005685\n",
       "44            PEOE_VSA9    0.005352\n",
       "2     MinAbsEStateIndex    0.005124\n",
       "81         FractionCSP3    0.004784\n",
       "38            PEOE_VSA3    0.004657\n",
       "35           PEOE_VSA11    0.004575\n",
       "63          EState_VSA2    0.004420\n",
       "56           SlogP_VSA3    0.004329\n",
       "92            RingCount    0.004203\n",
       "74          VSA_EState3    0.004145\n",
       "19        BCUT2D_LOGPHI    0.004075\n",
       "9      MinPartialCharge    0.003993\n",
       "32            LabuteASA    0.003827\n",
       "51             SMR_VSA9    0.003739\n",
       "73          VSA_EState2    0.003726\n",
       "62         EState_VSA10    0.003349\n",
       "39            PEOE_VSA4    0.003187"
      ]
     },
     "execution_count": 7,
     "metadata": {},
     "output_type": "execute_result"
    }
   ],
   "source": [
    "# Train and evaluate model\n",
    "top_n_features = get_top_n_features(X_train, y_train, best_params, 50)\n",
    "top_n_features"
   ]
  },
  {
   "cell_type": "code",
   "execution_count": 8,
   "metadata": {},
   "outputs": [],
   "source": [
    "import matplotlib.pyplot as plt\n",
    "\n",
    "\n",
    "def plot_r2_vs_features(\n",
    "    X_train, y_train, X_test, y_test, best_params, top_n_features, max_features\n",
    "):\n",
    "    r2_scores_train = []\n",
    "    r2_scores_test = []\n",
    "\n",
    "    for n in range(1, max_features + 1):\n",
    "        # Select top n features\n",
    "        features = top_n_features[\"Feature\"][:n]\n",
    "\n",
    "        # Train model with top n features\n",
    "        model = XGBRegressor(**best_params, random_state=42)\n",
    "        X_train_top_n = X_train[features]\n",
    "        X_test_top_n = X_test[features]\n",
    "        model.fit(X_train_top_n, y_train)\n",
    "\n",
    "        # Evaluate R²\n",
    "        r2_train = r2_score(y_train, model.predict(X_train_top_n))\n",
    "        r2_test = r2_score(y_test, model.predict(X_test_top_n))\n",
    "\n",
    "        r2_scores_train.append(r2_train)\n",
    "        r2_scores_test.append(r2_test)\n",
    "\n",
    "    # Plot R² vs number of features\n",
    "    plt.figure(figsize=(10, 6))\n",
    "    plt.plot(range(1, max_features + 1), r2_scores_train, label=\"Train R²\", marker=\"o\")\n",
    "    plt.plot(range(1, max_features + 1), r2_scores_test, label=\"Test R²\", marker=\"o\")\n",
    "    plt.xlabel(\"Number of Features\")\n",
    "    plt.ylabel(\"R² Score\")\n",
    "    plt.title(\"R² Score vs Number of Features\")\n",
    "    plt.legend()\n",
    "    plt.grid()\n",
    "    plt.show()\n",
    "\n",
    "    selected_result = pd.DataFrame(\n",
    "        {\n",
    "            \"r2_scores_train\": r2_scores_train,\n",
    "            \"r2_scores_test\": r2_scores_test,\n",
    "        }\n",
    "    )\n",
    "\n",
    "    selected_result.to_excel(\"../Results/xgb_top_n_feats_P.xlsx\")"
   ]
  },
  {
   "cell_type": "code",
   "execution_count": 9,
   "metadata": {},
   "outputs": [
    {
     "data": {
      "image/png": "[encoded data removed]",
      "text/plain": [
       "<Figure size 1000x600 with 1 Axes>"
      ]
     },
     "metadata": {},
     "output_type": "display_data"
    }
   ],
   "source": [
    "# Example usage for D\n",
    "plot_r2_vs_features(\n",
    "    X_train, y_train, X_test, y_test, best_params, top_n_features, len(top_n_features)\n",
    ")"
   ]
  }
 ],
 "metadata": {
  "kernelspec": {
   "display_name": "py38",
   "language": "python",
   "name": "python3"
  },
  "language_info": {
   "codemirror_mode": {
    "name": "ipython",
    "version": 3
   },
   "file_extension": ".py",
   "mimetype": "text/x-python",
   "name": "python",
   "nbconvert_exporter": "python",
   "pygments_lexer": "ipython3",
   "version": "3.8.20"
  }
 },
 "nbformat": 4,
 "nbformat_minor": 2
}
