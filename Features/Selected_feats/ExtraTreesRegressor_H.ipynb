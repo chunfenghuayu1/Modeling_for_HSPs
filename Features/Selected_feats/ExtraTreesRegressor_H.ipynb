{
 "cells": [
  {
   "cell_type": "code",
   "execution_count": 10,
   "metadata": {},
   "outputs": [],
   "source": [
    "import pandas as pd\n",
    "\n",
    "train = pd.read_excel(\"../../Dataset/train_data.xlsx\", index_col=False)\n",
    "test = pd.read_excel(\"../../Dataset/test_data.xlsx\", index_col=False)\n",
    "X_train = train.iloc[:, 6:]\n",
    "y_train = train[\"H\"]\n",
    "\n",
    "X_test = test.iloc[:, 6:]\n",
    "y_test = test[\"H\"]"
   ]
  },
  {
   "cell_type": "code",
   "execution_count": 11,
   "metadata": {},
   "outputs": [],
   "source": [
    "from sklearn.ensemble import ExtraTreesRegressor\n",
    "from sklearn.model_selection import cross_val_score\n",
    "from sklearn.metrics import r2_score\n",
    "from hyperopt import fmin, tpe, hp, Trials, STATUS_OK\n",
    "import numpy as np\n",
    "\n",
    "\n",
    "# Function for hyperparameter optimization using hyperopt\n",
    "def optimize_hyperparameters(X, y, cv=5, max_evals=50):\n",
    "    def objective(params):\n",
    "        model = ExtraTreesRegressor(**params, random_state=42)\n",
    "        scores = cross_val_score(\n",
    "            model, X, y, cv=cv, scoring=\"neg_root_mean_squared_error\", n_jobs=-1\n",
    "        )\n",
    "        return {\"loss\": -np.mean(scores), \"status\": STATUS_OK}\n",
    "\n",
    "    param_space = {\n",
    "        \"n_estimators\": hp.choice(\"n_estimators\", [50, 100, 200]),\n",
    "        \"max_depth\": hp.choice(\"max_depth\", [5, 10, 15]),\n",
    "        \"min_samples_split\": hp.choice(\"min_samples_split\", [2, 5, 10]),\n",
    "        \"min_samples_leaf\": hp.choice(\"min_samples_leaf\", [1, 2, 4]),\n",
    "        \"criterion\": \"friedman_mse\",\n",
    "        \"bootstrap\": True,\n",
    "        \"oob_score\": True,\n",
    "    }\n",
    "\n",
    "    trials = Trials()\n",
    "    best_params = fmin(\n",
    "        fn=objective,\n",
    "        space=param_space,\n",
    "        algo=tpe.suggest,\n",
    "        max_evals=max_evals,\n",
    "        trials=trials,\n",
    "    )\n",
    "\n",
    "    # Convert indices to actual values\n",
    "    best_params[\"n_estimators\"] = [50, 100, 200][best_params[\"n_estimators\"]]\n",
    "    best_params[\"max_depth\"] = [5, 10, 15][best_params[\"max_depth\"]]\n",
    "    best_params[\"min_samples_split\"] = [2, 5, 10][best_params[\"min_samples_split\"]]\n",
    "    best_params[\"min_samples_leaf\"] = [1, 2, 4][best_params[\"min_samples_leaf\"]]\n",
    "    best_params[\"criterion\"] = \"friedman_mse\"\n",
    "    best_params[\"bootstrap\"] = True\n",
    "    best_params[\"oob_score\"] = True\n",
    "\n",
    "    return best_params"
   ]
  },
  {
   "cell_type": "code",
   "execution_count": 12,
   "metadata": {},
   "outputs": [],
   "source": [
    "def get_top_n_features(X_train, y_train, best_params, n):\n",
    "    # Train the ExtraTreesRegressor model\n",
    "    model = ExtraTreesRegressor(**best_params, random_state=42)\n",
    "    model.fit(X_train, y_train)\n",
    "\n",
    "    # Get feature importances\n",
    "    feature_importances = model.feature_importances_\n",
    "\n",
    "    # Create a DataFrame for feature importances\n",
    "    feature_importance_df = pd.DataFrame(\n",
    "        {\"Feature\": X_train.columns, \"Importance\": feature_importances}\n",
    "    )\n",
    "\n",
    "    # Sort features by importance in descending order\n",
    "    feature_importance_df = feature_importance_df.sort_values(\n",
    "        by=\"Importance\", ascending=False\n",
    "    )\n",
    "\n",
    "    feature_importance_df.to_excel(\"../Results/feature_importance_H.xlsx\", index=False)\n",
    "    # Return the top n features\n",
    "    return feature_importance_df.head(n)"
   ]
  },
  {
   "cell_type": "code",
   "execution_count": 13,
   "metadata": {},
   "outputs": [
    {
     "name": "stdout",
     "output_type": "stream",
     "text": [
      "100%|██████████| 50/50 [00:27<00:00,  1.80trial/s, best loss: 2.4807575072943258]\n"
     ]
    }
   ],
   "source": [
    "# Optimize hyperparameters\n",
    "best_params = optimize_hyperparameters(X_train, y_train, cv=5)"
   ]
  },
  {
   "cell_type": "code",
   "execution_count": 14,
   "metadata": {},
   "outputs": [
    {
     "name": "stdout",
     "output_type": "stream",
     "text": [
      "Best Parameters: {'max_depth': 15, 'min_samples_leaf': 1, 'min_samples_split': 2, 'n_estimators': 200, 'criterion': 'friedman_mse', 'bootstrap': True, 'oob_score': True}\n"
     ]
    }
   ],
   "source": [
    "print(\"Best Parameters:\", best_params)"
   ]
  },
  {
   "cell_type": "code",
   "execution_count": 15,
   "metadata": {},
   "outputs": [],
   "source": [
    "import json\n",
    "\n",
    "# Save best_params to a JSON file\n",
    "with open(\"../Results/best_params_H.json\", \"w\") as json_file:\n",
    "    json.dump(best_params, json_file)"
   ]
  },
  {
   "cell_type": "code",
   "execution_count": 16,
   "metadata": {},
   "outputs": [
    {
     "data": {
      "application/vnd.microsoft.datawrangler.viewer.v0+json": {
       "columns": [
        {
         "name": "index",
         "rawType": "int64",
         "type": "integer"
        },
        {
         "name": "Feature",
         "rawType": "object",
         "type": "string"
        },
        {
         "name": "Importance",
         "rawType": "float64",
         "type": "float"
        }
       ],
       "conversionMethod": "pd.DataFrame",
       "ref": "b95d366e-a87d-45ad-b4b3-e18225a99dfd",
       "rows": [
        [
         "88",
         "NumHDonors",
         "0.23389711822384704"
        ],
        [
         "82",
         "NHOHCount",
         "0.20435942178426592"
        ],
        [
         "74",
         "VSA_EState3",
         "0.04274354947686163"
        ],
        [
         "93",
         "MolLogP",
         "0.03805881219999816"
        ],
        [
         "33",
         "PEOE_VSA1",
         "0.03218586319359472"
        ],
        [
         "9",
         "MinPartialCharge",
         "0.0301147273183098"
        ],
        [
         "60",
         "TPSA",
         "0.028586266469250634"
        ],
        [
         "83",
         "NOCount",
         "0.0215846245295549"
        ],
        [
         "87",
         "NumHAcceptors",
         "0.01950473191873484"
        ],
        [
         "24",
         "BalabanJ",
         "0.014129927606720083"
        ],
        [
         "61",
         "EState_VSA1",
         "0.013133956318701576"
        ],
        [
         "21",
         "BCUT2D_MRHI",
         "0.012559915013313853"
        ],
        [
         "79",
         "VSA_EState8",
         "0.011462480535789386"
        ],
        [
         "16",
         "BCUT2D_MWLOW",
         "0.010360139182739453"
        ],
        [
         "2",
         "MinAbsEStateIndex",
         "0.009835053163290725"
        ],
        [
         "34",
         "PEOE_VSA10",
         "0.009826889741035143"
        ],
        [
         "78",
         "VSA_EState7",
         "0.00909500928913318"
        ],
        [
         "10",
         "MaxAbsPartialCharge",
         "0.008099671609257428"
        ],
        [
         "17",
         "BCUT2D_CHGHI",
         "0.007021331269206752"
        ],
        [
         "26",
         "Chi1v",
         "0.0068839461242115275"
        ],
        [
         "18",
         "BCUT2D_CHGLO",
         "0.006317382815262116"
        ],
        [
         "3",
         "MinEStateIndex",
         "0.0063121203628813466"
        ],
        [
         "20",
         "BCUT2D_LOGPLOW",
         "0.006215455073569474"
        ],
        [
         "30",
         "Kappa2",
         "0.006199659674915585"
        ],
        [
         "8",
         "MaxPartialCharge",
         "0.006156425895931192"
        ],
        [
         "1",
         "MaxEStateIndex",
         "0.006036434411136506"
        ],
        [
         "0",
         "MaxAbsEStateIndex",
         "0.005889656819346962"
        ],
        [
         "19",
         "BCUT2D_LOGPHI",
         "0.0057543763103556165"
        ],
        [
         "4",
         "qed",
         "0.005682006268568145"
        ],
        [
         "12",
         "FpDensityMorgan1",
         "0.005426973431193472"
        ],
        [
         "45",
         "SMR_VSA1",
         "0.005120803612703373"
        ],
        [
         "55",
         "SlogP_VSA2",
         "0.004970945624295392"
        ],
        [
         "22",
         "BCUT2D_MRLOW",
         "0.004757530582100127"
        ],
        [
         "48",
         "SMR_VSA5",
         "0.004462796093946882"
        ],
        [
         "15",
         "BCUT2D_MWHI",
         "0.004453273544708742"
        ],
        [
         "69",
         "EState_VSA8",
         "0.004256392179998702"
        ],
        [
         "99",
         "RadiusOfGyration",
         "0.004236572578040917"
        ],
        [
         "58",
         "SlogP_VSA5",
         "0.004207740870712257"
        ],
        [
         "7",
         "NumValenceElectrons",
         "0.0041141337439663745"
        ],
        [
         "6",
         "MolWt",
         "0.0041036633031623386"
        ],
        [
         "32",
         "LabuteASA",
         "0.004061072327008752"
        ],
        [
         "42",
         "PEOE_VSA7",
         "0.0040439747835071095"
        ],
        [
         "31",
         "Kappa3",
         "0.003608966474889143"
        ],
        [
         "27",
         "Chi4v",
         "0.0035385069890383264"
        ],
        [
         "41",
         "PEOE_VSA6",
         "0.0034752014046952598"
        ],
        [
         "5",
         "SPS",
         "0.003430480118895992"
        ],
        [
         "57",
         "SlogP_VSA4",
         "0.0034090521487161467"
        ],
        [
         "75",
         "VSA_EState4",
         "0.0033012338141897427"
        ],
        [
         "11",
         "MinAbsPartialCharge",
         "0.0032819382461444584"
        ],
        [
         "43",
         "PEOE_VSA8",
         "0.0032430786817183297"
        ]
       ],
       "shape": {
        "columns": 2,
        "rows": 50
       }
      },
      "text/html": [
       "<div>\n",
       "<style scoped>\n",
       "    .dataframe tbody tr th:only-of-type {\n",
       "        vertical-align: middle;\n",
       "    }\n",
       "\n",
       "    .dataframe tbody tr th {\n",
       "        vertical-align: top;\n",
       "    }\n",
       "\n",
       "    .dataframe thead th {\n",
       "        text-align: right;\n",
       "    }\n",
       "</style>\n",
       "<table border=\"1\" class=\"dataframe\">\n",
       "  <thead>\n",
       "    <tr style=\"text-align: right;\">\n",
       "      <th></th>\n",
       "      <th>Feature</th>\n",
       "      <th>Importance</th>\n",
       "    </tr>\n",
       "  </thead>\n",
       "  <tbody>\n",
       "    <tr>\n",
       "      <th>88</th>\n",
       "      <td>NumHDonors</td>\n",
       "      <td>0.233897</td>\n",
       "    </tr>\n",
       "    <tr>\n",
       "      <th>82</th>\n",
       "      <td>NHOHCount</td>\n",
       "      <td>0.204359</td>\n",
       "    </tr>\n",
       "    <tr>\n",
       "      <th>74</th>\n",
       "      <td>VSA_EState3</td>\n",
       "      <td>0.042744</td>\n",
       "    </tr>\n",
       "    <tr>\n",
       "      <th>93</th>\n",
       "      <td>MolLogP</td>\n",
       "      <td>0.038059</td>\n",
       "    </tr>\n",
       "    <tr>\n",
       "      <th>33</th>\n",
       "      <td>PEOE_VSA1</td>\n",
       "      <td>0.032186</td>\n",
       "    </tr>\n",
       "    <tr>\n",
       "      <th>9</th>\n",
       "      <td>MinPartialCharge</td>\n",
       "      <td>0.030115</td>\n",
       "    </tr>\n",
       "    <tr>\n",
       "      <th>60</th>\n",
       "      <td>TPSA</td>\n",
       "      <td>0.028586</td>\n",
       "    </tr>\n",
       "    <tr>\n",
       "      <th>83</th>\n",
       "      <td>NOCount</td>\n",
       "      <td>0.021585</td>\n",
       "    </tr>\n",
       "    <tr>\n",
       "      <th>87</th>\n",
       "      <td>NumHAcceptors</td>\n",
       "      <td>0.019505</td>\n",
       "    </tr>\n",
       "    <tr>\n",
       "      <th>24</th>\n",
       "      <td>BalabanJ</td>\n",
       "      <td>0.014130</td>\n",
       "    </tr>\n",
       "    <tr>\n",
       "      <th>61</th>\n",
       "      <td>EState_VSA1</td>\n",
       "      <td>0.013134</td>\n",
       "    </tr>\n",
       "    <tr>\n",
       "      <th>21</th>\n",
       "      <td>BCUT2D_MRHI</td>\n",
       "      <td>0.012560</td>\n",
       "    </tr>\n",
       "    <tr>\n",
       "      <th>79</th>\n",
       "      <td>VSA_EState8</td>\n",
       "      <td>0.011462</td>\n",
       "    </tr>\n",
       "    <tr>\n",
       "      <th>16</th>\n",
       "      <td>BCUT2D_MWLOW</td>\n",
       "      <td>0.010360</td>\n",
       "    </tr>\n",
       "    <tr>\n",
       "      <th>2</th>\n",
       "      <td>MinAbsEStateIndex</td>\n",
       "      <td>0.009835</td>\n",
       "    </tr>\n",
       "    <tr>\n",
       "      <th>34</th>\n",
       "      <td>PEOE_VSA10</td>\n",
       "      <td>0.009827</td>\n",
       "    </tr>\n",
       "    <tr>\n",
       "      <th>78</th>\n",
       "      <td>VSA_EState7</td>\n",
       "      <td>0.009095</td>\n",
       "    </tr>\n",
       "    <tr>\n",
       "      <th>10</th>\n",
       "      <td>MaxAbsPartialCharge</td>\n",
       "      <td>0.008100</td>\n",
       "    </tr>\n",
       "    <tr>\n",
       "      <th>17</th>\n",
       "      <td>BCUT2D_CHGHI</td>\n",
       "      <td>0.007021</td>\n",
       "    </tr>\n",
       "    <tr>\n",
       "      <th>26</th>\n",
       "      <td>Chi1v</td>\n",
       "      <td>0.006884</td>\n",
       "    </tr>\n",
       "    <tr>\n",
       "      <th>18</th>\n",
       "      <td>BCUT2D_CHGLO</td>\n",
       "      <td>0.006317</td>\n",
       "    </tr>\n",
       "    <tr>\n",
       "      <th>3</th>\n",
       "      <td>MinEStateIndex</td>\n",
       "      <td>0.006312</td>\n",
       "    </tr>\n",
       "    <tr>\n",
       "      <th>20</th>\n",
       "      <td>BCUT2D_LOGPLOW</td>\n",
       "      <td>0.006215</td>\n",
       "    </tr>\n",
       "    <tr>\n",
       "      <th>30</th>\n",
       "      <td>Kappa2</td>\n",
       "      <td>0.006200</td>\n",
       "    </tr>\n",
       "    <tr>\n",
       "      <th>8</th>\n",
       "      <td>MaxPartialCharge</td>\n",
       "      <td>0.006156</td>\n",
       "    </tr>\n",
       "    <tr>\n",
       "      <th>1</th>\n",
       "      <td>MaxEStateIndex</td>\n",
       "      <td>0.006036</td>\n",
       "    </tr>\n",
       "    <tr>\n",
       "      <th>0</th>\n",
       "      <td>MaxAbsEStateIndex</td>\n",
       "      <td>0.005890</td>\n",
       "    </tr>\n",
       "    <tr>\n",
       "      <th>19</th>\n",
       "      <td>BCUT2D_LOGPHI</td>\n",
       "      <td>0.005754</td>\n",
       "    </tr>\n",
       "    <tr>\n",
       "      <th>4</th>\n",
       "      <td>qed</td>\n",
       "      <td>0.005682</td>\n",
       "    </tr>\n",
       "    <tr>\n",
       "      <th>12</th>\n",
       "      <td>FpDensityMorgan1</td>\n",
       "      <td>0.005427</td>\n",
       "    </tr>\n",
       "    <tr>\n",
       "      <th>45</th>\n",
       "      <td>SMR_VSA1</td>\n",
       "      <td>0.005121</td>\n",
       "    </tr>\n",
       "    <tr>\n",
       "      <th>55</th>\n",
       "      <td>SlogP_VSA2</td>\n",
       "      <td>0.004971</td>\n",
       "    </tr>\n",
       "    <tr>\n",
       "      <th>22</th>\n",
       "      <td>BCUT2D_MRLOW</td>\n",
       "      <td>0.004758</td>\n",
       "    </tr>\n",
       "    <tr>\n",
       "      <th>48</th>\n",
       "      <td>SMR_VSA5</td>\n",
       "      <td>0.004463</td>\n",
       "    </tr>\n",
       "    <tr>\n",
       "      <th>15</th>\n",
       "      <td>BCUT2D_MWHI</td>\n",
       "      <td>0.004453</td>\n",
       "    </tr>\n",
       "    <tr>\n",
       "      <th>69</th>\n",
       "      <td>EState_VSA8</td>\n",
       "      <td>0.004256</td>\n",
       "    </tr>\n",
       "    <tr>\n",
       "      <th>99</th>\n",
       "      <td>RadiusOfGyration</td>\n",
       "      <td>0.004237</td>\n",
       "    </tr>\n",
       "    <tr>\n",
       "      <th>58</th>\n",
       "      <td>SlogP_VSA5</td>\n",
       "      <td>0.004208</td>\n",
       "    </tr>\n",
       "    <tr>\n",
       "      <th>7</th>\n",
       "      <td>NumValenceElectrons</td>\n",
       "      <td>0.004114</td>\n",
       "    </tr>\n",
       "    <tr>\n",
       "      <th>6</th>\n",
       "      <td>MolWt</td>\n",
       "      <td>0.004104</td>\n",
       "    </tr>\n",
       "    <tr>\n",
       "      <th>32</th>\n",
       "      <td>LabuteASA</td>\n",
       "      <td>0.004061</td>\n",
       "    </tr>\n",
       "    <tr>\n",
       "      <th>42</th>\n",
       "      <td>PEOE_VSA7</td>\n",
       "      <td>0.004044</td>\n",
       "    </tr>\n",
       "    <tr>\n",
       "      <th>31</th>\n",
       "      <td>Kappa3</td>\n",
       "      <td>0.003609</td>\n",
       "    </tr>\n",
       "    <tr>\n",
       "      <th>27</th>\n",
       "      <td>Chi4v</td>\n",
       "      <td>0.003539</td>\n",
       "    </tr>\n",
       "    <tr>\n",
       "      <th>41</th>\n",
       "      <td>PEOE_VSA6</td>\n",
       "      <td>0.003475</td>\n",
       "    </tr>\n",
       "    <tr>\n",
       "      <th>5</th>\n",
       "      <td>SPS</td>\n",
       "      <td>0.003430</td>\n",
       "    </tr>\n",
       "    <tr>\n",
       "      <th>57</th>\n",
       "      <td>SlogP_VSA4</td>\n",
       "      <td>0.003409</td>\n",
       "    </tr>\n",
       "    <tr>\n",
       "      <th>75</th>\n",
       "      <td>VSA_EState4</td>\n",
       "      <td>0.003301</td>\n",
       "    </tr>\n",
       "    <tr>\n",
       "      <th>11</th>\n",
       "      <td>MinAbsPartialCharge</td>\n",
       "      <td>0.003282</td>\n",
       "    </tr>\n",
       "    <tr>\n",
       "      <th>43</th>\n",
       "      <td>PEOE_VSA8</td>\n",
       "      <td>0.003243</td>\n",
       "    </tr>\n",
       "  </tbody>\n",
       "</table>\n",
       "</div>"
      ],
      "text/plain": [
       "                Feature  Importance\n",
       "88           NumHDonors    0.233897\n",
       "82            NHOHCount    0.204359\n",
       "74          VSA_EState3    0.042744\n",
       "93              MolLogP    0.038059\n",
       "33            PEOE_VSA1    0.032186\n",
       "9      MinPartialCharge    0.030115\n",
       "60                 TPSA    0.028586\n",
       "83              NOCount    0.021585\n",
       "87        NumHAcceptors    0.019505\n",
       "24             BalabanJ    0.014130\n",
       "61          EState_VSA1    0.013134\n",
       "21          BCUT2D_MRHI    0.012560\n",
       "79          VSA_EState8    0.011462\n",
       "16         BCUT2D_MWLOW    0.010360\n",
       "2     MinAbsEStateIndex    0.009835\n",
       "34           PEOE_VSA10    0.009827\n",
       "78          VSA_EState7    0.009095\n",
       "10  MaxAbsPartialCharge    0.008100\n",
       "17         BCUT2D_CHGHI    0.007021\n",
       "26                Chi1v    0.006884\n",
       "18         BCUT2D_CHGLO    0.006317\n",
       "3        MinEStateIndex    0.006312\n",
       "20       BCUT2D_LOGPLOW    0.006215\n",
       "30               Kappa2    0.006200\n",
       "8      MaxPartialCharge    0.006156\n",
       "1        MaxEStateIndex    0.006036\n",
       "0     MaxAbsEStateIndex    0.005890\n",
       "19        BCUT2D_LOGPHI    0.005754\n",
       "4                   qed    0.005682\n",
       "12     FpDensityMorgan1    0.005427\n",
       "45             SMR_VSA1    0.005121\n",
       "55           SlogP_VSA2    0.004971\n",
       "22         BCUT2D_MRLOW    0.004758\n",
       "48             SMR_VSA5    0.004463\n",
       "15          BCUT2D_MWHI    0.004453\n",
       "69          EState_VSA8    0.004256\n",
       "99     RadiusOfGyration    0.004237\n",
       "58           SlogP_VSA5    0.004208\n",
       "7   NumValenceElectrons    0.004114\n",
       "6                 MolWt    0.004104\n",
       "32            LabuteASA    0.004061\n",
       "42            PEOE_VSA7    0.004044\n",
       "31               Kappa3    0.003609\n",
       "27                Chi4v    0.003539\n",
       "41            PEOE_VSA6    0.003475\n",
       "5                   SPS    0.003430\n",
       "57           SlogP_VSA4    0.003409\n",
       "75          VSA_EState4    0.003301\n",
       "11  MinAbsPartialCharge    0.003282\n",
       "43            PEOE_VSA8    0.003243"
      ]
     },
     "execution_count": 16,
     "metadata": {},
     "output_type": "execute_result"
    }
   ],
   "source": [
    "# Train and evaluate model\n",
    "top_n_features = get_top_n_features(X_train, y_train, best_params, 50)\n",
    "top_n_features"
   ]
  },
  {
   "cell_type": "code",
   "execution_count": 17,
   "metadata": {},
   "outputs": [],
   "source": [
    "import matplotlib.pyplot as plt\n",
    "\n",
    "\n",
    "def plot_r2_vs_features(\n",
    "    X_train, y_train, X_test, y_test, best_params, top_n_features, max_features\n",
    "):\n",
    "    r2_scores_train = []\n",
    "    r2_scores_test = []\n",
    "\n",
    "    for n in range(1, max_features + 1):\n",
    "        # Select top n features\n",
    "        features = top_n_features[\"Feature\"][:n]\n",
    "\n",
    "        # Train model with top n features\n",
    "        model = ExtraTreesRegressor(**best_params, random_state=42)\n",
    "        X_train_top_n = X_train[features]\n",
    "        X_test_top_n = X_test[features]\n",
    "        model.fit(X_train_top_n, y_train)\n",
    "\n",
    "        # Evaluate R²\n",
    "        r2_train = r2_score(y_train, model.predict(X_train_top_n))\n",
    "        r2_test = r2_score(y_test, model.predict(X_test_top_n))\n",
    "\n",
    "        r2_scores_train.append(r2_train)\n",
    "        r2_scores_test.append(r2_test)\n",
    "\n",
    "    # Plot R² vs number of features\n",
    "    plt.figure(figsize=(10, 6))\n",
    "    plt.plot(range(1, max_features + 1), r2_scores_train, label=\"Train R²\", marker=\"o\")\n",
    "    plt.plot(range(1, max_features + 1), r2_scores_test, label=\"Test R²\", marker=\"o\")\n",
    "    plt.xlabel(\"Number of Features\")\n",
    "    plt.ylabel(\"R² Score\")\n",
    "    plt.title(\"R² Score vs Number of Features\")\n",
    "    plt.legend()\n",
    "    plt.grid()\n",
    "    plt.show()\n",
    "\n",
    "    selected_result = pd.DataFrame(\n",
    "        {\n",
    "            \"r2_scores_train\": r2_scores_train,\n",
    "            \"r2_scores_test\": r2_scores_test,\n",
    "        }\n",
    "    )\n",
    "\n",
    "    selected_result.to_excel(\"../Results/top_n_feats_H.xlsx\")"
   ]
  },
  {
   "cell_type": "code",
   "execution_count": 18,
   "metadata": {},
   "outputs": [
    {
     "data": {
      "image/png": "[encoded data removed]",
      "text/plain": [
       "<Figure size 1000x600 with 1 Axes>"
      ]
     },
     "metadata": {},
     "output_type": "display_data"
    }
   ],
   "source": [
    "# Example usage for D\n",
    "plot_r2_vs_features(\n",
    "    X_train, y_train, X_test, y_test, best_params, top_n_features, len(top_n_features)\n",
    ")"
   ]
  }
 ],
 "metadata": {
  "kernelspec": {
   "display_name": "py311",
   "language": "python",
   "name": "python3"
  },
  "language_info": {
   "codemirror_mode": {
    "name": "ipython",
    "version": 3
   },
   "file_extension": ".py",
   "mimetype": "text/x-python",
   "name": "python",
   "nbconvert_exporter": "python",
   "pygments_lexer": "ipython3",
   "version": "3.11.11"
  }
 },
 "nbformat": 4,
 "nbformat_minor": 2
}
