{
 "cells": [
  {
   "cell_type": "code",
   "execution_count": 10,
   "metadata": {},
   "outputs": [],
   "source": [
    "import pandas as pd\n",
    "\n",
    "train = pd.read_excel(\"../../Dataset/train_data.xlsx\", index_col=False)\n",
    "test = pd.read_excel(\"../../Dataset/test_data.xlsx\", index_col=False)\n",
    "X_train = train.iloc[:, 6:]\n",
    "y_train = train[\"D\"]\n",
    "\n",
    "X_test = test.iloc[:, 6:]\n",
    "y_test = test[\"D\"]"
   ]
  },
  {
   "cell_type": "code",
   "execution_count": 11,
   "metadata": {},
   "outputs": [],
   "source": [
    "from sklearn.ensemble import ExtraTreesRegressor\n",
    "from sklearn.model_selection import cross_val_score\n",
    "from sklearn.metrics import r2_score\n",
    "from hyperopt import fmin, tpe, hp, Trials, STATUS_OK\n",
    "import numpy as np\n",
    "\n",
    "\n",
    "# Function for hyperparameter optimization using hyperopt\n",
    "def optimize_hyperparameters(X, y, cv=5, max_evals=50):\n",
    "    def objective(params):\n",
    "        model = ExtraTreesRegressor(**params, random_state=42)\n",
    "        scores = cross_val_score(\n",
    "            model, X, y, cv=cv, scoring=\"neg_root_mean_squared_error\", n_jobs=-1\n",
    "        )\n",
    "        return {\"loss\": -np.mean(scores), \"status\": STATUS_OK}\n",
    "\n",
    "    param_space = {\n",
    "        \"n_estimators\": hp.choice(\"n_estimators\", [50, 100, 200]),\n",
    "        \"max_depth\": hp.choice(\"max_depth\", [5, 10, 15]),\n",
    "        \"min_samples_split\": hp.choice(\"min_samples_split\", [2, 5, 10]),\n",
    "        \"min_samples_leaf\": hp.choice(\"min_samples_leaf\", [1, 2, 4]),\n",
    "        \"criterion\": \"friedman_mse\",\n",
    "        \"bootstrap\": True,\n",
    "        \"oob_score\": True,\n",
    "    }\n",
    "\n",
    "    trials = Trials()\n",
    "    best_params = fmin(\n",
    "        fn=objective,\n",
    "        space=param_space,\n",
    "        algo=tpe.suggest,\n",
    "        max_evals=max_evals,\n",
    "        trials=trials,\n",
    "    )\n",
    "\n",
    "    # Convert indices to actual values\n",
    "    best_params[\"n_estimators\"] = [50, 100, 200][best_params[\"n_estimators\"]]\n",
    "    best_params[\"max_depth\"] = [5, 10, 15][best_params[\"max_depth\"]]\n",
    "    best_params[\"min_samples_split\"] = [2, 5, 10][best_params[\"min_samples_split\"]]\n",
    "    best_params[\"min_samples_leaf\"] = [1, 2, 4][best_params[\"min_samples_leaf\"]]\n",
    "    best_params[\"criterion\"] = \"friedman_mse\"\n",
    "    best_params[\"bootstrap\"] = True\n",
    "    best_params[\"oob_score\"] = True\n",
    "\n",
    "    return best_params"
   ]
  },
  {
   "cell_type": "code",
   "execution_count": 12,
   "metadata": {},
   "outputs": [],
   "source": [
    "def get_top_n_features(X_train, y_train, best_params, n):\n",
    "    # Train the ExtraTreesRegressor model\n",
    "    model = ExtraTreesRegressor(**best_params, random_state=42)\n",
    "    model.fit(X_train, y_train)\n",
    "\n",
    "    # Get feature importances\n",
    "    feature_importances = model.feature_importances_\n",
    "\n",
    "    # Create a DataFrame for feature importances\n",
    "    feature_importance_df = pd.DataFrame(\n",
    "        {\"Feature\": X_train.columns, \"Importance\": feature_importances}\n",
    "    )\n",
    "\n",
    "    # Sort features by importance in descending order\n",
    "    feature_importance_df = feature_importance_df.sort_values(\n",
    "        by=\"Importance\", ascending=False\n",
    "    )\n",
    "\n",
    "    feature_importance_df.to_excel(\"../Results/feature_importance_D.xlsx\", index=False)\n",
    "    # Return the top n features\n",
    "    return feature_importance_df.head(n)"
   ]
  },
  {
   "cell_type": "code",
   "execution_count": 13,
   "metadata": {},
   "outputs": [
    {
     "name": "stdout",
     "output_type": "stream",
     "text": [
      "100%|██████████| 50/50 [00:47<00:00,  1.06trial/s, best loss: 0.77698195365909]  \n"
     ]
    }
   ],
   "source": [
    "# Optimize hyperparameters\n",
    "best_params = optimize_hyperparameters(X_train, y_train, cv=5)"
   ]
  },
  {
   "cell_type": "code",
   "execution_count": 14,
   "metadata": {},
   "outputs": [
    {
     "name": "stdout",
     "output_type": "stream",
     "text": [
      "Best Parameters: {'max_depth': 15, 'min_samples_leaf': 1, 'min_samples_split': 2, 'n_estimators': 200, 'criterion': 'friedman_mse', 'bootstrap': True, 'oob_score': True}\n"
     ]
    }
   ],
   "source": [
    "print(\"Best Parameters:\", best_params)"
   ]
  },
  {
   "cell_type": "code",
   "execution_count": 15,
   "metadata": {},
   "outputs": [],
   "source": [
    "import json\n",
    "\n",
    "# Save best_params to a JSON file\n",
    "with open(\"../Results/best_params_D.json\", \"w\") as json_file:\n",
    "    json.dump(best_params, json_file)"
   ]
  },
  {
   "cell_type": "code",
   "execution_count": 16,
   "metadata": {},
   "outputs": [
    {
     "data": {
      "application/vnd.microsoft.datawrangler.viewer.v0+json": {
       "columns": [
        {
         "name": "index",
         "rawType": "int64",
         "type": "integer"
        },
        {
         "name": "Feature",
         "rawType": "object",
         "type": "string"
        },
        {
         "name": "Importance",
         "rawType": "float64",
         "type": "float"
        }
       ],
       "conversionMethod": "pd.DataFrame",
       "ref": "ac29e1c9-5fd4-49dc-8b60-e86f7e08d7a9",
       "rows": [
        [
         "92",
         "RingCount",
         "0.1558607093623343"
        ],
        [
         "86",
         "NumAromaticRings",
         "0.15370006695461474"
        ],
        [
         "81",
         "FractionCSP3",
         "0.06531872757677344"
        ],
        [
         "85",
         "NumAromaticCarbocycles",
         "0.0642960601232039"
        ],
        [
         "50",
         "SMR_VSA7",
         "0.03373653908114771"
        ],
        [
         "54",
         "SlogP_VSA12",
         "0.029014139508396215"
        ],
        [
         "77",
         "VSA_EState6",
         "0.027950239163693165"
        ],
        [
         "46",
         "SMR_VSA10",
         "0.023455173378020295"
        ],
        [
         "79",
         "VSA_EState8",
         "0.01816124232201736"
        ],
        [
         "59",
         "SlogP_VSA6",
         "0.01603959644860337"
        ],
        [
         "84",
         "NumAliphaticRings",
         "0.015205787064814213"
        ],
        [
         "21",
         "BCUT2D_MRHI",
         "0.013576037041788731"
        ],
        [
         "53",
         "SlogP_VSA10",
         "0.013559991620123817"
        ],
        [
         "25",
         "BertzCT",
         "0.01297362502158277"
        ],
        [
         "15",
         "BCUT2D_MWHI",
         "0.011684238985756929"
        ],
        [
         "34",
         "PEOE_VSA10",
         "0.011456701772858267"
        ],
        [
         "93",
         "MolLogP",
         "0.01132734831297293"
        ],
        [
         "60",
         "TPSA",
         "0.010852816322875335"
        ],
        [
         "5",
         "SPS",
         "0.010592719011985446"
        ],
        [
         "27",
         "Chi4v",
         "0.009991877563135554"
        ],
        [
         "71",
         "VSA_EState1",
         "0.008436755318873185"
        ],
        [
         "91",
         "NumSaturatedRings",
         "0.008188203166340032"
        ],
        [
         "28",
         "HallKierAlpha",
         "0.0078041008313494255"
        ],
        [
         "33",
         "PEOE_VSA1",
         "0.00697871030181216"
        ],
        [
         "72",
         "VSA_EState10",
         "0.006822024423956058"
        ],
        [
         "70",
         "EState_VSA9",
         "0.006796029297489173"
        ],
        [
         "48",
         "SMR_VSA5",
         "0.00655055086823779"
        ],
        [
         "74",
         "VSA_EState3",
         "0.006308276635866016"
        ],
        [
         "6",
         "MolWt",
         "0.006217764228805345"
        ],
        [
         "89",
         "NumHeteroatoms",
         "0.006100328391374778"
        ],
        [
         "88",
         "NumHDonors",
         "0.006098055903829983"
        ],
        [
         "58",
         "SlogP_VSA5",
         "0.005810663743211383"
        ],
        [
         "100",
         "SpherocityIndex",
         "0.0057566060493551155"
        ],
        [
         "82",
         "NHOHCount",
         "0.005652330967138301"
        ],
        [
         "2",
         "MinAbsEStateIndex",
         "0.005379176943125931"
        ],
        [
         "39",
         "PEOE_VSA4",
         "0.005241438145558454"
        ],
        [
         "55",
         "SlogP_VSA2",
         "0.005211303266394019"
        ],
        [
         "1",
         "MaxEStateIndex",
         "0.005009592435126255"
        ],
        [
         "78",
         "VSA_EState7",
         "0.004924358515087255"
        ],
        [
         "62",
         "EState_VSA10",
         "0.004883709731936928"
        ],
        [
         "23",
         "AvgIpc",
         "0.004837577541527508"
        ],
        [
         "75",
         "VSA_EState4",
         "0.004827326227994176"
        ],
        [
         "69",
         "EState_VSA8",
         "0.0047682050810242405"
        ],
        [
         "4",
         "qed",
         "0.004725197809726498"
        ],
        [
         "35",
         "PEOE_VSA11",
         "0.004580500873794971"
        ],
        [
         "87",
         "NumHAcceptors",
         "0.0045579868779128474"
        ],
        [
         "83",
         "NOCount",
         "0.004486919051087062"
        ],
        [
         "52",
         "SlogP_VSA1",
         "0.004389453000157991"
        ],
        [
         "0",
         "MaxAbsEStateIndex",
         "0.004271923705806974"
        ],
        [
         "76",
         "VSA_EState5",
         "0.004158965617232433"
        ]
       ],
       "shape": {
        "columns": 2,
        "rows": 50
       }
      },
      "text/html": [
       "<div>\n",
       "<style scoped>\n",
       "    .dataframe tbody tr th:only-of-type {\n",
       "        vertical-align: middle;\n",
       "    }\n",
       "\n",
       "    .dataframe tbody tr th {\n",
       "        vertical-align: top;\n",
       "    }\n",
       "\n",
       "    .dataframe thead th {\n",
       "        text-align: right;\n",
       "    }\n",
       "</style>\n",
       "<table border=\"1\" class=\"dataframe\">\n",
       "  <thead>\n",
       "    <tr style=\"text-align: right;\">\n",
       "      <th></th>\n",
       "      <th>Feature</th>\n",
       "      <th>Importance</th>\n",
       "    </tr>\n",
       "  </thead>\n",
       "  <tbody>\n",
       "    <tr>\n",
       "      <th>92</th>\n",
       "      <td>RingCount</td>\n",
       "      <td>0.155861</td>\n",
       "    </tr>\n",
       "    <tr>\n",
       "      <th>86</th>\n",
       "      <td>NumAromaticRings</td>\n",
       "      <td>0.153700</td>\n",
       "    </tr>\n",
       "    <tr>\n",
       "      <th>81</th>\n",
       "      <td>FractionCSP3</td>\n",
       "      <td>0.065319</td>\n",
       "    </tr>\n",
       "    <tr>\n",
       "      <th>85</th>\n",
       "      <td>NumAromaticCarbocycles</td>\n",
       "      <td>0.064296</td>\n",
       "    </tr>\n",
       "    <tr>\n",
       "      <th>50</th>\n",
       "      <td>SMR_VSA7</td>\n",
       "      <td>0.033737</td>\n",
       "    </tr>\n",
       "    <tr>\n",
       "      <th>54</th>\n",
       "      <td>SlogP_VSA12</td>\n",
       "      <td>0.029014</td>\n",
       "    </tr>\n",
       "    <tr>\n",
       "      <th>77</th>\n",
       "      <td>VSA_EState6</td>\n",
       "      <td>0.027950</td>\n",
       "    </tr>\n",
       "    <tr>\n",
       "      <th>46</th>\n",
       "      <td>SMR_VSA10</td>\n",
       "      <td>0.023455</td>\n",
       "    </tr>\n",
       "    <tr>\n",
       "      <th>79</th>\n",
       "      <td>VSA_EState8</td>\n",
       "      <td>0.018161</td>\n",
       "    </tr>\n",
       "    <tr>\n",
       "      <th>59</th>\n",
       "      <td>SlogP_VSA6</td>\n",
       "      <td>0.016040</td>\n",
       "    </tr>\n",
       "    <tr>\n",
       "      <th>84</th>\n",
       "      <td>NumAliphaticRings</td>\n",
       "      <td>0.015206</td>\n",
       "    </tr>\n",
       "    <tr>\n",
       "      <th>21</th>\n",
       "      <td>BCUT2D_MRHI</td>\n",
       "      <td>0.013576</td>\n",
       "    </tr>\n",
       "    <tr>\n",
       "      <th>53</th>\n",
       "      <td>SlogP_VSA10</td>\n",
       "      <td>0.013560</td>\n",
       "    </tr>\n",
       "    <tr>\n",
       "      <th>25</th>\n",
       "      <td>BertzCT</td>\n",
       "      <td>0.012974</td>\n",
       "    </tr>\n",
       "    <tr>\n",
       "      <th>15</th>\n",
       "      <td>BCUT2D_MWHI</td>\n",
       "      <td>0.011684</td>\n",
       "    </tr>\n",
       "    <tr>\n",
       "      <th>34</th>\n",
       "      <td>PEOE_VSA10</td>\n",
       "      <td>0.011457</td>\n",
       "    </tr>\n",
       "    <tr>\n",
       "      <th>93</th>\n",
       "      <td>MolLogP</td>\n",
       "      <td>0.011327</td>\n",
       "    </tr>\n",
       "    <tr>\n",
       "      <th>60</th>\n",
       "      <td>TPSA</td>\n",
       "      <td>0.010853</td>\n",
       "    </tr>\n",
       "    <tr>\n",
       "      <th>5</th>\n",
       "      <td>SPS</td>\n",
       "      <td>0.010593</td>\n",
       "    </tr>\n",
       "    <tr>\n",
       "      <th>27</th>\n",
       "      <td>Chi4v</td>\n",
       "      <td>0.009992</td>\n",
       "    </tr>\n",
       "    <tr>\n",
       "      <th>71</th>\n",
       "      <td>VSA_EState1</td>\n",
       "      <td>0.008437</td>\n",
       "    </tr>\n",
       "    <tr>\n",
       "      <th>91</th>\n",
       "      <td>NumSaturatedRings</td>\n",
       "      <td>0.008188</td>\n",
       "    </tr>\n",
       "    <tr>\n",
       "      <th>28</th>\n",
       "      <td>HallKierAlpha</td>\n",
       "      <td>0.007804</td>\n",
       "    </tr>\n",
       "    <tr>\n",
       "      <th>33</th>\n",
       "      <td>PEOE_VSA1</td>\n",
       "      <td>0.006979</td>\n",
       "    </tr>\n",
       "    <tr>\n",
       "      <th>72</th>\n",
       "      <td>VSA_EState10</td>\n",
       "      <td>0.006822</td>\n",
       "    </tr>\n",
       "    <tr>\n",
       "      <th>70</th>\n",
       "      <td>EState_VSA9</td>\n",
       "      <td>0.006796</td>\n",
       "    </tr>\n",
       "    <tr>\n",
       "      <th>48</th>\n",
       "      <td>SMR_VSA5</td>\n",
       "      <td>0.006551</td>\n",
       "    </tr>\n",
       "    <tr>\n",
       "      <th>74</th>\n",
       "      <td>VSA_EState3</td>\n",
       "      <td>0.006308</td>\n",
       "    </tr>\n",
       "    <tr>\n",
       "      <th>6</th>\n",
       "      <td>MolWt</td>\n",
       "      <td>0.006218</td>\n",
       "    </tr>\n",
       "    <tr>\n",
       "      <th>89</th>\n",
       "      <td>NumHeteroatoms</td>\n",
       "      <td>0.006100</td>\n",
       "    </tr>\n",
       "    <tr>\n",
       "      <th>88</th>\n",
       "      <td>NumHDonors</td>\n",
       "      <td>0.006098</td>\n",
       "    </tr>\n",
       "    <tr>\n",
       "      <th>58</th>\n",
       "      <td>SlogP_VSA5</td>\n",
       "      <td>0.005811</td>\n",
       "    </tr>\n",
       "    <tr>\n",
       "      <th>100</th>\n",
       "      <td>SpherocityIndex</td>\n",
       "      <td>0.005757</td>\n",
       "    </tr>\n",
       "    <tr>\n",
       "      <th>82</th>\n",
       "      <td>NHOHCount</td>\n",
       "      <td>0.005652</td>\n",
       "    </tr>\n",
       "    <tr>\n",
       "      <th>2</th>\n",
       "      <td>MinAbsEStateIndex</td>\n",
       "      <td>0.005379</td>\n",
       "    </tr>\n",
       "    <tr>\n",
       "      <th>39</th>\n",
       "      <td>PEOE_VSA4</td>\n",
       "      <td>0.005241</td>\n",
       "    </tr>\n",
       "    <tr>\n",
       "      <th>55</th>\n",
       "      <td>SlogP_VSA2</td>\n",
       "      <td>0.005211</td>\n",
       "    </tr>\n",
       "    <tr>\n",
       "      <th>1</th>\n",
       "      <td>MaxEStateIndex</td>\n",
       "      <td>0.005010</td>\n",
       "    </tr>\n",
       "    <tr>\n",
       "      <th>78</th>\n",
       "      <td>VSA_EState7</td>\n",
       "      <td>0.004924</td>\n",
       "    </tr>\n",
       "    <tr>\n",
       "      <th>62</th>\n",
       "      <td>EState_VSA10</td>\n",
       "      <td>0.004884</td>\n",
       "    </tr>\n",
       "    <tr>\n",
       "      <th>23</th>\n",
       "      <td>AvgIpc</td>\n",
       "      <td>0.004838</td>\n",
       "    </tr>\n",
       "    <tr>\n",
       "      <th>75</th>\n",
       "      <td>VSA_EState4</td>\n",
       "      <td>0.004827</td>\n",
       "    </tr>\n",
       "    <tr>\n",
       "      <th>69</th>\n",
       "      <td>EState_VSA8</td>\n",
       "      <td>0.004768</td>\n",
       "    </tr>\n",
       "    <tr>\n",
       "      <th>4</th>\n",
       "      <td>qed</td>\n",
       "      <td>0.004725</td>\n",
       "    </tr>\n",
       "    <tr>\n",
       "      <th>35</th>\n",
       "      <td>PEOE_VSA11</td>\n",
       "      <td>0.004581</td>\n",
       "    </tr>\n",
       "    <tr>\n",
       "      <th>87</th>\n",
       "      <td>NumHAcceptors</td>\n",
       "      <td>0.004558</td>\n",
       "    </tr>\n",
       "    <tr>\n",
       "      <th>83</th>\n",
       "      <td>NOCount</td>\n",
       "      <td>0.004487</td>\n",
       "    </tr>\n",
       "    <tr>\n",
       "      <th>52</th>\n",
       "      <td>SlogP_VSA1</td>\n",
       "      <td>0.004389</td>\n",
       "    </tr>\n",
       "    <tr>\n",
       "      <th>0</th>\n",
       "      <td>MaxAbsEStateIndex</td>\n",
       "      <td>0.004272</td>\n",
       "    </tr>\n",
       "    <tr>\n",
       "      <th>76</th>\n",
       "      <td>VSA_EState5</td>\n",
       "      <td>0.004159</td>\n",
       "    </tr>\n",
       "  </tbody>\n",
       "</table>\n",
       "</div>"
      ],
      "text/plain": [
       "                    Feature  Importance\n",
       "92                RingCount    0.155861\n",
       "86         NumAromaticRings    0.153700\n",
       "81             FractionCSP3    0.065319\n",
       "85   NumAromaticCarbocycles    0.064296\n",
       "50                 SMR_VSA7    0.033737\n",
       "54              SlogP_VSA12    0.029014\n",
       "77              VSA_EState6    0.027950\n",
       "46                SMR_VSA10    0.023455\n",
       "79              VSA_EState8    0.018161\n",
       "59               SlogP_VSA6    0.016040\n",
       "84        NumAliphaticRings    0.015206\n",
       "21              BCUT2D_MRHI    0.013576\n",
       "53              SlogP_VSA10    0.013560\n",
       "25                  BertzCT    0.012974\n",
       "15              BCUT2D_MWHI    0.011684\n",
       "34               PEOE_VSA10    0.011457\n",
       "93                  MolLogP    0.011327\n",
       "60                     TPSA    0.010853\n",
       "5                       SPS    0.010593\n",
       "27                    Chi4v    0.009992\n",
       "71              VSA_EState1    0.008437\n",
       "91        NumSaturatedRings    0.008188\n",
       "28            HallKierAlpha    0.007804\n",
       "33                PEOE_VSA1    0.006979\n",
       "72             VSA_EState10    0.006822\n",
       "70              EState_VSA9    0.006796\n",
       "48                 SMR_VSA5    0.006551\n",
       "74              VSA_EState3    0.006308\n",
       "6                     MolWt    0.006218\n",
       "89           NumHeteroatoms    0.006100\n",
       "88               NumHDonors    0.006098\n",
       "58               SlogP_VSA5    0.005811\n",
       "100         SpherocityIndex    0.005757\n",
       "82                NHOHCount    0.005652\n",
       "2         MinAbsEStateIndex    0.005379\n",
       "39                PEOE_VSA4    0.005241\n",
       "55               SlogP_VSA2    0.005211\n",
       "1            MaxEStateIndex    0.005010\n",
       "78              VSA_EState7    0.004924\n",
       "62             EState_VSA10    0.004884\n",
       "23                   AvgIpc    0.004838\n",
       "75              VSA_EState4    0.004827\n",
       "69              EState_VSA8    0.004768\n",
       "4                       qed    0.004725\n",
       "35               PEOE_VSA11    0.004581\n",
       "87            NumHAcceptors    0.004558\n",
       "83                  NOCount    0.004487\n",
       "52               SlogP_VSA1    0.004389\n",
       "0         MaxAbsEStateIndex    0.004272\n",
       "76              VSA_EState5    0.004159"
      ]
     },
     "execution_count": 16,
     "metadata": {},
     "output_type": "execute_result"
    }
   ],
   "source": [
    "# Train and evaluate model\n",
    "top_n_features = get_top_n_features(X_train, y_train, best_params, 50)\n",
    "top_n_features"
   ]
  },
  {
   "cell_type": "code",
   "execution_count": 17,
   "metadata": {},
   "outputs": [],
   "source": [
    "import matplotlib.pyplot as plt\n",
    "\n",
    "\n",
    "def plot_r2_vs_features(\n",
    "    X_train, y_train, X_test, y_test, best_params, top_n_features, max_features\n",
    "):\n",
    "    r2_scores_train = []\n",
    "    r2_scores_test = []\n",
    "\n",
    "    for n in range(1, max_features + 1):\n",
    "        # Select top n features\n",
    "        features = top_n_features[\"Feature\"][:n]\n",
    "\n",
    "        # Train model with top n features\n",
    "        model = ExtraTreesRegressor(**best_params, random_state=42)\n",
    "        X_train_top_n = X_train[features]\n",
    "        X_test_top_n = X_test[features]\n",
    "        model.fit(X_train_top_n, y_train)\n",
    "\n",
    "        # Evaluate R²\n",
    "        r2_train = r2_score(y_train, model.predict(X_train_top_n))\n",
    "        r2_test = r2_score(y_test, model.predict(X_test_top_n))\n",
    "\n",
    "        r2_scores_train.append(r2_train)\n",
    "        r2_scores_test.append(r2_test)\n",
    "\n",
    "    # Plot R² vs number of features\n",
    "    plt.figure(figsize=(10, 6))\n",
    "    plt.plot(range(1, max_features + 1), r2_scores_train, label=\"Train R²\", marker=\"o\")\n",
    "    plt.plot(range(1, max_features + 1), r2_scores_test, label=\"Test R²\", marker=\"o\")\n",
    "    plt.xlabel(\"Number of Features\")\n",
    "    plt.ylabel(\"R² Score\")\n",
    "    plt.title(\"R² Score vs Number of Features\")\n",
    "    plt.legend()\n",
    "    plt.grid()\n",
    "    plt.show()\n",
    "\n",
    "    selected_result = pd.DataFrame(\n",
    "        {\n",
    "            \"r2_scores_train\": r2_scores_train,\n",
    "            \"r2_scores_test\": r2_scores_test,\n",
    "        }\n",
    "    )\n",
    "\n",
    "    selected_result.to_excel(\"../Results/top_n_feats_D.xlsx\")"
   ]
  },
  {
   "cell_type": "code",
   "execution_count": 18,
   "metadata": {},
   "outputs": [
    {
     "data": {
      "image/png": "[encoded data removed]",
      "text/plain": [
       "<Figure size 1000x600 with 1 Axes>"
      ]
     },
     "metadata": {},
     "output_type": "display_data"
    }
   ],
   "source": [
    "# Example usage for D\n",
    "plot_r2_vs_features(\n",
    "    X_train, y_train, X_test, y_test, best_params, top_n_features, len(top_n_features)\n",
    ")"
   ]
  }
 ],
 "metadata": {
  "kernelspec": {
   "display_name": "py311",
   "language": "python",
   "name": "python3"
  },
  "language_info": {
   "codemirror_mode": {
    "name": "ipython",
    "version": 3
   },
   "file_extension": ".py",
   "mimetype": "text/x-python",
   "name": "python",
   "nbconvert_exporter": "python",
   "pygments_lexer": "ipython3",
   "version": "3.11.11"
  }
 },
 "nbformat": 4,
 "nbformat_minor": 2
}
