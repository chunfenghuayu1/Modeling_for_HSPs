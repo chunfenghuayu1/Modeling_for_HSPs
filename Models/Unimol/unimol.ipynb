{
 "cells": [
  {
   "cell_type": "code",
   "execution_count": 1,
   "id": "6a6b0bcf",
   "metadata": {},
   "outputs": [],
   "source": [
    "from unimol_tools import MolPredict, MolTrain\n",
    "\n",
    "train_path = \"../../Dataset/train_data.csv\"\n",
    "test_path = \"../../Dataset/test_data.csv\"\n",
    "out_path = \"../../Dataset/data_out_feats.csv\""
   ]
  },
  {
   "cell_type": "markdown",
   "id": "fe6420c3",
   "metadata": {},
   "source": [
    "# D"
   ]
  },
  {
   "cell_type": "code",
   "execution_count": null,
   "id": "c94f9585",
   "metadata": {},
   "outputs": [
    {
     "name": "stderr",
     "output_type": "stream",
     "text": [
      "2025-04-14 21:11:19 | unimol_tools\\data\\conformer.py | 409 | INFO | Uni-Mol Tools | Start generating conformers...\n",
      "100%|██████████| 1093/1093 [00:12<00:00, 85.48it/s] \n",
      "2025-04-14 21:11:31 | unimol_tools\\data\\conformer.py | 420 | INFO | Uni-Mol Tools | Succeeded in generating conformers for 99.82% of molecules.\n",
      "2025-04-14 21:11:31 | unimol_tools\\data\\conformer.py | 429 | INFO | Uni-Mol Tools | Failed conformers indices: [979, 1039]\n",
      "2025-04-14 21:11:31 | unimol_tools\\data\\conformer.py | 437 | INFO | Uni-Mol Tools | Succeeded in generating 3d conformers for 99.09% of molecules.\n",
      "2025-04-14 21:11:31 | unimol_tools\\data\\conformer.py | 446 | INFO | Uni-Mol Tools | Failed 3d conformers indices: [5, 28, 395, 470, 650, 964, 970, 979, 1031, 1039]\n",
      "2025-04-14 21:11:33 | unimol_tools\\tasks\\trainer.py | 77 | INFO | Uni-Mol Tools | Number of GPUs available: 1\n",
      "2025-04-14 21:11:33 | unimol_tools\\tasks\\trainer.py | 97 | INFO | Uni-Mol Tools | Using single GPU.\n",
      "2025-04-14 21:11:36 | unimol_tools\\models\\unimolv2.py | 156 | INFO | Uni-Mol Tools | Loading pretrained weights from c:\\Users\\yuchen\\miniconda3\\envs\\py311\\Lib\\site-packages\\unimol_tools\\weights\\modelzoo/310M/checkpoint.pt\n",
      "2025-04-14 21:11:37 | unimol_tools\\models\\nnmodel.py | 282 | INFO | Uni-Mol Tools | start predict NNModel:unimolv2\n",
      "2025-04-14 21:11:38 | unimol_tools\\models\\unimolv2.py | 156 | INFO | Uni-Mol Tools | Loading pretrained weights from ./D\\model_0.pth\n",
      "2025-04-14 21:11:39 | unimol_tools\\tasks\\trainer.py | 579 | INFO | Uni-Mol Tools | load model success!\n",
      "2025-04-14 21:12:06 | unimol_tools\\predict.py | 103 | INFO | Uni-Mol Tools | final predict metrics score: \n",
      "{'mse': 0.012174985958256682, 'mae': 0.06682653715058628, 'r2': 0.996479149588213, 'spearmanr': 0.9984174394794737, 'pearsonr': 0.9984016781389202}\n",
      "2025-04-14 21:12:06 | unimol_tools\\data\\conformer.py | 409 | INFO | Uni-Mol Tools | Start generating conformers...\n",
      "100%|██████████| 274/274 [00:02<00:00, 105.75it/s]\n",
      "2025-04-14 21:12:09 | unimol_tools\\data\\conformer.py | 420 | INFO | Uni-Mol Tools | Succeeded in generating conformers for 100.00% of molecules.\n",
      "2025-04-14 21:12:09 | unimol_tools\\data\\conformer.py | 437 | INFO | Uni-Mol Tools | Succeeded in generating 3d conformers for 97.81% of molecules.\n",
      "2025-04-14 21:12:09 | unimol_tools\\data\\conformer.py | 446 | INFO | Uni-Mol Tools | Failed 3d conformers indices: [8, 24, 81, 144, 208, 217]\n",
      "2025-04-14 21:12:09 | unimol_tools\\tasks\\trainer.py | 77 | INFO | Uni-Mol Tools | Number of GPUs available: 1\n",
      "2025-04-14 21:12:09 | unimol_tools\\tasks\\trainer.py | 97 | INFO | Uni-Mol Tools | Using single GPU.\n",
      "2025-04-14 21:12:11 | unimol_tools\\models\\unimolv2.py | 156 | INFO | Uni-Mol Tools | Loading pretrained weights from c:\\Users\\yuchen\\miniconda3\\envs\\py311\\Lib\\site-packages\\unimol_tools\\weights\\modelzoo/310M/checkpoint.pt\n",
      "2025-04-14 21:12:12 | unimol_tools\\models\\nnmodel.py | 282 | INFO | Uni-Mol Tools | start predict NNModel:unimolv2\n",
      "2025-04-14 21:12:12 | unimol_tools\\models\\unimolv2.py | 156 | INFO | Uni-Mol Tools | Loading pretrained weights from ./D\\model_0.pth\n",
      "2025-04-14 21:12:13 | unimol_tools\\tasks\\trainer.py | 579 | INFO | Uni-Mol Tools | load model success!\n",
      "2025-04-14 21:12:19 | unimol_tools\\predict.py | 103 | INFO | Uni-Mol Tools | final predict metrics score: \n",
      "{'mse': 0.5668192408693207, 'mae': 0.45463768061060106, 'r2': 0.8226955597581219, 'spearmanr': 0.9190870665232062, 'pearsonr': 0.9140551929820016}\n",
      "2025-04-14 21:12:19 | unimol_tools\\data\\conformer.py | 409 | INFO | Uni-Mol Tools | Start generating conformers...\n",
      "100%|██████████| 31/31 [00:00<00:00, 110.11it/s]\n",
      "2025-04-14 21:12:19 | unimol_tools\\data\\conformer.py | 420 | INFO | Uni-Mol Tools | Succeeded in generating conformers for 100.00% of molecules.\n",
      "2025-04-14 21:12:19 | unimol_tools\\data\\conformer.py | 437 | INFO | Uni-Mol Tools | Succeeded in generating 3d conformers for 96.77% of molecules.\n",
      "2025-04-14 21:12:19 | unimol_tools\\data\\conformer.py | 446 | INFO | Uni-Mol Tools | Failed 3d conformers indices: [12]\n",
      "2025-04-14 21:12:19 | unimol_tools\\tasks\\trainer.py | 77 | INFO | Uni-Mol Tools | Number of GPUs available: 1\n",
      "2025-04-14 21:12:19 | unimol_tools\\tasks\\trainer.py | 97 | INFO | Uni-Mol Tools | Using single GPU.\n",
      "2025-04-14 21:12:21 | unimol_tools\\models\\unimolv2.py | 156 | INFO | Uni-Mol Tools | Loading pretrained weights from c:\\Users\\yuchen\\miniconda3\\envs\\py311\\Lib\\site-packages\\unimol_tools\\weights\\modelzoo/310M/checkpoint.pt\n",
      "2025-04-14 21:12:22 | unimol_tools\\models\\nnmodel.py | 282 | INFO | Uni-Mol Tools | start predict NNModel:unimolv2\n",
      "2025-04-14 21:12:23 | unimol_tools\\models\\unimolv2.py | 156 | INFO | Uni-Mol Tools | Loading pretrained weights from ./D\\model_0.pth\n",
      "2025-04-14 21:12:23 | unimol_tools\\tasks\\trainer.py | 579 | INFO | Uni-Mol Tools | load model success!\n",
      "2025-04-14 21:12:24 | unimol_tools\\predict.py | 103 | INFO | Uni-Mol Tools | final predict metrics score: \n",
      "{'mse': 0.42294940864995706, 'mae': 0.48352584779304747, 'r2': 0.7876749226745519, 'spearmanr': 0.8859076152045574, 'pearsonr': 0.8875178391123241}\n"
     ]
    }
   ],
   "source": [
    "clf_D = MolPredict(load_model=\"./D/exp\")\n",
    "train_D = clf_D.predict(data=train_path)\n",
    "test_D = clf_D.predict(data=test_path)\n",
    "out_D = clf_D.predict(data=out_path)"
   ]
  },
  {
   "cell_type": "code",
   "execution_count": 2,
   "id": "01397ff1",
   "metadata": {},
   "outputs": [
    {
     "data": {
      "text/plain": [
       "2.0803456410385133"
      ]
     },
     "execution_count": 2,
     "metadata": {},
     "output_type": "execute_result"
    }
   ],
   "source": [
    "import numpy as np\n",
    "\n",
    "np.sqrt(4.327837986187943)"
   ]
  },
  {
   "cell_type": "code",
   "execution_count": 3,
   "id": "742b90aa",
   "metadata": {},
   "outputs": [],
   "source": [
    "import pandas as pd\n",
    "\n",
    "# Convert numpy arrays to pandas DataFrames and save as CSV\n",
    "pd.DataFrame(train_D).to_csv(\"results/D/train_data_D.csv\", index=False)\n",
    "pd.DataFrame(test_D).to_csv(\"results/D/test_data_D.csv\", index=False)\n",
    "pd.DataFrame(out_D).to_csv(\"results/D/data_out_feats_D.csv\", index=False)"
   ]
  },
  {
   "cell_type": "markdown",
   "id": "4c556d96",
   "metadata": {},
   "source": [
    "# P"
   ]
  },
  {
   "cell_type": "code",
   "execution_count": null,
   "id": "833d717a",
   "metadata": {},
   "outputs": [
    {
     "name": "stderr",
     "output_type": "stream",
     "text": [
      "2025-04-14 21:15:04 | unimol_tools\\data\\conformer.py | 409 | INFO | Uni-Mol Tools | Start generating conformers...\n",
      "100%|██████████| 1093/1093 [00:11<00:00, 92.70it/s] \n",
      "2025-04-14 21:15:16 | unimol_tools\\data\\conformer.py | 420 | INFO | Uni-Mol Tools | Succeeded in generating conformers for 99.82% of molecules.\n",
      "2025-04-14 21:15:16 | unimol_tools\\data\\conformer.py | 429 | INFO | Uni-Mol Tools | Failed conformers indices: [979, 1039]\n",
      "2025-04-14 21:15:16 | unimol_tools\\data\\conformer.py | 437 | INFO | Uni-Mol Tools | Succeeded in generating 3d conformers for 99.09% of molecules.\n",
      "2025-04-14 21:15:16 | unimol_tools\\data\\conformer.py | 446 | INFO | Uni-Mol Tools | Failed 3d conformers indices: [5, 28, 395, 470, 650, 964, 970, 979, 1031, 1039]\n",
      "2025-04-14 21:15:16 | unimol_tools\\tasks\\trainer.py | 77 | INFO | Uni-Mol Tools | Number of GPUs available: 1\n",
      "2025-04-14 21:15:16 | unimol_tools\\tasks\\trainer.py | 97 | INFO | Uni-Mol Tools | Using single GPU.\n",
      "2025-04-14 21:15:18 | unimol_tools\\models\\unimolv2.py | 156 | INFO | Uni-Mol Tools | Loading pretrained weights from c:\\Users\\yuchen\\miniconda3\\envs\\py311\\Lib\\site-packages\\unimol_tools\\weights\\modelzoo/310M/checkpoint.pt\n",
      "2025-04-14 21:15:19 | unimol_tools\\models\\nnmodel.py | 282 | INFO | Uni-Mol Tools | start predict NNModel:unimolv2\n",
      "2025-04-14 21:15:19 | unimol_tools\\models\\unimolv2.py | 156 | INFO | Uni-Mol Tools | Loading pretrained weights from ./P\\model_0.pth\n",
      "2025-04-14 21:15:19 | unimol_tools\\tasks\\trainer.py | 579 | INFO | Uni-Mol Tools | load model success!\n",
      "2025-04-14 21:15:45 | unimol_tools\\predict.py | 103 | INFO | Uni-Mol Tools | final predict metrics score: \n",
      "{'mse': 2.105895685382022, 'mae': 1.0740171738671036, 'r2': 0.8879900715841523, 'spearmanr': 0.9324226506488047, 'pearsonr': 0.9434699341216592}\n",
      "2025-04-14 21:15:45 | unimol_tools\\data\\conformer.py | 409 | INFO | Uni-Mol Tools | Start generating conformers...\n",
      "100%|██████████| 274/274 [00:02<00:00, 100.69it/s]\n",
      "2025-04-14 21:15:48 | unimol_tools\\data\\conformer.py | 420 | INFO | Uni-Mol Tools | Succeeded in generating conformers for 100.00% of molecules.\n",
      "2025-04-14 21:15:48 | unimol_tools\\data\\conformer.py | 437 | INFO | Uni-Mol Tools | Succeeded in generating 3d conformers for 97.81% of molecules.\n",
      "2025-04-14 21:15:48 | unimol_tools\\data\\conformer.py | 446 | INFO | Uni-Mol Tools | Failed 3d conformers indices: [8, 24, 81, 144, 208, 217]\n",
      "2025-04-14 21:15:48 | unimol_tools\\tasks\\trainer.py | 77 | INFO | Uni-Mol Tools | Number of GPUs available: 1\n",
      "2025-04-14 21:15:48 | unimol_tools\\tasks\\trainer.py | 97 | INFO | Uni-Mol Tools | Using single GPU.\n",
      "2025-04-14 21:15:50 | unimol_tools\\models\\unimolv2.py | 156 | INFO | Uni-Mol Tools | Loading pretrained weights from c:\\Users\\yuchen\\miniconda3\\envs\\py311\\Lib\\site-packages\\unimol_tools\\weights\\modelzoo/310M/checkpoint.pt\n",
      "2025-04-14 21:15:51 | unimol_tools\\models\\nnmodel.py | 282 | INFO | Uni-Mol Tools | start predict NNModel:unimolv2\n",
      "2025-04-14 21:15:52 | unimol_tools\\models\\unimolv2.py | 156 | INFO | Uni-Mol Tools | Loading pretrained weights from ./P\\model_0.pth\n",
      "2025-04-14 21:15:53 | unimol_tools\\tasks\\trainer.py | 579 | INFO | Uni-Mol Tools | load model success!\n",
      "2025-04-14 21:15:59 | unimol_tools\\predict.py | 103 | INFO | Uni-Mol Tools | final predict metrics score: \n",
      "{'mse': 5.327963733231491, 'mae': 1.638932159782326, 'r2': 0.6911219094360783, 'spearmanr': 0.8203270522438307, 'pearsonr': 0.8331741513258897}\n",
      "2025-04-14 21:15:59 | unimol_tools\\data\\conformer.py | 409 | INFO | Uni-Mol Tools | Start generating conformers...\n",
      "100%|██████████| 31/31 [00:00<00:00, 107.56it/s]\n",
      "2025-04-14 21:15:59 | unimol_tools\\data\\conformer.py | 420 | INFO | Uni-Mol Tools | Succeeded in generating conformers for 100.00% of molecules.\n",
      "2025-04-14 21:15:59 | unimol_tools\\data\\conformer.py | 437 | INFO | Uni-Mol Tools | Succeeded in generating 3d conformers for 96.77% of molecules.\n",
      "2025-04-14 21:15:59 | unimol_tools\\data\\conformer.py | 446 | INFO | Uni-Mol Tools | Failed 3d conformers indices: [12]\n",
      "2025-04-14 21:15:59 | unimol_tools\\tasks\\trainer.py | 77 | INFO | Uni-Mol Tools | Number of GPUs available: 1\n",
      "2025-04-14 21:15:59 | unimol_tools\\tasks\\trainer.py | 97 | INFO | Uni-Mol Tools | Using single GPU.\n",
      "2025-04-14 21:16:02 | unimol_tools\\models\\unimolv2.py | 156 | INFO | Uni-Mol Tools | Loading pretrained weights from c:\\Users\\yuchen\\miniconda3\\envs\\py311\\Lib\\site-packages\\unimol_tools\\weights\\modelzoo/310M/checkpoint.pt\n",
      "2025-04-14 21:16:02 | unimol_tools\\models\\nnmodel.py | 282 | INFO | Uni-Mol Tools | start predict NNModel:unimolv2\n",
      "2025-04-14 21:16:03 | unimol_tools\\models\\unimolv2.py | 156 | INFO | Uni-Mol Tools | Loading pretrained weights from ./P\\model_0.pth\n",
      "2025-04-14 21:16:03 | unimol_tools\\tasks\\trainer.py | 579 | INFO | Uni-Mol Tools | load model success!\n",
      "2025-04-14 21:16:04 | unimol_tools\\predict.py | 103 | INFO | Uni-Mol Tools | final predict metrics score: \n",
      "{'mse': 4.327837986187943, 'mae': 1.4031485946716802, 'r2': 0.8435124287899596, 'spearmanr': 0.9121182249270624, 'pearsonr': 0.9240783760039685}\n"
     ]
    }
   ],
   "source": [
    "clf_P = MolPredict(load_model=\"./P/exp\")\n",
    "train_P = clf_P.predict(data=train_path)\n",
    "test_P = clf_P.predict(data=test_path)\n",
    "out_P = clf_P.predict(data=out_path)"
   ]
  },
  {
   "cell_type": "code",
   "execution_count": 5,
   "id": "1f278141",
   "metadata": {},
   "outputs": [],
   "source": [
    "import pandas as pd\n",
    "\n",
    "# Convert numpy arrays to pandas DataFrames and save as CSV\n",
    "pd.DataFrame(train_P).to_csv(\"results/P/train_data_P.csv\", index=False)\n",
    "pd.DataFrame(test_P).to_csv(\"results/P/test_data_P.csv\", index=False)\n",
    "pd.DataFrame(out_P).to_csv(\"results/P/data_out_feats_P.csv\", index=False)"
   ]
  },
  {
   "cell_type": "markdown",
   "id": "ee2631d1",
   "metadata": {},
   "source": [
    "# H"
   ]
  },
  {
   "cell_type": "code",
   "execution_count": 6,
   "id": "3e060545",
   "metadata": {},
   "outputs": [
    {
     "name": "stderr",
     "output_type": "stream",
     "text": [
      "2025-04-14 21:13:24 | unimol_tools\\data\\conformer.py | 409 | INFO | Uni-Mol Tools | Start generating conformers...\n",
      "100%|██████████| 1093/1093 [00:12<00:00, 87.25it/s] \n",
      "2025-04-14 21:13:36 | unimol_tools\\data\\conformer.py | 420 | INFO | Uni-Mol Tools | Succeeded in generating conformers for 99.82% of molecules.\n",
      "2025-04-14 21:13:36 | unimol_tools\\data\\conformer.py | 429 | INFO | Uni-Mol Tools | Failed conformers indices: [979, 1039]\n",
      "2025-04-14 21:13:36 | unimol_tools\\data\\conformer.py | 437 | INFO | Uni-Mol Tools | Succeeded in generating 3d conformers for 99.09% of molecules.\n",
      "2025-04-14 21:13:36 | unimol_tools\\data\\conformer.py | 446 | INFO | Uni-Mol Tools | Failed 3d conformers indices: [5, 28, 395, 470, 650, 964, 970, 979, 1031, 1039]\n",
      "2025-04-14 21:13:36 | unimol_tools\\tasks\\trainer.py | 77 | INFO | Uni-Mol Tools | Number of GPUs available: 1\n",
      "2025-04-14 21:13:36 | unimol_tools\\tasks\\trainer.py | 97 | INFO | Uni-Mol Tools | Using single GPU.\n",
      "2025-04-14 21:13:38 | unimol_tools\\models\\unimolv2.py | 156 | INFO | Uni-Mol Tools | Loading pretrained weights from c:\\Users\\yuchen\\miniconda3\\envs\\py311\\Lib\\site-packages\\unimol_tools\\weights\\modelzoo/310M/checkpoint.pt\n",
      "2025-04-14 21:13:39 | unimol_tools\\models\\nnmodel.py | 282 | INFO | Uni-Mol Tools | start predict NNModel:unimolv2\n",
      "2025-04-14 21:13:39 | unimol_tools\\models\\unimolv2.py | 156 | INFO | Uni-Mol Tools | Loading pretrained weights from ./H/exp\\model_0.pth\n",
      "2025-04-14 21:13:40 | unimol_tools\\tasks\\trainer.py | 579 | INFO | Uni-Mol Tools | load model success!\n",
      "2025-04-14 21:14:06 | unimol_tools\\predict.py | 103 | INFO | Uni-Mol Tools | final predict metrics score: \n",
      "{'mse': 0.1337683938397104, 'mae': 0.1845986272041896, 'r2': 0.9960544661907405, 'spearmanr': 0.9988273115302883, 'pearsonr': 0.9981326487982223}\n",
      "2025-04-14 21:14:07 | unimol_tools\\data\\conformer.py | 409 | INFO | Uni-Mol Tools | Start generating conformers...\n",
      "100%|██████████| 274/274 [00:02<00:00, 103.60it/s]\n",
      "2025-04-14 21:14:09 | unimol_tools\\data\\conformer.py | 420 | INFO | Uni-Mol Tools | Succeeded in generating conformers for 100.00% of molecules.\n",
      "2025-04-14 21:14:09 | unimol_tools\\data\\conformer.py | 437 | INFO | Uni-Mol Tools | Succeeded in generating 3d conformers for 97.81% of molecules.\n",
      "2025-04-14 21:14:09 | unimol_tools\\data\\conformer.py | 446 | INFO | Uni-Mol Tools | Failed 3d conformers indices: [8, 24, 81, 144, 208, 217]\n",
      "2025-04-14 21:14:09 | unimol_tools\\tasks\\trainer.py | 77 | INFO | Uni-Mol Tools | Number of GPUs available: 1\n",
      "2025-04-14 21:14:09 | unimol_tools\\tasks\\trainer.py | 97 | INFO | Uni-Mol Tools | Using single GPU.\n",
      "2025-04-14 21:14:12 | unimol_tools\\models\\unimolv2.py | 156 | INFO | Uni-Mol Tools | Loading pretrained weights from c:\\Users\\yuchen\\miniconda3\\envs\\py311\\Lib\\site-packages\\unimol_tools\\weights\\modelzoo/310M/checkpoint.pt\n",
      "2025-04-14 21:14:13 | unimol_tools\\models\\nnmodel.py | 282 | INFO | Uni-Mol Tools | start predict NNModel:unimolv2\n",
      "2025-04-14 21:14:13 | unimol_tools\\models\\unimolv2.py | 156 | INFO | Uni-Mol Tools | Loading pretrained weights from ./H/exp\\model_0.pth\n",
      "2025-04-14 21:14:14 | unimol_tools\\tasks\\trainer.py | 579 | INFO | Uni-Mol Tools | load model success!\n",
      "2025-04-14 21:14:20 | unimol_tools\\predict.py | 103 | INFO | Uni-Mol Tools | final predict metrics score: \n",
      "{'mse': 2.9352215710430682, 'mae': 1.118224549880863, 'r2': 0.8518250104185392, 'spearmanr': 0.918175138710972, 'pearsonr': 0.9270372356198808}\n",
      "2025-04-14 21:14:20 | unimol_tools\\data\\conformer.py | 409 | INFO | Uni-Mol Tools | Start generating conformers...\n",
      "100%|██████████| 31/31 [00:00<00:00, 106.47it/s]\n",
      "2025-04-14 21:14:20 | unimol_tools\\data\\conformer.py | 420 | INFO | Uni-Mol Tools | Succeeded in generating conformers for 100.00% of molecules.\n",
      "2025-04-14 21:14:20 | unimol_tools\\data\\conformer.py | 437 | INFO | Uni-Mol Tools | Succeeded in generating 3d conformers for 96.77% of molecules.\n",
      "2025-04-14 21:14:20 | unimol_tools\\data\\conformer.py | 446 | INFO | Uni-Mol Tools | Failed 3d conformers indices: [12]\n",
      "2025-04-14 21:14:20 | unimol_tools\\tasks\\trainer.py | 77 | INFO | Uni-Mol Tools | Number of GPUs available: 1\n",
      "2025-04-14 21:14:20 | unimol_tools\\tasks\\trainer.py | 97 | INFO | Uni-Mol Tools | Using single GPU.\n",
      "2025-04-14 21:14:23 | unimol_tools\\models\\unimolv2.py | 156 | INFO | Uni-Mol Tools | Loading pretrained weights from c:\\Users\\yuchen\\miniconda3\\envs\\py311\\Lib\\site-packages\\unimol_tools\\weights\\modelzoo/310M/checkpoint.pt\n",
      "2025-04-14 21:14:23 | unimol_tools\\models\\nnmodel.py | 282 | INFO | Uni-Mol Tools | start predict NNModel:unimolv2\n",
      "2025-04-14 21:14:24 | unimol_tools\\models\\unimolv2.py | 156 | INFO | Uni-Mol Tools | Loading pretrained weights from ./H/exp\\model_0.pth\n",
      "2025-04-14 21:14:25 | unimol_tools\\tasks\\trainer.py | 579 | INFO | Uni-Mol Tools | load model success!\n",
      "2025-04-14 21:14:25 | unimol_tools\\predict.py | 103 | INFO | Uni-Mol Tools | final predict metrics score: \n",
      "{'mse': 2.03292165794779, 'mae': 1.0427361392301895, 'r2': 0.9625490695142098, 'spearmanr': 0.9409986067909386, 'pearsonr': 0.983569625084171}\n"
     ]
    }
   ],
   "source": [
    "clf_H = MolPredict(load_model=\"./H/exp\")\n",
    "train_H = clf_H.predict(data=train_path)\n",
    "test_H = clf_H.predict(data=test_path)\n",
    "out_H = clf_H.predict(data=out_path)"
   ]
  },
  {
   "cell_type": "code",
   "execution_count": 3,
   "id": "013fdb6f",
   "metadata": {},
   "outputs": [
    {
     "data": {
      "text/plain": [
       "1.425805617167989"
      ]
     },
     "execution_count": 3,
     "metadata": {},
     "output_type": "execute_result"
    }
   ],
   "source": [
    "import numpy as np\n",
    "\n",
    "np.sqrt(2.03292165794779)"
   ]
  },
  {
   "cell_type": "code",
   "execution_count": 7,
   "id": "5b571670",
   "metadata": {},
   "outputs": [],
   "source": [
    "import pandas as pd\n",
    "\n",
    "# Convert numpy arrays to pandas DataFrames and save as CSV\n",
    "pd.DataFrame(train_H).to_csv(\"results/H/train_data_H.csv\", index=False)\n",
    "pd.DataFrame(test_H).to_csv(\"results/H/test_data_H.csv\", index=False)\n",
    "pd.DataFrame(out_H).to_csv(\"results/H/data_out_feats_H.csv\", index=False)"
   ]
  }
 ],
 "metadata": {
  "kernelspec": {
   "display_name": "py311",
   "language": "python",
   "name": "python3"
  },
  "language_info": {
   "codemirror_mode": {
    "name": "ipython",
    "version": 3
   },
   "file_extension": ".py",
   "mimetype": "text/x-python",
   "name": "python",
   "nbconvert_exporter": "python",
   "pygments_lexer": "ipython3",
   "version": "3.11.11"
  }
 },
 "nbformat": 4,
 "nbformat_minor": 5
}
